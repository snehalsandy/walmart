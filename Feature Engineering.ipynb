{
 "cells": [
  {
   "cell_type": "code",
   "execution_count": 4,
   "metadata": {
    "collapsed": true
   },
   "outputs": [],
   "source": [
    "import pandas as pd\n",
    "import numpy as np\n",
    "import re \n",
    "import matplotlib.pyplot as plt\n",
    "import seaborn\n",
    "%matplotlib inline"
   ]
  },
  {
   "cell_type": "code",
   "execution_count": 5,
   "metadata": {},
   "outputs": [],
   "source": [
    "data_original = pd.read_csv(\"train.csv\")"
   ]
  },
  {
   "cell_type": "code",
   "execution_count": 6,
   "metadata": {
    "collapsed": true
   },
   "outputs": [],
   "source": [
    "w_test_data = pd.read_csv(\"test 2 (1).csv\")"
   ]
  },
  {
   "cell_type": "code",
   "execution_count": 7,
   "metadata": {
    "collapsed": true
   },
   "outputs": [],
   "source": [
    "def transform_my_data(data):\n",
    "    \n",
    "    dummies = pd.get_dummies(data.DepartmentDescription)\n",
    "    data[dummies.columns] = dummies \n",
    "    data['Weekday'] = data['Weekday'].map({\"Monday\": 1, \"Tuesday\": 2, \"Wednesday\": 3, \"Thursday\": 4, \"Friday\": 5, \n",
    "                                           \"Saturday\": 6, \"Sunday\": 7})\n",
    "    data_dummies = data.iloc[:,7:]\n",
    "    data_dummies = data_dummies.apply(lambda x: x*data[\"ScanCount\"])\n",
    "    data_dummies = data_dummies.replace(-0,0)\n",
    "\n",
    "    data.loc[data.ScanCount < 0, 'Return'] = 1\n",
    "    data.loc[data.Return != 1, 'Return'] = 0\n",
    "    data = data[[\"TripType\", \"VisitNumber\", \"Weekday\", \"ScanCount\", \"Return\"]]\n",
    "    data = data.rename(columns={\"ScanCount\":\"NumItems\"})\n",
    "    data = pd.concat([data, data_dummies], axis=1)\n",
    "    grouped = data.groupby(\"VisitNumber\")\n",
    "    grouped = grouped.agg({'Weekday': np.max, \"TripType\": np.max, 'NumItems': np.sum, 'Return': np.max, \n",
    "              '1-HR PHOTO': np.sum, 'ACCESSORIES': np.sum,\n",
    "       'AUTOMOTIVE': np.sum, 'BAKERY': np.sum, 'BATH AND SHOWER': np.sum, 'BEAUTY': np.sum, 'BEDDING': np.sum,\n",
    "       'BOOKS AND MAGAZINES': np.sum, 'BOYS WEAR': np.sum, 'BRAS & SHAPEWEAR': np.sum,\n",
    "       'CAMERAS AND SUPPLIES': np.sum, 'CANDY, TOBACCO, COOKIES': np.sum, 'CELEBRATION': np.sum,\n",
    "       'COMM BREAD': np.sum, 'CONCEPT STORES': np.sum, 'COOK AND DINE': np.sum, 'DAIRY': np.sum, 'DSD GROCERY': np.sum,\n",
    "       'ELECTRONICS': np.sum, 'FABRICS AND CRAFTS': np.sum, 'FINANCIAL SERVICES': np.sum,\n",
    "       'FROZEN FOODS': np.sum, 'FURNITURE': np.sum, 'GIRLS WEAR, 4-6X  AND 7-14': np.sum,\n",
    "       'GROCERY DRY GOODS': np.sum, 'HARDWARE': np.sum, 'HEALTH AND BEAUTY AIDS': np.sum, 'HOME DECOR': np.sum,\n",
    "       'HOME MANAGEMENT': np.sum, 'HORTICULTURE AND ACCESS': np.sum,\n",
    "       'HOUSEHOLD CHEMICALS/SUPP': np.sum, 'HOUSEHOLD PAPER GOODS': np.sum,\n",
    "       'IMPULSE MERCHANDISE': np.sum, 'INFANT APPAREL': np.sum, 'INFANT CONSUMABLE HARDLINES': np.sum,\n",
    "       'JEWELRY AND SUNGLASSES': np.sum, 'LADIES SOCKS': np.sum, 'LADIESWEAR': np.sum,\n",
    "       'LARGE HOUSEHOLD GOODS': np.sum, 'LAWN AND GARDEN': np.sum, 'LIQUOR,WINE,BEER': np.sum,\n",
    "       'MEAT - FRESH & FROZEN': np.sum, 'MEDIA AND GAMING': np.sum, 'MENS WEAR': np.sum, 'MENSWEAR': np.sum,\n",
    "       'OFFICE SUPPLIES': np.sum, 'OPTICAL - FRAMES': np.sum, 'OPTICAL - LENSES': np.sum,\n",
    "       'OTHER DEPARTMENTS': np.sum, 'PAINT AND ACCESSORIES': np.sum, 'PERSONAL CARE': np.sum,\n",
    "       'PETS AND SUPPLIES': np.sum, 'PHARMACY OTC': np.sum, 'PHARMACY RX': np.sum,\n",
    "       'PLAYERS AND ELECTRONICS': np.sum, 'PLUS AND MATERNITY': np.sum, 'PRE PACKED DELI': np.sum,\n",
    "       'PRODUCE': np.sum, 'SEAFOOD': np.sum, 'SEASONAL': np.sum, 'SERVICE DELI': np.sum, 'SHEER HOSIERY': np.sum,\n",
    "       'SHOES': np.sum, 'SLEEPWEAR/FOUNDATIONS': np.sum, 'SPORTING GOODS': np.sum,\n",
    "       'SWIMWEAR/OUTERWEAR': np.sum, 'TOYS': np.sum, 'WIRELESS': np.sum})\n",
    "    data = grouped[[\"TripType\", \"Weekday\", \"NumItems\", \"Return\",'1-HR PHOTO', 'ACCESSORIES',\n",
    "           'AUTOMOTIVE', 'BAKERY', 'BATH AND SHOWER', 'BEAUTY', 'BEDDING',\n",
    "           'BOOKS AND MAGAZINES', 'BOYS WEAR', 'BRAS & SHAPEWEAR',\n",
    "           'CAMERAS AND SUPPLIES', 'CANDY, TOBACCO, COOKIES', 'CELEBRATION',\n",
    "           'COMM BREAD', 'CONCEPT STORES', 'COOK AND DINE', 'DAIRY', 'DSD GROCERY',\n",
    "           'ELECTRONICS', 'FABRICS AND CRAFTS', 'FINANCIAL SERVICES',\n",
    "           'FROZEN FOODS', 'FURNITURE', 'GIRLS WEAR, 4-6X  AND 7-14',\n",
    "           'GROCERY DRY GOODS', 'HARDWARE', 'HEALTH AND BEAUTY AIDS', 'HOME DECOR',\n",
    "           'HOME MANAGEMENT', 'HORTICULTURE AND ACCESS',\n",
    "           'HOUSEHOLD CHEMICALS/SUPP', 'HOUSEHOLD PAPER GOODS',\n",
    "           'IMPULSE MERCHANDISE', 'INFANT APPAREL', 'INFANT CONSUMABLE HARDLINES',\n",
    "           'JEWELRY AND SUNGLASSES', 'LADIES SOCKS', 'LADIESWEAR',\n",
    "           'LARGE HOUSEHOLD GOODS', 'LAWN AND GARDEN', 'LIQUOR,WINE,BEER',\n",
    "           'MEAT - FRESH & FROZEN', 'MEDIA AND GAMING', 'MENS WEAR', 'MENSWEAR',\n",
    "           'OFFICE SUPPLIES', 'OPTICAL - FRAMES', 'OPTICAL - LENSES',\n",
    "           'OTHER DEPARTMENTS', 'PAINT AND ACCESSORIES', 'PERSONAL CARE',\n",
    "           'PETS AND SUPPLIES', 'PHARMACY OTC', 'PHARMACY RX',\n",
    "           'PLAYERS AND ELECTRONICS', 'PLUS AND MATERNITY', 'PRE PACKED DELI',\n",
    "           'PRODUCE', 'SEAFOOD', 'SEASONAL', 'SERVICE DELI', 'SHEER HOSIERY',\n",
    "           'SHOES', 'SLEEPWEAR/FOUNDATIONS', 'SPORTING GOODS',\n",
    "           'SWIMWEAR/OUTERWEAR', 'TOYS', 'WIRELESS']]\n",
    "    features = [\"Weekday\", \"NumItems\", \"Return\", 'ACCESSORIES',\n",
    "       'AUTOMOTIVE', 'BAKERY', 'BATH AND SHOWER', 'BEAUTY', 'BEDDING',\n",
    "       'BOOKS AND MAGAZINES', 'BOYS WEAR', 'BRAS & SHAPEWEAR',\n",
    "       'CAMERAS AND SUPPLIES', 'CANDY, TOBACCO, COOKIES', 'CELEBRATION',\n",
    "       'COMM BREAD', 'CONCEPT STORES', 'COOK AND DINE', 'DAIRY', 'DSD GROCERY',\n",
    "       'ELECTRONICS', 'FABRICS AND CRAFTS', 'FINANCIAL SERVICES',\n",
    "       'FROZEN FOODS', 'FURNITURE', 'GIRLS WEAR, 4-6X  AND 7-14',\n",
    "       'GROCERY DRY GOODS', 'HARDWARE', 'HOME DECOR',\n",
    "       'HOME MANAGEMENT', 'HORTICULTURE AND ACCESS',\n",
    "       'HOUSEHOLD CHEMICALS/SUPP', 'HOUSEHOLD PAPER GOODS',\n",
    "       'IMPULSE MERCHANDISE', 'INFANT APPAREL', 'INFANT CONSUMABLE HARDLINES',\n",
    "       'JEWELRY AND SUNGLASSES', 'LADIES SOCKS', 'LADIESWEAR',\n",
    "       'LARGE HOUSEHOLD GOODS', 'LAWN AND GARDEN', 'LIQUOR,WINE,BEER',\n",
    "       'MEAT - FRESH & FROZEN', 'MEDIA AND GAMING', 'MENS WEAR', 'MENSWEAR',\n",
    "       'OFFICE SUPPLIES', 'OPTICAL - FRAMES', 'OPTICAL - LENSES',\n",
    "       'OTHER DEPARTMENTS', 'PAINT AND ACCESSORIES', 'PERSONAL CARE',\n",
    "       'PETS AND SUPPLIES', 'PHARMACY OTC', 'PHARMACY RX',\n",
    "       'PLAYERS AND ELECTRONICS', 'PLUS AND MATERNITY', 'PRE PACKED DELI',\n",
    "       'PRODUCE', 'SEAFOOD', 'SEASONAL', 'SERVICE DELI', 'SHEER HOSIERY',\n",
    "       'SHOES', 'SLEEPWEAR/FOUNDATIONS', 'SPORTING GOODS',\n",
    "       'SWIMWEAR/OUTERWEAR', 'TOYS', 'WIRELESS']\n",
    "    data['TripType'] = data['TripType'].map({3:0, 4:1, 5:2, 6:3, 7:4, 8:5, 9:6, 12:7, 14:8, 15:9,  \n",
    "                                         18:10, 19:11, 20:12, 21:13, 22:14, 23:15, 24:16, 25:17, 26:18,  \n",
    "                                         27:19, 28:20, 29:21, 30:22, 31:23, 32:24, 33:25, 34:26, 35:27, \n",
    "                                         36:28, 37:29, 38:30, 39:31, 40:32, 41:33, 42:34, 43:35, 44:36, 999:37})\n",
    "    return data"
   ]
  },
  {
   "cell_type": "code",
   "execution_count": 8,
   "metadata": {
    "collapsed": true
   },
   "outputs": [],
   "source": [
    "def transform_w_data(data):\n",
    "    dummies = pd.get_dummies(data.DepartmentDescription)\n",
    "    data[dummies.columns] = dummies \n",
    "    data['Weekday'] = data['Weekday'].map({\"Monday\": 1, \"Tuesday\": 2, \"Wednesday\": 3, \"Thursday\": 4, \"Friday\": 5,\n",
    "                                           \"Saturday\": 6, \"Sunday\": 7})\n",
    "    data_dummies = data.iloc[:,7:]\n",
    "    data_dummies = data_dummies.apply(lambda x: x*data[\"ScanCount\"])\n",
    "    data_dummies = data_dummies.replace(-0,0)\n",
    "    data.loc[data.ScanCount < 0, 'Return'] = 1\n",
    "    data.loc[data.Return != 1, 'Return'] = 0\n",
    "    data = data[[\"VisitNumber\", \"Weekday\", \"ScanCount\", \"Return\"]]\n",
    "    data = data.rename(columns={\"ScanCount\":\"NumItems\"})\n",
    "    data = pd.concat([data, data_dummies], axis=1)\n",
    "    grouped = data.groupby(\"VisitNumber\")\n",
    "    grouped = grouped.agg({'Weekday': np.max, 'NumItems': np.sum, 'Return': np.max, \n",
    "                'ACCESSORIES': np.sum,\n",
    "           'AUTOMOTIVE': np.sum, 'BAKERY': np.sum, 'BATH AND SHOWER': np.sum, 'BEAUTY': np.sum, 'BEDDING': np.sum,\n",
    "           'BOOKS AND MAGAZINES': np.sum, 'BOYS WEAR': np.sum, 'BRAS & SHAPEWEAR': np.sum,\n",
    "           'CAMERAS AND SUPPLIES': np.sum, 'CANDY, TOBACCO, COOKIES': np.sum, 'CELEBRATION': np.sum,\n",
    "           'COMM BREAD': np.sum, 'CONCEPT STORES': np.sum, 'COOK AND DINE': np.sum, 'DAIRY': np.sum, 'DSD GROCERY': np.sum,\n",
    "           'ELECTRONICS': np.sum, 'FABRICS AND CRAFTS': np.sum, 'FINANCIAL SERVICES': np.sum,\n",
    "           'FROZEN FOODS': np.sum, 'FURNITURE': np.sum, 'GIRLS WEAR, 4-6X  AND 7-14': np.sum,\n",
    "           'GROCERY DRY GOODS': np.sum, 'HARDWARE': np.sum, 'HOME DECOR': np.sum,\n",
    "           'HOME MANAGEMENT': np.sum, 'HORTICULTURE AND ACCESS': np.sum,\n",
    "           'HOUSEHOLD CHEMICALS/SUPP': np.sum, 'HOUSEHOLD PAPER GOODS': np.sum,\n",
    "           'IMPULSE MERCHANDISE': np.sum, 'INFANT APPAREL': np.sum, 'INFANT CONSUMABLE HARDLINES': np.sum,\n",
    "           'JEWELRY AND SUNGLASSES': np.sum, 'LADIES SOCKS': np.sum, 'LADIESWEAR': np.sum,\n",
    "           'LARGE HOUSEHOLD GOODS': np.sum, 'LAWN AND GARDEN': np.sum, 'LIQUOR,WINE,BEER': np.sum,\n",
    "           'MEAT - FRESH & FROZEN': np.sum, 'MEDIA AND GAMING': np.sum, 'MENS WEAR': np.sum, 'MENSWEAR': np.sum,\n",
    "           'OFFICE SUPPLIES': np.sum, 'OPTICAL - FRAMES': np.sum, 'OPTICAL - LENSES': np.sum,\n",
    "           'OTHER DEPARTMENTS': np.sum, 'PAINT AND ACCESSORIES': np.sum, 'PERSONAL CARE': np.sum,\n",
    "           'PETS AND SUPPLIES': np.sum, 'PHARMACY OTC': np.sum, 'PHARMACY RX': np.sum,\n",
    "           'PLAYERS AND ELECTRONICS': np.sum, 'PLUS AND MATERNITY': np.sum, 'PRE PACKED DELI': np.sum,\n",
    "           'PRODUCE': np.sum, 'SEAFOOD': np.sum, 'SEASONAL': np.sum, 'SERVICE DELI': np.sum, 'SHEER HOSIERY': np.sum,\n",
    "           'SHOES': np.sum, 'SLEEPWEAR/FOUNDATIONS': np.sum, 'SPORTING GOODS': np.sum,\n",
    "           'SWIMWEAR/OUTERWEAR': np.sum, 'TOYS': np.sum, 'WIRELESS': np.sum})\n",
    "    data = grouped[[\"Weekday\", \"NumItems\", \"Return\", 'ACCESSORIES',\n",
    "               'AUTOMOTIVE', 'BAKERY', 'BATH AND SHOWER', 'BEAUTY', 'BEDDING',\n",
    "               'BOOKS AND MAGAZINES', 'BOYS WEAR', 'BRAS & SHAPEWEAR',\n",
    "               'CAMERAS AND SUPPLIES', 'CANDY, TOBACCO, COOKIES', 'CELEBRATION',\n",
    "               'COMM BREAD', 'CONCEPT STORES', 'COOK AND DINE', 'DAIRY', 'DSD GROCERY',\n",
    "               'ELECTRONICS', 'FABRICS AND CRAFTS', 'FINANCIAL SERVICES',\n",
    "               'FROZEN FOODS', 'FURNITURE', 'GIRLS WEAR, 4-6X  AND 7-14',\n",
    "               'GROCERY DRY GOODS', 'HARDWARE', 'HOME DECOR',\n",
    "               'HOME MANAGEMENT', 'HORTICULTURE AND ACCESS',\n",
    "               'HOUSEHOLD CHEMICALS/SUPP', 'HOUSEHOLD PAPER GOODS',\n",
    "               'IMPULSE MERCHANDISE', 'INFANT APPAREL', 'INFANT CONSUMABLE HARDLINES',\n",
    "               'JEWELRY AND SUNGLASSES', 'LADIES SOCKS', 'LADIESWEAR',\n",
    "               'LARGE HOUSEHOLD GOODS', 'LAWN AND GARDEN', 'LIQUOR,WINE,BEER',\n",
    "               'MEAT - FRESH & FROZEN', 'MEDIA AND GAMING', 'MENS WEAR', 'MENSWEAR',\n",
    "               'OFFICE SUPPLIES', 'OPTICAL - FRAMES', 'OPTICAL - LENSES',\n",
    "               'OTHER DEPARTMENTS', 'PAINT AND ACCESSORIES', 'PERSONAL CARE',\n",
    "               'PETS AND SUPPLIES', 'PHARMACY OTC', 'PHARMACY RX',\n",
    "               'PLAYERS AND ELECTRONICS', 'PLUS AND MATERNITY', 'PRE PACKED DELI',\n",
    "               'PRODUCE', 'SEAFOOD', 'SEASONAL', 'SERVICE DELI', 'SHEER HOSIERY',\n",
    "               'SHOES', 'SLEEPWEAR/FOUNDATIONS', 'SPORTING GOODS',\n",
    "               'SWIMWEAR/OUTERWEAR', 'TOYS', 'WIRELESS']]\n",
    "    #data['TripType'] = data['TripType'].map({3:0, 4:1, 5:2, 6:3, 7:4, 8:5, 9:6, 12:7, 14:8, 15:9,  \n",
    "                                         #18:10, 19:11, 20:12, 21:13, 22:14, 23:15, 24:16, 25:17, 26:18,  \n",
    "                                         #27:19, 28:20, 29:21, 30:22, 31:23, 32:24, 33:25, 34:26, 35:27, \n",
    "                                         #36:28, 37:29, 38:30, 39:31, 40:32, 41:33, 42:34, 43:35, 44:36, 999:37})\n",
    "    return data"
   ]
  },
  {
   "cell_type": "code",
   "execution_count": 9,
   "metadata": {},
   "outputs": [],
   "source": [
    "data = transform_my_data(data_original)"
   ]
  },
  {
   "cell_type": "code",
   "execution_count": 10,
   "metadata": {},
   "outputs": [],
   "source": [
    "def create_sparse_matrix(original_data):\n",
    "    dummies = pd.get_dummies(original_data.FinelineNumber)\n",
    "    dummies = dummies[data_original[data_original.FinelineNumber < 200].FinelineNumber.unique()]\n",
    "    data_visit = original_data[[\"VisitNumber\"]]\n",
    "    dummy_data = pd.concat([dummies, data_visit], axis=1)\n",
    "    dummy_data = dummy_data.groupby(\"VisitNumber\")\n",
    "    total_dummy_data = dummy_data.aggregate(np.sum)\n",
    "\n",
    "    dummies = pd.get_dummies(original_data.FinelineNumber)\n",
    "    for x in range(200,9000,100):\n",
    "        dummies1 = dummies[data_original[(data_original.FinelineNumber >= x) & (data_original.FinelineNumber < x + 100)].FinelineNumber.unique()]\n",
    "        data_visit = original_data[[\"VisitNumber\"]]\n",
    "        dummy_data = pd.concat([dummies1, data_visit], axis=1)\n",
    "        dummy_data = dummy_data.groupby(\"VisitNumber\")\n",
    "        dummy_data = dummy_data.aggregate(np.sum)\n",
    "        total_dummy_data = hstack((total_dummy_data, dummy_data))\n",
    "    return total_dummy_data"
   ]
  },
  {
   "cell_type": "code",
   "execution_count": 11,
   "metadata": {
    "collapsed": true
   },
   "outputs": [],
   "source": [
    "from scipy import sparse"
   ]
  },
  {
   "cell_type": "code",
   "execution_count": 12,
   "metadata": {
    "collapsed": true
   },
   "outputs": [],
   "source": [
    "from scipy.sparse import hstack"
   ]
  },
  {
   "cell_type": "code",
   "execution_count": 13,
   "metadata": {},
   "outputs": [],
   "source": [
    "sparse_matrix_10000 = create_sparse_matrix(data_original)"
   ]
  },
  {
   "cell_type": "code",
   "execution_count": 14,
   "metadata": {},
   "outputs": [
    {
     "data": {
      "text/plain": [
       "<95674x4933 sparse matrix of type '<class 'numpy.float64'>'\n",
       "\twith 525471 stored elements in COOrdinate format>"
      ]
     },
     "execution_count": 14,
     "metadata": {},
     "output_type": "execute_result"
    }
   ],
   "source": [
    "sparse_matrix_10000"
   ]
  },
  {
   "cell_type": "code",
   "execution_count": 15,
   "metadata": {},
   "outputs": [],
   "source": [
    "data_sparse = sparse.bsr_matrix(data)"
   ]
  },
  {
   "cell_type": "code",
   "execution_count": 16,
   "metadata": {
    "collapsed": true
   },
   "outputs": [],
   "source": [
    "data_total = hstack((data_sparse, sparse_matrix_10000))"
   ]
  },
  {
   "cell_type": "code",
   "execution_count": 17,
   "metadata": {},
   "outputs": [
    {
     "data": {
      "text/plain": [
       "<95674x5005 sparse matrix of type '<class 'numpy.float64'>'\n",
       "\twith 1136314 stored elements in COOrdinate format>"
      ]
     },
     "execution_count": 17,
     "metadata": {},
     "output_type": "execute_result"
    }
   ],
   "source": [
    "data_total"
   ]
  },
  {
   "cell_type": "code",
   "execution_count": 18,
   "metadata": {},
   "outputs": [
    {
     "name": "stderr",
     "output_type": "stream",
     "text": [
      "/Users/MattKasle/Matt/.direnv/python-3.5.0/lib/python3.5/site-packages/sklearn/utils/fixes.py:64: DeprecationWarning: inspect.getargspec() is deprecated, use inspect.signature() instead\n",
      "  if 'order' in inspect.getargspec(np.copy)[0]:\n"
     ]
    }
   ],
   "source": [
    "import xgboost as xgb\n",
    "from sklearn.cross_validation import train_test_split\n",
    "from sklearn.metrics import log_loss"
   ]
  },
  {
   "cell_type": "code",
   "execution_count": 19,
   "metadata": {},
   "outputs": [],
   "source": [
    "from numpy import ndarray"
   ]
  },
  {
   "cell_type": "code",
   "execution_count": 20,
   "metadata": {
    "collapsed": true
   },
   "outputs": [],
   "source": [
    "import scipy"
   ]
  },
  {
   "cell_type": "code",
   "execution_count": 21,
   "metadata": {
    "collapsed": true
   },
   "outputs": [],
   "source": [
    "mytrain, mytest = train_test_split(data_total, test_size = .4)"
   ]
  },
  {
   "cell_type": "code",
   "execution_count": 22,
   "metadata": {},
   "outputs": [],
   "source": [
    "dtrain = xgb.DMatrix(np.asarray(scipy.sparse.bsr_matrix.todense(mytrain[:,1:])), \n",
    "                     label = np.asarray(scipy.sparse.bsr_matrix.todense(mytrain[:,0:1])))\n",
    "dtest = xgb.DMatrix(np.asarray(scipy.sparse.bsr_matrix.todense(mytest[:,1:])), \n",
    "                     label = np.asarray(scipy.sparse.bsr_matrix.todense(mytest[:,0:1])))"
   ]
  },
  {
   "cell_type": "code",
   "execution_count": 23,
   "metadata": {
    "collapsed": true
   },
   "outputs": [],
   "source": [
    "num_round = 200\n",
    "param = {'objective': 'multi:softprob', 'num_class':38, \n",
    "         'eval_metric': 'mlogloss', \"max_delta_step\": 5}\n",
    "param1 = {'objective': 'multi:softprob', 'num_class':38, \n",
    "          \"max_delta_step\": 5}\n",
    "watchlist = [(dtrain,'train'), (dtest, 'eval')]"
   ]
  },
  {
   "cell_type": "code",
   "execution_count": 24,
   "metadata": {},
   "outputs": [
    {
     "name": "stderr",
     "output_type": "stream",
     "text": [
      "Will train until eval error hasn't decreased in 3 rounds.\n",
      "[0]\ttrain-mlogloss:2.418286\teval-mlogloss:2.451951\n",
      "[1]\ttrain-mlogloss:1.827536\teval-mlogloss:1.887070\n",
      "[2]\ttrain-mlogloss:1.557440\teval-mlogloss:1.633707\n",
      "[3]\ttrain-mlogloss:1.375843\teval-mlogloss:1.463932\n",
      "[4]\ttrain-mlogloss:1.245261\teval-mlogloss:1.343406\n",
      "[5]\ttrain-mlogloss:1.145715\teval-mlogloss:1.252771\n",
      "[6]\ttrain-mlogloss:1.067957\teval-mlogloss:1.183301\n",
      "[7]\ttrain-mlogloss:1.005965\teval-mlogloss:1.128171\n",
      "[8]\ttrain-mlogloss:0.954837\teval-mlogloss:1.083696\n",
      "[9]\ttrain-mlogloss:0.912663\teval-mlogloss:1.047915\n",
      "[10]\ttrain-mlogloss:0.876510\teval-mlogloss:1.017767\n",
      "[11]\ttrain-mlogloss:0.844441\teval-mlogloss:0.991749\n",
      "[12]\ttrain-mlogloss:0.816946\teval-mlogloss:0.969792\n",
      "[13]\ttrain-mlogloss:0.794031\teval-mlogloss:0.951881\n",
      "[14]\ttrain-mlogloss:0.772917\teval-mlogloss:0.935496\n",
      "[15]\ttrain-mlogloss:0.752720\teval-mlogloss:0.920314\n",
      "[16]\ttrain-mlogloss:0.736034\teval-mlogloss:0.908151\n",
      "[17]\ttrain-mlogloss:0.720725\teval-mlogloss:0.897533\n",
      "[18]\ttrain-mlogloss:0.706753\teval-mlogloss:0.887853\n",
      "[19]\ttrain-mlogloss:0.693889\teval-mlogloss:0.879009\n",
      "[20]\ttrain-mlogloss:0.682353\teval-mlogloss:0.871725\n",
      "[21]\ttrain-mlogloss:0.671529\teval-mlogloss:0.864988\n",
      "[22]\ttrain-mlogloss:0.661487\teval-mlogloss:0.859109\n",
      "[23]\ttrain-mlogloss:0.651527\teval-mlogloss:0.853194\n",
      "[24]\ttrain-mlogloss:0.642616\teval-mlogloss:0.848014\n",
      "[25]\ttrain-mlogloss:0.634598\teval-mlogloss:0.843286\n",
      "[26]\ttrain-mlogloss:0.626870\teval-mlogloss:0.839058\n",
      "[27]\ttrain-mlogloss:0.619311\teval-mlogloss:0.835372\n",
      "[28]\ttrain-mlogloss:0.612351\teval-mlogloss:0.831877\n",
      "[29]\ttrain-mlogloss:0.605835\teval-mlogloss:0.828496\n",
      "[30]\ttrain-mlogloss:0.599465\teval-mlogloss:0.825198\n",
      "[31]\ttrain-mlogloss:0.593323\teval-mlogloss:0.822096\n",
      "[32]\ttrain-mlogloss:0.587440\teval-mlogloss:0.819499\n",
      "[33]\ttrain-mlogloss:0.582058\teval-mlogloss:0.817064\n",
      "[34]\ttrain-mlogloss:0.576813\teval-mlogloss:0.814477\n",
      "[35]\ttrain-mlogloss:0.571369\teval-mlogloss:0.812063\n",
      "[36]\ttrain-mlogloss:0.566456\teval-mlogloss:0.809869\n",
      "[37]\ttrain-mlogloss:0.561815\teval-mlogloss:0.807903\n",
      "[38]\ttrain-mlogloss:0.557067\teval-mlogloss:0.806009\n",
      "[39]\ttrain-mlogloss:0.552730\teval-mlogloss:0.804099\n",
      "[40]\ttrain-mlogloss:0.548566\teval-mlogloss:0.802535\n",
      "[41]\ttrain-mlogloss:0.544541\teval-mlogloss:0.800600\n",
      "[42]\ttrain-mlogloss:0.539907\teval-mlogloss:0.798890\n",
      "[43]\ttrain-mlogloss:0.535933\teval-mlogloss:0.797279\n",
      "[44]\ttrain-mlogloss:0.531957\teval-mlogloss:0.795956\n",
      "[45]\ttrain-mlogloss:0.528583\teval-mlogloss:0.794343\n",
      "[46]\ttrain-mlogloss:0.524605\teval-mlogloss:0.792714\n",
      "[47]\ttrain-mlogloss:0.521060\teval-mlogloss:0.791420\n",
      "[48]\ttrain-mlogloss:0.517772\teval-mlogloss:0.790094\n",
      "[49]\ttrain-mlogloss:0.514311\teval-mlogloss:0.788721\n",
      "[50]\ttrain-mlogloss:0.511282\teval-mlogloss:0.787524\n",
      "[51]\ttrain-mlogloss:0.507930\teval-mlogloss:0.786298\n",
      "[52]\ttrain-mlogloss:0.504712\teval-mlogloss:0.785096\n",
      "[53]\ttrain-mlogloss:0.501590\teval-mlogloss:0.783951\n",
      "[54]\ttrain-mlogloss:0.498604\teval-mlogloss:0.783095\n",
      "[55]\ttrain-mlogloss:0.495436\teval-mlogloss:0.781916\n",
      "[56]\ttrain-mlogloss:0.492605\teval-mlogloss:0.781015\n",
      "[57]\ttrain-mlogloss:0.490003\teval-mlogloss:0.780103\n",
      "[58]\ttrain-mlogloss:0.487237\teval-mlogloss:0.779072\n",
      "[59]\ttrain-mlogloss:0.484487\teval-mlogloss:0.778024\n",
      "[60]\ttrain-mlogloss:0.481790\teval-mlogloss:0.777043\n",
      "[61]\ttrain-mlogloss:0.479306\teval-mlogloss:0.776227\n",
      "[62]\ttrain-mlogloss:0.476356\teval-mlogloss:0.775229\n",
      "[63]\ttrain-mlogloss:0.473784\teval-mlogloss:0.774084\n",
      "[64]\ttrain-mlogloss:0.471464\teval-mlogloss:0.773241\n",
      "[65]\ttrain-mlogloss:0.468933\teval-mlogloss:0.772290\n",
      "[66]\ttrain-mlogloss:0.466498\teval-mlogloss:0.771553\n",
      "[67]\ttrain-mlogloss:0.464061\teval-mlogloss:0.770721\n",
      "[68]\ttrain-mlogloss:0.461641\teval-mlogloss:0.769984\n",
      "[69]\ttrain-mlogloss:0.459206\teval-mlogloss:0.769131\n",
      "[70]\ttrain-mlogloss:0.456951\teval-mlogloss:0.768312\n",
      "[71]\ttrain-mlogloss:0.454668\teval-mlogloss:0.767835\n",
      "[72]\ttrain-mlogloss:0.452389\teval-mlogloss:0.767053\n",
      "[73]\ttrain-mlogloss:0.450008\teval-mlogloss:0.766240\n",
      "[74]\ttrain-mlogloss:0.447915\teval-mlogloss:0.765475\n",
      "[75]\ttrain-mlogloss:0.445724\teval-mlogloss:0.764592\n",
      "[76]\ttrain-mlogloss:0.443792\teval-mlogloss:0.763880\n",
      "[77]\ttrain-mlogloss:0.441683\teval-mlogloss:0.763222\n",
      "[78]\ttrain-mlogloss:0.439604\teval-mlogloss:0.762693\n",
      "[79]\ttrain-mlogloss:0.437738\teval-mlogloss:0.762043\n",
      "[80]\ttrain-mlogloss:0.435806\teval-mlogloss:0.761555\n",
      "[81]\ttrain-mlogloss:0.433875\teval-mlogloss:0.761051\n",
      "[82]\ttrain-mlogloss:0.431996\teval-mlogloss:0.760566\n",
      "[83]\ttrain-mlogloss:0.430186\teval-mlogloss:0.759905\n",
      "[84]\ttrain-mlogloss:0.428357\teval-mlogloss:0.759405\n",
      "[85]\ttrain-mlogloss:0.426487\teval-mlogloss:0.758843\n",
      "[86]\ttrain-mlogloss:0.424670\teval-mlogloss:0.758292\n",
      "[87]\ttrain-mlogloss:0.422781\teval-mlogloss:0.757641\n",
      "[88]\ttrain-mlogloss:0.421047\teval-mlogloss:0.757312\n",
      "[89]\ttrain-mlogloss:0.419046\teval-mlogloss:0.756893\n",
      "[90]\ttrain-mlogloss:0.417337\teval-mlogloss:0.756527\n",
      "[91]\ttrain-mlogloss:0.415563\teval-mlogloss:0.756126\n",
      "[92]\ttrain-mlogloss:0.413882\teval-mlogloss:0.755837\n",
      "[93]\ttrain-mlogloss:0.412150\teval-mlogloss:0.755438\n",
      "[94]\ttrain-mlogloss:0.410290\teval-mlogloss:0.755009\n",
      "[95]\ttrain-mlogloss:0.408293\teval-mlogloss:0.754384\n",
      "[96]\ttrain-mlogloss:0.406624\teval-mlogloss:0.753855\n",
      "[97]\ttrain-mlogloss:0.404971\teval-mlogloss:0.753501\n",
      "[98]\ttrain-mlogloss:0.403301\teval-mlogloss:0.753118\n",
      "[99]\ttrain-mlogloss:0.401553\teval-mlogloss:0.752724\n",
      "[100]\ttrain-mlogloss:0.399949\teval-mlogloss:0.752443\n",
      "[101]\ttrain-mlogloss:0.398292\teval-mlogloss:0.752208\n",
      "[102]\ttrain-mlogloss:0.396627\teval-mlogloss:0.751819\n",
      "[103]\ttrain-mlogloss:0.394987\teval-mlogloss:0.751384\n",
      "[104]\ttrain-mlogloss:0.393491\teval-mlogloss:0.750928\n",
      "[105]\ttrain-mlogloss:0.391861\teval-mlogloss:0.750564\n",
      "[106]\ttrain-mlogloss:0.390330\teval-mlogloss:0.750251\n",
      "[107]\ttrain-mlogloss:0.388685\teval-mlogloss:0.749909\n",
      "[108]\ttrain-mlogloss:0.387193\teval-mlogloss:0.749509\n",
      "[109]\ttrain-mlogloss:0.385863\teval-mlogloss:0.749140\n",
      "[110]\ttrain-mlogloss:0.384492\teval-mlogloss:0.748938\n",
      "[111]\ttrain-mlogloss:0.383193\teval-mlogloss:0.748871\n",
      "[112]\ttrain-mlogloss:0.381678\teval-mlogloss:0.748645\n",
      "[113]\ttrain-mlogloss:0.380243\teval-mlogloss:0.748334\n",
      "[114]\ttrain-mlogloss:0.378798\teval-mlogloss:0.748188\n",
      "[115]\ttrain-mlogloss:0.377374\teval-mlogloss:0.747889\n",
      "[116]\ttrain-mlogloss:0.375943\teval-mlogloss:0.747553\n",
      "[117]\ttrain-mlogloss:0.374723\teval-mlogloss:0.747358\n",
      "[118]\ttrain-mlogloss:0.373441\teval-mlogloss:0.746982\n",
      "[119]\ttrain-mlogloss:0.371971\teval-mlogloss:0.746749\n",
      "[120]\ttrain-mlogloss:0.370446\teval-mlogloss:0.746456\n",
      "[121]\ttrain-mlogloss:0.369159\teval-mlogloss:0.746179\n",
      "[122]\ttrain-mlogloss:0.367871\teval-mlogloss:0.745939\n",
      "[123]\ttrain-mlogloss:0.366521\teval-mlogloss:0.745675\n",
      "[124]\ttrain-mlogloss:0.365180\teval-mlogloss:0.745324\n",
      "[125]\ttrain-mlogloss:0.363920\teval-mlogloss:0.745004\n",
      "[126]\ttrain-mlogloss:0.362887\teval-mlogloss:0.744746\n",
      "[127]\ttrain-mlogloss:0.361691\teval-mlogloss:0.744654\n",
      "[128]\ttrain-mlogloss:0.360496\teval-mlogloss:0.744509\n",
      "[129]\ttrain-mlogloss:0.359216\teval-mlogloss:0.744337\n",
      "[130]\ttrain-mlogloss:0.358086\teval-mlogloss:0.744276\n",
      "[131]\ttrain-mlogloss:0.356912\teval-mlogloss:0.744079\n",
      "[132]\ttrain-mlogloss:0.355581\teval-mlogloss:0.743943\n",
      "[133]\ttrain-mlogloss:0.354387\teval-mlogloss:0.743869\n",
      "[134]\ttrain-mlogloss:0.353245\teval-mlogloss:0.743707\n",
      "[135]\ttrain-mlogloss:0.351891\teval-mlogloss:0.743503\n",
      "[136]\ttrain-mlogloss:0.350799\teval-mlogloss:0.743257\n",
      "[137]\ttrain-mlogloss:0.349477\teval-mlogloss:0.742960\n",
      "[138]\ttrain-mlogloss:0.348323\teval-mlogloss:0.742876\n",
      "[139]\ttrain-mlogloss:0.347211\teval-mlogloss:0.742814\n",
      "[140]\ttrain-mlogloss:0.346031\teval-mlogloss:0.742438\n",
      "[141]\ttrain-mlogloss:0.344862\teval-mlogloss:0.742337\n",
      "[142]\ttrain-mlogloss:0.343794\teval-mlogloss:0.742213\n",
      "[143]\ttrain-mlogloss:0.342784\teval-mlogloss:0.742046\n",
      "[144]\ttrain-mlogloss:0.341609\teval-mlogloss:0.741945\n",
      "[145]\ttrain-mlogloss:0.340421\teval-mlogloss:0.741750\n",
      "[146]\ttrain-mlogloss:0.339347\teval-mlogloss:0.741683\n",
      "[147]\ttrain-mlogloss:0.338251\teval-mlogloss:0.741488\n",
      "[148]\ttrain-mlogloss:0.337110\teval-mlogloss:0.741257\n",
      "[149]\ttrain-mlogloss:0.336022\teval-mlogloss:0.741188\n",
      "[150]\ttrain-mlogloss:0.334896\teval-mlogloss:0.741090\n",
      "[151]\ttrain-mlogloss:0.333828\teval-mlogloss:0.741005\n",
      "[152]\ttrain-mlogloss:0.332826\teval-mlogloss:0.740960\n",
      "[153]\ttrain-mlogloss:0.331769\teval-mlogloss:0.740848\n",
      "[154]\ttrain-mlogloss:0.330613\teval-mlogloss:0.740722\n",
      "[155]\ttrain-mlogloss:0.329645\teval-mlogloss:0.740645\n",
      "[156]\ttrain-mlogloss:0.328666\teval-mlogloss:0.740380\n",
      "[157]\ttrain-mlogloss:0.327647\teval-mlogloss:0.740359\n",
      "[158]\ttrain-mlogloss:0.326671\teval-mlogloss:0.740212\n",
      "[159]\ttrain-mlogloss:0.325612\teval-mlogloss:0.740125\n",
      "[160]\ttrain-mlogloss:0.324572\teval-mlogloss:0.740047\n",
      "[161]\ttrain-mlogloss:0.323510\teval-mlogloss:0.739869\n",
      "[162]\ttrain-mlogloss:0.322511\teval-mlogloss:0.739744\n",
      "[163]\ttrain-mlogloss:0.321529\teval-mlogloss:0.739670\n",
      "[164]\ttrain-mlogloss:0.320536\teval-mlogloss:0.739605\n",
      "[165]\ttrain-mlogloss:0.319729\teval-mlogloss:0.739488\n",
      "[166]\ttrain-mlogloss:0.318880\teval-mlogloss:0.739327\n",
      "[167]\ttrain-mlogloss:0.318028\teval-mlogloss:0.739252\n",
      "[168]\ttrain-mlogloss:0.317200\teval-mlogloss:0.739138\n",
      "[169]\ttrain-mlogloss:0.316388\teval-mlogloss:0.739192\n",
      "[170]\ttrain-mlogloss:0.315401\teval-mlogloss:0.739103\n",
      "[171]\ttrain-mlogloss:0.314411\teval-mlogloss:0.738921\n",
      "[172]\ttrain-mlogloss:0.313352\teval-mlogloss:0.738820\n",
      "[173]\ttrain-mlogloss:0.312461\teval-mlogloss:0.738883\n",
      "[174]\ttrain-mlogloss:0.311645\teval-mlogloss:0.738945\n",
      "[175]\ttrain-mlogloss:0.310802\teval-mlogloss:0.738939\n",
      "Stopping. Best iteration:\n",
      "[172]\ttrain-mlogloss:0.313352\teval-mlogloss:0.738820\n",
      "\n"
     ]
    }
   ],
   "source": [
    "bst = xgb.train(param, dtrain, num_round, watchlist, \n",
    "                early_stopping_rounds=3)"
   ]
  },
  {
   "cell_type": "code",
   "execution_count": 25,
   "metadata": {},
   "outputs": [],
   "source": [
    "my_test = xgb.DMatrix(np.asarray(scipy.sparse.bsr_matrix.todense(mytest)[:,1:]))\n",
    "test_predictions = bst.predict(my_test)"
   ]
  },
  {
   "cell_type": "code",
   "execution_count": 26,
   "metadata": {},
   "outputs": [
    {
     "data": {
      "text/plain": [
       "0.73895"
      ]
     },
     "execution_count": 26,
     "metadata": {},
     "output_type": "execute_result"
    }
   ],
   "source": [
    "log_loss(scipy.sparse.bsr_matrix.todense(mytest[:,0:1]), test_predictions).round(5)"
   ]
  },
  {
   "cell_type": "code",
   "execution_count": 27,
   "metadata": {},
   "outputs": [
    {
     "name": "stderr",
     "output_type": "stream",
     "text": [
      "Will train until eval error hasn't decreased in 3 rounds.\n",
      "[0]\ttrain-merror:0.427113\teval-merror:0.440397\n",
      "[1]\ttrain-merror:0.331040\teval-merror:0.356624\n",
      "[2]\ttrain-merror:0.298254\teval-merror:0.329240\n",
      "[3]\ttrain-merror:0.282280\teval-merror:0.316749\n",
      "[4]\ttrain-merror:0.274563\teval-merror:0.311706\n",
      "[5]\ttrain-merror:0.269180\teval-merror:0.309093\n",
      "[6]\ttrain-merror:0.260766\teval-merror:0.303554\n",
      "[7]\ttrain-merror:0.257439\teval-merror:0.301280\n",
      "[8]\ttrain-merror:0.253937\teval-merror:0.299582\n",
      "[9]\ttrain-merror:0.249181\teval-merror:0.297779\n",
      "[10]\ttrain-merror:0.245558\teval-merror:0.295924\n",
      "[11]\ttrain-merror:0.240175\teval-merror:0.292292\n",
      "[12]\ttrain-merror:0.236029\teval-merror:0.290123\n",
      "[13]\ttrain-merror:0.232196\teval-merror:0.287510\n",
      "[14]\ttrain-merror:0.227754\teval-merror:0.285446\n",
      "[15]\ttrain-merror:0.224375\teval-merror:0.283825\n",
      "[16]\ttrain-merror:0.221518\teval-merror:0.282493\n",
      "[17]\ttrain-merror:0.219148\teval-merror:0.281552\n",
      "[18]\ttrain-merror:0.216832\teval-merror:0.280873\n",
      "[19]\ttrain-merror:0.213800\teval-merror:0.279122\n",
      "[20]\ttrain-merror:0.210351\teval-merror:0.277554\n",
      "[21]\ttrain-merror:0.207668\teval-merror:0.276614\n",
      "[22]\ttrain-merror:0.205195\teval-merror:0.276326\n",
      "[23]\ttrain-merror:0.201885\teval-merror:0.275490\n",
      "[24]\ttrain-merror:0.198784\teval-merror:0.275150\n",
      "[25]\ttrain-merror:0.196607\teval-merror:0.274157\n",
      "[26]\ttrain-merror:0.194255\teval-merror:0.273138\n",
      "[27]\ttrain-merror:0.192008\teval-merror:0.272407\n",
      "[28]\ttrain-merror:0.189203\teval-merror:0.271492\n",
      "[29]\ttrain-merror:0.186938\teval-merror:0.270656\n",
      "[30]\ttrain-merror:0.184569\teval-merror:0.269924\n",
      "[31]\ttrain-merror:0.182496\teval-merror:0.269271\n",
      "[32]\ttrain-merror:0.180214\teval-merror:0.269402\n",
      "[33]\ttrain-merror:0.178280\teval-merror:0.268775\n",
      "[34]\ttrain-merror:0.176834\teval-merror:0.267703\n",
      "[35]\ttrain-merror:0.174953\teval-merror:0.266710\n",
      "[36]\ttrain-merror:0.173106\teval-merror:0.265926\n",
      "[37]\ttrain-merror:0.170789\teval-merror:0.265691\n",
      "[38]\ttrain-merror:0.169100\teval-merror:0.265273\n",
      "[39]\ttrain-merror:0.167689\teval-merror:0.265378\n",
      "[40]\ttrain-merror:0.165807\teval-merror:0.264698\n",
      "[41]\ttrain-merror:0.164884\teval-merror:0.264254\n",
      "[42]\ttrain-merror:0.163212\teval-merror:0.263209\n",
      "[43]\ttrain-merror:0.161731\teval-merror:0.263339\n",
      "[44]\ttrain-merror:0.159954\teval-merror:0.262895\n",
      "[45]\ttrain-merror:0.159066\teval-merror:0.262294\n",
      "[46]\ttrain-merror:0.157898\teval-merror:0.261928\n",
      "[47]\ttrain-merror:0.156609\teval-merror:0.261772\n",
      "[48]\ttrain-merror:0.155581\teval-merror:0.261275\n",
      "[49]\ttrain-merror:0.154554\teval-merror:0.261615\n",
      "[50]\ttrain-merror:0.153700\teval-merror:0.261536\n",
      "[51]\ttrain-merror:0.152272\teval-merror:0.260726\n",
      "[52]\ttrain-merror:0.151470\teval-merror:0.260361\n",
      "[53]\ttrain-merror:0.150146\teval-merror:0.259916\n",
      "[54]\ttrain-merror:0.149084\teval-merror:0.259472\n",
      "[55]\ttrain-merror:0.147638\teval-merror:0.259054\n",
      "[56]\ttrain-merror:0.146976\teval-merror:0.259498\n",
      "[57]\ttrain-merror:0.146018\teval-merror:0.259498\n",
      "[58]\ttrain-merror:0.145234\teval-merror:0.259237\n",
      "Stopping. Best iteration:\n",
      "[55]\ttrain-merror:0.147638\teval-merror:0.259054\n",
      "\n"
     ]
    }
   ],
   "source": [
    "bst1 = xgb.train(param1, dtrain, num_round, watchlist, \n",
    "                early_stopping_rounds=3)"
   ]
  },
  {
   "cell_type": "markdown",
   "metadata": {},
   "source": [
    "74% accuracy - improving by 2%"
   ]
  },
  {
   "cell_type": "code",
   "execution_count": 28,
   "metadata": {},
   "outputs": [],
   "source": [
    "w_test_data_original = pd.read_csv(\"test 2 (1).csv\")\n",
    "w_test_data = pd.read_csv(\"test 2 (1).csv\")\n"
   ]
  },
  {
   "cell_type": "code",
   "execution_count": 29,
   "metadata": {},
   "outputs": [],
   "source": [
    "test = transform_w_data(w_test_data)"
   ]
  },
  {
   "cell_type": "code",
   "execution_count": 30,
   "metadata": {
    "collapsed": true
   },
   "outputs": [],
   "source": [
    "def add_category_counts_test(data):\n",
    "    alist = []\n",
    "    for array in np.asarray(data.iloc[:,3:]):\n",
    "        count = 0\n",
    "        for item in array:\n",
    "            if item > 0:\n",
    "                count += 1\n",
    "        alist.append(count)\n",
    "    cat_counts = pd.DataFrame(alist)\n",
    "    cat_counts = cat_counts.rename(columns={0:\"CategoryCount\"})\n",
    "    cat_counts = cat_counts.set_index(data.index)\n",
    "    data.insert(3, 'CategoryCounts', cat_counts)\n",
    "    return data"
   ]
  },
  {
   "cell_type": "code",
   "execution_count": 31,
   "metadata": {
    "collapsed": true
   },
   "outputs": [],
   "source": [
    "test = add_category_counts_test(test)"
   ]
  },
  {
   "cell_type": "code",
   "execution_count": 32,
   "metadata": {
    "collapsed": true
   },
   "outputs": [],
   "source": [
    "test_data_sparse = sparse.bsr_matrix(test)"
   ]
  },
  {
   "cell_type": "code",
   "execution_count": 33,
   "metadata": {},
   "outputs": [],
   "source": [
    "#original_test_data_sparse = create_sparse_matrix(w_test_data_original)"
   ]
  },
  {
   "cell_type": "code",
   "execution_count": 34,
   "metadata": {
    "collapsed": true
   },
   "outputs": [],
   "source": [
    "walmart_test = xgb.DMatrix(np.asarray(test))\n",
    "predictions = bst.predict(walmart_test)"
   ]
  },
  {
   "cell_type": "code",
   "execution_count": 35,
   "metadata": {
    "collapsed": true
   },
   "outputs": [],
   "source": [
    "def predictions_to_csv(test_predictions):\n",
    "    test_predictions = pd.DataFrame(test_predictions)\n",
    "    test_indexes = test.index\n",
    "    test_predictions = test_predictions.rename(columns = {0:\"TripType_3\", 1: \"TripType_4\", 2: \"TripType_5\", 3: \"TripType_6\", \n",
    "                4: \"TripType_7\", 5: \"TripType_8\", 6: \"TripType_9\", 7: \"TripType_12\", 8: \"TripType_14\", \n",
    "                9: \"TripType_15\", 10: \"TripType_18\", 11: \"TripType_19\", 12: \"TripType_20\", 13: \"TripType_21\",\n",
    "                14: \"TripType_22\", 15: \"TripType_23\", 16: \"TripType_24\", 17: \"TripType_25\", 18: \"TripType_26\", \n",
    "                19: \"TripType_27\", 20: \"TripType_28\", 21: \"TripType_29\", 22: \"TripType_30\", 23: \"TripType_31\", \n",
    "                24: \"TripType_32\", 25: \"TripType_33\", 26: \"TripType_34\", 27: \"TripType_35\", 28: \"TripType_36\", \n",
    "                29: \"TripType_37\", 30: \"TripType_38\", 31: \"TripType_39\", 32: \"TripType_40\", 33: \"TripType_41\", \n",
    "                34: \"TripType_42\", 35: \"TripType_43\", 36: \"TripType_44\", 37: \"TripType_999\"})\n",
    "    test_predictions.insert(0, 'VisitNumber', test_indexes)\n",
    "    return test_predictions.to_csv(\"submissions/fifth_fineline_xgb.csv\", index=False)"
   ]
  },
  {
   "cell_type": "code",
   "execution_count": 36,
   "metadata": {
    "collapsed": true
   },
   "outputs": [],
   "source": [
    "def create_sparse_matrix(original_data):\n",
    "    dummies = pd.get_dummies(original_data.FinelineNumber)\n",
    "    dummies = dummies[data_original[data_original.FinelineNumber < 200].FinelineNumber.unique()]\n",
    "    data_visit = original_data[[\"VisitNumber\"]]\n",
    "    dummy_data = pd.concat([dummies, data_visit], axis=1)\n",
    "    dummy_data = dummy_data.groupby(\"VisitNumber\")\n",
    "    total_dummy_data = dummy_data.aggregate(np.sum)\n",
    "\n",
    "    dummies = pd.get_dummies(original_data.FinelineNumber)\n",
    "    for x in range(200,400,100):\n",
    "        dummies1 = dummies[data_original[(data_original.FinelineNumber >= x) & (data_original.FinelineNumber < x + 100)].FinelineNumber.unique()]\n",
    "        data_visit = original_data[[\"VisitNumber\"]]\n",
    "        dummy_data = pd.concat([dummies1, data_visit], axis=1)\n",
    "        dummy_data = dummy_data.groupby(\"VisitNumber\")\n",
    "        dummy_data = dummy_data.aggregate(np.sum)\n",
    "        total_dummy_data = hstack((total_dummy_data, dummy_data))\n",
    "    return total_dummy_data"
   ]
  },
  {
   "cell_type": "code",
   "execution_count": 48,
   "metadata": {
    "collapsed": true
   },
   "outputs": [],
   "source": []
  },
  {
   "cell_type": "code",
   "execution_count": 2,
   "metadata": {},
   "outputs": [
    {
     "ename": "NameError",
     "evalue": "name 'total_dummy_data' is not defined",
     "output_type": "error",
     "traceback": [
      "\u001b[0;31m---------------------------------------------------------------------------\u001b[0m",
      "\u001b[0;31mNameError\u001b[0m                                 Traceback (most recent call last)",
      "\u001b[0;32m<ipython-input-2-f0640c0ea7a9>\u001b[0m in \u001b[0;36m<module>\u001b[0;34m()\u001b[0m\n\u001b[0;32m----> 1\u001b[0;31m \u001b[0mtotal_dummy_data\u001b[0m\u001b[0;34m.\u001b[0m\u001b[0mhead\u001b[0m\u001b[0;34m(\u001b[0m\u001b[0;34m)\u001b[0m\u001b[0;34m\u001b[0m\u001b[0m\n\u001b[0m",
      "\u001b[0;31mNameError\u001b[0m: name 'total_dummy_data' is not defined"
     ]
    }
   ],
   "source": [
    "total_dummy_data.head()"
   ]
  },
  {
   "cell_type": "code",
   "execution_count": 1,
   "metadata": {},
   "outputs": [
    {
     "ename": "NameError",
     "evalue": "name 'dummies' is not defined",
     "output_type": "error",
     "traceback": [
      "\u001b[0;31m---------------------------------------------------------------------------\u001b[0m",
      "\u001b[0;31mNameError\u001b[0m                                 Traceback (most recent call last)",
      "\u001b[0;32m<ipython-input-1-2a6320fc31a1>\u001b[0m in \u001b[0;36m<module>\u001b[0;34m()\u001b[0m\n\u001b[1;32m      1\u001b[0m \u001b[0;31m#dummies = pd.get_dummies(w_test_data_original.FinelineNumber)\u001b[0m\u001b[0;34m\u001b[0m\u001b[0;34m\u001b[0m\u001b[0m\n\u001b[1;32m      2\u001b[0m \u001b[0;32mfor\u001b[0m \u001b[0mx\u001b[0m \u001b[0;32min\u001b[0m \u001b[0mrange\u001b[0m\u001b[0;34m(\u001b[0m\u001b[0;36m300\u001b[0m\u001b[0;34m,\u001b[0m\u001b[0;36m400\u001b[0m\u001b[0;34m,\u001b[0m\u001b[0;36m100\u001b[0m\u001b[0;34m)\u001b[0m\u001b[0;34m:\u001b[0m\u001b[0;34m\u001b[0m\u001b[0m\n\u001b[0;32m----> 3\u001b[0;31m     \u001b[0mdummies1\u001b[0m \u001b[0;34m=\u001b[0m \u001b[0mdummies\u001b[0m\u001b[0;34m[\u001b[0m\u001b[0mw_test_data_original\u001b[0m\u001b[0;34m[\u001b[0m\u001b[0;34m(\u001b[0m\u001b[0mw_test_data_original\u001b[0m\u001b[0;34m.\u001b[0m\u001b[0mFinelineNumber\u001b[0m \u001b[0;34m>=\u001b[0m \u001b[0mx\u001b[0m\u001b[0;34m)\u001b[0m \u001b[0;34m&\u001b[0m \u001b[0;34m(\u001b[0m\u001b[0mw_test_data_original\u001b[0m\u001b[0;34m.\u001b[0m\u001b[0mFinelineNumber\u001b[0m \u001b[0;34m<\u001b[0m \u001b[0mx\u001b[0m \u001b[0;34m+\u001b[0m \u001b[0;36m100\u001b[0m\u001b[0;34m)\u001b[0m\u001b[0;34m]\u001b[0m\u001b[0;34m.\u001b[0m\u001b[0mFinelineNumber\u001b[0m\u001b[0;34m.\u001b[0m\u001b[0munique\u001b[0m\u001b[0;34m(\u001b[0m\u001b[0;34m)\u001b[0m\u001b[0;34m]\u001b[0m\u001b[0;34m\u001b[0m\u001b[0m\n\u001b[0m\u001b[1;32m      4\u001b[0m     \u001b[0mdata_visit\u001b[0m \u001b[0;34m=\u001b[0m \u001b[0mw_test_data_original\u001b[0m\u001b[0;34m[\u001b[0m\u001b[0;34m[\u001b[0m\u001b[0;34m\"VisitNumber\"\u001b[0m\u001b[0;34m]\u001b[0m\u001b[0;34m]\u001b[0m\u001b[0;34m\u001b[0m\u001b[0m\n\u001b[1;32m      5\u001b[0m     \u001b[0mdummy_data\u001b[0m \u001b[0;34m=\u001b[0m \u001b[0mpd\u001b[0m\u001b[0;34m.\u001b[0m\u001b[0mconcat\u001b[0m\u001b[0;34m(\u001b[0m\u001b[0;34m[\u001b[0m\u001b[0mdummies1\u001b[0m\u001b[0;34m,\u001b[0m \u001b[0mdata_visit\u001b[0m\u001b[0;34m]\u001b[0m\u001b[0;34m,\u001b[0m \u001b[0maxis\u001b[0m\u001b[0;34m=\u001b[0m\u001b[0;36m1\u001b[0m\u001b[0;34m)\u001b[0m\u001b[0;34m\u001b[0m\u001b[0m\n",
      "\u001b[0;31mNameError\u001b[0m: name 'dummies' is not defined"
     ]
    }
   ],
   "source": [
    "    #dummies = pd.get_dummies(w_test_data_original.FinelineNumber)\n",
    "    for x in range(300,400,100):\n",
    "        dummies1 = dummies[w_test_data_original[(w_test_data_original.FinelineNumber >= x) & (w_test_data_original.FinelineNumber < x + 100)].FinelineNumber.unique()]\n",
    "        data_visit = w_test_data_original[[\"VisitNumber\"]]\n",
    "        dummy_data = pd.concat([dummies1, data_visit], axis=1)\n",
    "        dummy_data = dummy_data.groupby(\"VisitNumber\")\n",
    "        dummy_data = dummy_data.aggregate(np.sum)\n",
    "        total_dummy_data = hstack((total_dummy_data, dummy_data))"
   ]
  },
  {
   "cell_type": "code",
   "execution_count": 54,
   "metadata": {},
   "outputs": [
    {
     "data": {
      "text/plain": [
       "<95674x272 sparse matrix of type '<class 'numpy.float64'>'\n",
       "\twith 61746 stored elements in COOrdinate format>"
      ]
     },
     "execution_count": 54,
     "metadata": {},
     "output_type": "execute_result"
    }
   ],
   "source": [
    "total_dummy_data"
   ]
  },
  {
   "cell_type": "code",
   "execution_count": null,
   "metadata": {
    "collapsed": true
   },
   "outputs": [],
   "source": []
  }
 ],
 "metadata": {
  "kernelspec": {
   "display_name": "Python 3",
   "language": "python",
   "name": "python3"
  },
  "language_info": {
   "codemirror_mode": {
    "name": "ipython",
    "version": 3
   },
   "file_extension": ".py",
   "mimetype": "text/x-python",
   "name": "python",
   "nbconvert_exporter": "python",
   "pygments_lexer": "ipython3",
   "version": "3.6.8"
  }
 },
 "nbformat": 4,
 "nbformat_minor": 1
}
