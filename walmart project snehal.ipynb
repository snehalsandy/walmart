{
 "cells": [
  {
   "cell_type": "code",
   "execution_count": 1,
   "metadata": {},
   "outputs": [],
   "source": [
    "import pandas as pd\n",
    "import numpy as np\n",
    "import re\n",
    "import matplotlib.pyplot as plt\n",
    "import seaborn\n",
    "%matplotlib inline"
   ]
  },
  {
   "cell_type": "code",
   "execution_count": 2,
   "metadata": {},
   "outputs": [],
   "source": [
    "data=pd.read_csv('train.csv')\n",
    "w_test_data=pd.read_csv(\"test 2 (1).csv\")"
   ]
  },
  {
   "cell_type": "code",
   "execution_count": 3,
   "metadata": {},
   "outputs": [
    {
     "data": {
      "text/html": [
       "<div>\n",
       "<style scoped>\n",
       "    .dataframe tbody tr th:only-of-type {\n",
       "        vertical-align: middle;\n",
       "    }\n",
       "\n",
       "    .dataframe tbody tr th {\n",
       "        vertical-align: top;\n",
       "    }\n",
       "\n",
       "    .dataframe thead th {\n",
       "        text-align: right;\n",
       "    }\n",
       "</style>\n",
       "<table border=\"1\" class=\"dataframe\">\n",
       "  <thead>\n",
       "    <tr style=\"text-align: right;\">\n",
       "      <th></th>\n",
       "      <th>TripType</th>\n",
       "      <th>VisitNumber</th>\n",
       "      <th>Weekday</th>\n",
       "      <th>Upc</th>\n",
       "      <th>ScanCount</th>\n",
       "      <th>DepartmentDescription</th>\n",
       "      <th>FinelineNumber</th>\n",
       "    </tr>\n",
       "  </thead>\n",
       "  <tbody>\n",
       "    <tr>\n",
       "      <th>0</th>\n",
       "      <td>999</td>\n",
       "      <td>5</td>\n",
       "      <td>Friday</td>\n",
       "      <td>6.811315e+10</td>\n",
       "      <td>-1</td>\n",
       "      <td>FINANCIAL SERVICES</td>\n",
       "      <td>1000.0</td>\n",
       "    </tr>\n",
       "    <tr>\n",
       "      <th>1</th>\n",
       "      <td>30</td>\n",
       "      <td>7</td>\n",
       "      <td>Friday</td>\n",
       "      <td>6.053882e+10</td>\n",
       "      <td>1</td>\n",
       "      <td>SHOES</td>\n",
       "      <td>8931.0</td>\n",
       "    </tr>\n",
       "    <tr>\n",
       "      <th>2</th>\n",
       "      <td>30</td>\n",
       "      <td>7</td>\n",
       "      <td>Friday</td>\n",
       "      <td>7.410811e+09</td>\n",
       "      <td>1</td>\n",
       "      <td>PERSONAL CARE</td>\n",
       "      <td>4504.0</td>\n",
       "    </tr>\n",
       "    <tr>\n",
       "      <th>3</th>\n",
       "      <td>26</td>\n",
       "      <td>8</td>\n",
       "      <td>Friday</td>\n",
       "      <td>2.238404e+09</td>\n",
       "      <td>2</td>\n",
       "      <td>PAINT AND ACCESSORIES</td>\n",
       "      <td>3565.0</td>\n",
       "    </tr>\n",
       "    <tr>\n",
       "      <th>4</th>\n",
       "      <td>26</td>\n",
       "      <td>8</td>\n",
       "      <td>Friday</td>\n",
       "      <td>2.006614e+09</td>\n",
       "      <td>2</td>\n",
       "      <td>PAINT AND ACCESSORIES</td>\n",
       "      <td>1017.0</td>\n",
       "    </tr>\n",
       "  </tbody>\n",
       "</table>\n",
       "</div>"
      ],
      "text/plain": [
       "   TripType  VisitNumber Weekday           Upc  ScanCount  \\\n",
       "0       999            5  Friday  6.811315e+10         -1   \n",
       "1        30            7  Friday  6.053882e+10          1   \n",
       "2        30            7  Friday  7.410811e+09          1   \n",
       "3        26            8  Friday  2.238404e+09          2   \n",
       "4        26            8  Friday  2.006614e+09          2   \n",
       "\n",
       "   DepartmentDescription  FinelineNumber  \n",
       "0     FINANCIAL SERVICES          1000.0  \n",
       "1                  SHOES          8931.0  \n",
       "2          PERSONAL CARE          4504.0  \n",
       "3  PAINT AND ACCESSORIES          3565.0  \n",
       "4  PAINT AND ACCESSORIES          1017.0  "
      ]
     },
     "execution_count": 3,
     "metadata": {},
     "output_type": "execute_result"
    }
   ],
   "source": [
    "data.head()"
   ]
  },
  {
   "cell_type": "code",
   "execution_count": 5,
   "metadata": {},
   "outputs": [
    {
     "data": {
      "text/plain": [
       "12161"
      ]
     },
     "execution_count": 5,
     "metadata": {},
     "output_type": "execute_result"
    }
   ],
   "source": [
    "len(data[data.TripType==8].VisitNumber.unique())\n"
   ]
  },
  {
   "cell_type": "code",
   "execution_count": 6,
   "metadata": {},
   "outputs": [
    {
     "data": {
      "text/plain": [
       "TripType                 647054\n",
       "VisitNumber              647054\n",
       "Weekday                  647054\n",
       "Upc                      642925\n",
       "ScanCount                647054\n",
       "DepartmentDescription    645693\n",
       "FinelineNumber           642925\n",
       "dtype: int64"
      ]
     },
     "execution_count": 6,
     "metadata": {},
     "output_type": "execute_result"
    }
   ],
   "source": [
    "data.count()"
   ]
  },
  {
   "cell_type": "code",
   "execution_count": 7,
   "metadata": {},
   "outputs": [
    {
     "data": {
      "text/plain": [
       "array([999,  30,  26,   8,  35,  41,  21,   6,  42,   7,   9,  39,  25,\n",
       "        38,  15,  36,  20,  37,  32,  40,   5,   3,   4,  24,  33,  43,\n",
       "        31,  27,  34,  18,  29,  44,  19,  23,  22,  28,  14,  12],\n",
       "      dtype=int64)"
      ]
     },
     "execution_count": 7,
     "metadata": {},
     "output_type": "execute_result"
    }
   ],
   "source": [
    "data.TripType.unique()"
   ]
  },
  {
   "cell_type": "code",
   "execution_count": 8,
   "metadata": {},
   "outputs": [
    {
     "data": {
      "text/plain": [
       "38"
      ]
     },
     "execution_count": 8,
     "metadata": {},
     "output_type": "execute_result"
    }
   ],
   "source": [
    "len(data.TripType.unique())\n"
   ]
  },
  {
   "cell_type": "code",
   "execution_count": 9,
   "metadata": {},
   "outputs": [
    {
     "data": {
      "text/plain": [
       "95674"
      ]
     },
     "execution_count": 9,
     "metadata": {},
     "output_type": "execute_result"
    }
   ],
   "source": [
    "len(data.VisitNumber.unique())"
   ]
  },
  {
   "cell_type": "code",
   "execution_count": 11,
   "metadata": {},
   "outputs": [
    {
     "data": {
      "text/plain": [
       "191347"
      ]
     },
     "execution_count": 11,
     "metadata": {},
     "output_type": "execute_result"
    }
   ],
   "source": [
    "data.VisitNumber.max()"
   ]
  },
  {
   "cell_type": "code",
   "execution_count": 12,
   "metadata": {},
   "outputs": [
    {
     "data": {
      "text/plain": [
       "5"
      ]
     },
     "execution_count": 12,
     "metadata": {},
     "output_type": "execute_result"
    }
   ],
   "source": [
    "data.VisitNumber.min()"
   ]
  },
  {
   "cell_type": "code",
   "execution_count": 13,
   "metadata": {},
   "outputs": [
    {
     "data": {
      "text/plain": [
       "array([6.81131529e+10, 6.05388160e+10, 7.41081110e+09, ...,\n",
       "       8.85306278e+10, 8.87439527e+10, 5.44000008e+09])"
      ]
     },
     "execution_count": 13,
     "metadata": {},
     "output_type": "execute_result"
    }
   ],
   "source": [
    "data.Upc.unique()"
   ]
  },
  {
   "cell_type": "code",
   "execution_count": 14,
   "metadata": {},
   "outputs": [
    {
     "data": {
      "text/plain": [
       "834.0"
      ]
     },
     "execution_count": 14,
     "metadata": {},
     "output_type": "execute_result"
    }
   ],
   "source": [
    "data.Upc.min()"
   ]
  },
  {
   "cell_type": "code",
   "execution_count": 15,
   "metadata": {},
   "outputs": [
    {
     "data": {
      "text/plain": [
       "978970666419.0"
      ]
     },
     "execution_count": 15,
     "metadata": {},
     "output_type": "execute_result"
    }
   ],
   "source": [
    "data.Upc.max()"
   ]
  },
  {
   "cell_type": "code",
   "execution_count": 16,
   "metadata": {},
   "outputs": [
    {
     "data": {
      "text/plain": [
       "array([ -1,   1,   2,   3,   5,   6,   4,  14,  -2,   9,   7,  10,   8,\n",
       "        -3,  -5,  11,  16,  -4,  13,  15,  30,  -6,  12,  20, -12,  19,\n",
       "        46,  23,  -7,  22,  25,  24,  31,  -9,  51,  17,  18,  71, -10],\n",
       "      dtype=int64)"
      ]
     },
     "execution_count": 16,
     "metadata": {},
     "output_type": "execute_result"
    }
   ],
   "source": [
    "data.ScanCount.unique()"
   ]
  },
  {
   "cell_type": "code",
   "execution_count": 17,
   "metadata": {},
   "outputs": [
    {
     "data": {
      "text/plain": [
       "array(['FINANCIAL SERVICES', 'SHOES', 'PERSONAL CARE',\n",
       "       'PAINT AND ACCESSORIES', 'DSD GROCERY', 'MEAT - FRESH & FROZEN',\n",
       "       'DAIRY', 'PETS AND SUPPLIES', 'HOUSEHOLD CHEMICALS/SUPP', nan,\n",
       "       'IMPULSE MERCHANDISE', 'PRODUCE', 'CANDY, TOBACCO, COOKIES',\n",
       "       'GROCERY DRY GOODS', 'BOYS WEAR', 'FABRICS AND CRAFTS',\n",
       "       'JEWELRY AND SUNGLASSES', 'MENS WEAR', 'ACCESSORIES',\n",
       "       'HOME MANAGEMENT', 'FROZEN FOODS', 'SERVICE DELI',\n",
       "       'INFANT CONSUMABLE HARDLINES', 'PRE PACKED DELI', 'COOK AND DINE',\n",
       "       'PHARMACY OTC', 'LADIESWEAR', 'COMM BREAD', 'BAKERY',\n",
       "       'HOUSEHOLD PAPER GOODS', 'CELEBRATION', 'HARDWARE', 'BEAUTY',\n",
       "       'AUTOMOTIVE', 'BOOKS AND MAGAZINES', 'SEAFOOD', 'OFFICE SUPPLIES',\n",
       "       'LAWN AND GARDEN', 'SHEER HOSIERY', 'WIRELESS', 'BEDDING',\n",
       "       'BATH AND SHOWER', 'HORTICULTURE AND ACCESS', 'HOME DECOR', 'TOYS',\n",
       "       'INFANT APPAREL', 'LADIES SOCKS', 'PLUS AND MATERNITY',\n",
       "       'ELECTRONICS', 'GIRLS WEAR, 4-6X  AND 7-14', 'BRAS & SHAPEWEAR',\n",
       "       'LIQUOR,WINE,BEER', 'SLEEPWEAR/FOUNDATIONS',\n",
       "       'CAMERAS AND SUPPLIES', 'SPORTING GOODS',\n",
       "       'PLAYERS AND ELECTRONICS', 'PHARMACY RX', 'MENSWEAR',\n",
       "       'OPTICAL - FRAMES', 'SWIMWEAR/OUTERWEAR', 'OTHER DEPARTMENTS',\n",
       "       'MEDIA AND GAMING', 'FURNITURE', 'OPTICAL - LENSES', 'SEASONAL',\n",
       "       'LARGE HOUSEHOLD GOODS', '1-HR PHOTO', 'CONCEPT STORES',\n",
       "       'HEALTH AND BEAUTY AIDS'], dtype=object)"
      ]
     },
     "execution_count": 17,
     "metadata": {},
     "output_type": "execute_result"
    }
   ],
   "source": [
    "data.DepartmentDescription.unique()"
   ]
  },
  {
   "cell_type": "code",
   "execution_count": 18,
   "metadata": {},
   "outputs": [
    {
     "data": {
      "text/plain": [
       "69"
      ]
     },
     "execution_count": 18,
     "metadata": {},
     "output_type": "execute_result"
    }
   ],
   "source": [
    "len(data.DepartmentDescription.unique())"
   ]
  },
  {
   "cell_type": "code",
   "execution_count": 19,
   "metadata": {},
   "outputs": [
    {
     "data": {
      "text/plain": [
       "5196"
      ]
     },
     "execution_count": 19,
     "metadata": {},
     "output_type": "execute_result"
    }
   ],
   "source": [
    "len(data.FinelineNumber.unique())"
   ]
  },
  {
   "cell_type": "code",
   "execution_count": 20,
   "metadata": {},
   "outputs": [
    {
     "data": {
      "text/plain": [
       "9998.0"
      ]
     },
     "execution_count": 20,
     "metadata": {},
     "output_type": "execute_result"
    }
   ],
   "source": [
    "data.FinelineNumber.max()"
   ]
  },
  {
   "cell_type": "code",
   "execution_count": 21,
   "metadata": {},
   "outputs": [
    {
     "data": {
      "text/plain": [
       "0.0"
      ]
     },
     "execution_count": 21,
     "metadata": {},
     "output_type": "execute_result"
    }
   ],
   "source": [
    "data.FinelineNumber.min()"
   ]
  },
  {
   "cell_type": "code",
   "execution_count": 22,
   "metadata": {},
   "outputs": [
    {
     "data": {
      "text/plain": [
       "TripType                 3837\n",
       "VisitNumber              3837\n",
       "Weekday                  3837\n",
       "Upc                      3837\n",
       "ScanCount                3837\n",
       "DepartmentDescription    3837\n",
       "FinelineNumber           3837\n",
       "dtype: int64"
      ]
     },
     "execution_count": 22,
     "metadata": {},
     "output_type": "execute_result"
    }
   ],
   "source": [
    "data[data.FinelineNumber==0].count()"
   ]
  },
  {
   "cell_type": "code",
   "execution_count": 23,
   "metadata": {},
   "outputs": [],
   "source": [
    "fineline_is_zero=data[data.FinelineNumber==0]\n"
   ]
  },
  {
   "cell_type": "code",
   "execution_count": 24,
   "metadata": {},
   "outputs": [
    {
     "data": {
      "text/plain": [
       "TripType                 3743\n",
       "VisitNumber              3743\n",
       "Weekday                  3743\n",
       "Upc                      3743\n",
       "ScanCount                3743\n",
       "DepartmentDescription    3743\n",
       "FinelineNumber           3743\n",
       "dtype: int64"
      ]
     },
     "execution_count": 24,
     "metadata": {},
     "output_type": "execute_result"
    }
   ],
   "source": [
    "fineline_is_zero[fineline_is_zero.ScanCount==1].count()"
   ]
  },
  {
   "cell_type": "code",
   "execution_count": 25,
   "metadata": {},
   "outputs": [
    {
     "data": {
      "text/plain": [
       "TripType                 53\n",
       "VisitNumber              53\n",
       "Weekday                  53\n",
       "Upc                      53\n",
       "ScanCount                53\n",
       "DepartmentDescription    53\n",
       "FinelineNumber           53\n",
       "dtype: int64"
      ]
     },
     "execution_count": 25,
     "metadata": {},
     "output_type": "execute_result"
    }
   ],
   "source": [
    "fineline_is_zero[fineline_is_zero.ScanCount==-1].count()"
   ]
  },
  {
   "cell_type": "code",
   "execution_count": 32,
   "metadata": {},
   "outputs": [],
   "source": [
    "data_fineline_department = data[[\"DepartmentDescription\", \"FinelineNumber\"]]"
   ]
  },
  {
   "cell_type": "code",
   "execution_count": 33,
   "metadata": {},
   "outputs": [],
   "source": [
    "fineline_financial=data_fineline_department[data_fineline_department.DepartmentDescription=='FINANCIAL SERVICES'].FinelineNumber.value_counts()\n"
   ]
  },
  {
   "cell_type": "code",
   "execution_count": 34,
   "metadata": {},
   "outputs": [
    {
     "data": {
      "text/plain": [
       "<matplotlib.axes._subplots.AxesSubplot at 0x1c04aca5b00>"
      ]
     },
     "execution_count": 34,
     "metadata": {},
     "output_type": "execute_result"
    },
    {
     "data": {
      "image/png": "[encoded data removed]",
      "text/plain": [
       "<Figure size 432x288 with 1 Axes>"
      ]
     },
     "metadata": {
      "needs_background": "light"
     },
     "output_type": "display_data"
    }
   ],
   "source": [
    "fineline_financial.plot(kind=\"bar\", rot=45, title=\"Type 4 Trips\", color=\"midnightblue\")"
   ]
  },
  {
   "cell_type": "code",
   "execution_count": 35,
   "metadata": {},
   "outputs": [],
   "source": [
    "data=data.dropna()"
   ]
  },
  {
   "cell_type": "code",
   "execution_count": 36,
   "metadata": {},
   "outputs": [
    {
     "data": {
      "text/plain": [
       "TripType                 642925\n",
       "VisitNumber              642925\n",
       "Weekday                  642925\n",
       "Upc                      642925\n",
       "ScanCount                642925\n",
       "DepartmentDescription    642925\n",
       "FinelineNumber           642925\n",
       "dtype: int64"
      ]
     },
     "execution_count": 36,
     "metadata": {},
     "output_type": "execute_result"
    }
   ],
   "source": [
    "data.count()"
   ]
  },
  {
   "cell_type": "code",
   "execution_count": 37,
   "metadata": {},
   "outputs": [
    {
     "data": {
      "text/html": [
       "<div>\n",
       "<style scoped>\n",
       "    .dataframe tbody tr th:only-of-type {\n",
       "        vertical-align: middle;\n",
       "    }\n",
       "\n",
       "    .dataframe tbody tr th {\n",
       "        vertical-align: top;\n",
       "    }\n",
       "\n",
       "    .dataframe thead th {\n",
       "        text-align: right;\n",
       "    }\n",
       "</style>\n",
       "<table border=\"1\" class=\"dataframe\">\n",
       "  <thead>\n",
       "    <tr style=\"text-align: right;\">\n",
       "      <th></th>\n",
       "      <th>TripType</th>\n",
       "      <th>VisitNumber</th>\n",
       "      <th>Weekday</th>\n",
       "      <th>Upc</th>\n",
       "      <th>ScanCount</th>\n",
       "      <th>DepartmentDescription</th>\n",
       "      <th>FinelineNumber</th>\n",
       "    </tr>\n",
       "  </thead>\n",
       "  <tbody>\n",
       "    <tr>\n",
       "      <th>0</th>\n",
       "      <td>999</td>\n",
       "      <td>5</td>\n",
       "      <td>Friday</td>\n",
       "      <td>6.811315e+10</td>\n",
       "      <td>-1</td>\n",
       "      <td>FINANCIAL SERVICES</td>\n",
       "      <td>1000.0</td>\n",
       "    </tr>\n",
       "    <tr>\n",
       "      <th>1</th>\n",
       "      <td>30</td>\n",
       "      <td>7</td>\n",
       "      <td>Friday</td>\n",
       "      <td>6.053882e+10</td>\n",
       "      <td>1</td>\n",
       "      <td>SHOES</td>\n",
       "      <td>8931.0</td>\n",
       "    </tr>\n",
       "    <tr>\n",
       "      <th>2</th>\n",
       "      <td>30</td>\n",
       "      <td>7</td>\n",
       "      <td>Friday</td>\n",
       "      <td>7.410811e+09</td>\n",
       "      <td>1</td>\n",
       "      <td>PERSONAL CARE</td>\n",
       "      <td>4504.0</td>\n",
       "    </tr>\n",
       "    <tr>\n",
       "      <th>3</th>\n",
       "      <td>26</td>\n",
       "      <td>8</td>\n",
       "      <td>Friday</td>\n",
       "      <td>2.238404e+09</td>\n",
       "      <td>2</td>\n",
       "      <td>PAINT AND ACCESSORIES</td>\n",
       "      <td>3565.0</td>\n",
       "    </tr>\n",
       "    <tr>\n",
       "      <th>4</th>\n",
       "      <td>26</td>\n",
       "      <td>8</td>\n",
       "      <td>Friday</td>\n",
       "      <td>2.006614e+09</td>\n",
       "      <td>2</td>\n",
       "      <td>PAINT AND ACCESSORIES</td>\n",
       "      <td>1017.0</td>\n",
       "    </tr>\n",
       "  </tbody>\n",
       "</table>\n",
       "</div>"
      ],
      "text/plain": [
       "   TripType  VisitNumber Weekday           Upc  ScanCount  \\\n",
       "0       999            5  Friday  6.811315e+10         -1   \n",
       "1        30            7  Friday  6.053882e+10          1   \n",
       "2        30            7  Friday  7.410811e+09          1   \n",
       "3        26            8  Friday  2.238404e+09          2   \n",
       "4        26            8  Friday  2.006614e+09          2   \n",
       "\n",
       "   DepartmentDescription  FinelineNumber  \n",
       "0     FINANCIAL SERVICES          1000.0  \n",
       "1                  SHOES          8931.0  \n",
       "2          PERSONAL CARE          4504.0  \n",
       "3  PAINT AND ACCESSORIES          3565.0  \n",
       "4  PAINT AND ACCESSORIES          1017.0  "
      ]
     },
     "execution_count": 37,
     "metadata": {},
     "output_type": "execute_result"
    }
   ],
   "source": [
    "data.head()"
   ]
  },
  {
   "cell_type": "code",
   "execution_count": 38,
   "metadata": {},
   "outputs": [],
   "source": [
    "data=data.replace(\"Monday\",1)\n",
    "data=data.replace(\"Tuesday\",2)\n",
    "data=data.replace(\"wednesday\",3)\n",
    "data=data.replace(\"Thursday\",4)\n",
    "data=data.replace(\"Friday\",5)\n",
    "data=data.replace('Saturday',6)\n",
    "data=data.replace(\"Sunday\",7)\n"
   ]
  },
  {
   "cell_type": "code",
   "execution_count": 39,
   "metadata": {},
   "outputs": [
    {
     "data": {
      "text/html": [
       "<div>\n",
       "<style scoped>\n",
       "    .dataframe tbody tr th:only-of-type {\n",
       "        vertical-align: middle;\n",
       "    }\n",
       "\n",
       "    .dataframe tbody tr th {\n",
       "        vertical-align: top;\n",
       "    }\n",
       "\n",
       "    .dataframe thead th {\n",
       "        text-align: right;\n",
       "    }\n",
       "</style>\n",
       "<table border=\"1\" class=\"dataframe\">\n",
       "  <thead>\n",
       "    <tr style=\"text-align: right;\">\n",
       "      <th></th>\n",
       "      <th>TripType</th>\n",
       "      <th>VisitNumber</th>\n",
       "      <th>Weekday</th>\n",
       "      <th>Upc</th>\n",
       "      <th>ScanCount</th>\n",
       "      <th>DepartmentDescription</th>\n",
       "      <th>FinelineNumber</th>\n",
       "    </tr>\n",
       "  </thead>\n",
       "  <tbody>\n",
       "    <tr>\n",
       "      <th>0</th>\n",
       "      <td>999</td>\n",
       "      <td>5</td>\n",
       "      <td>5</td>\n",
       "      <td>6.811315e+10</td>\n",
       "      <td>-1</td>\n",
       "      <td>FINANCIAL SERVICES</td>\n",
       "      <td>1000.0</td>\n",
       "    </tr>\n",
       "    <tr>\n",
       "      <th>1</th>\n",
       "      <td>30</td>\n",
       "      <td>7</td>\n",
       "      <td>5</td>\n",
       "      <td>6.053882e+10</td>\n",
       "      <td>1</td>\n",
       "      <td>SHOES</td>\n",
       "      <td>8931.0</td>\n",
       "    </tr>\n",
       "    <tr>\n",
       "      <th>2</th>\n",
       "      <td>30</td>\n",
       "      <td>7</td>\n",
       "      <td>5</td>\n",
       "      <td>7.410811e+09</td>\n",
       "      <td>1</td>\n",
       "      <td>PERSONAL CARE</td>\n",
       "      <td>4504.0</td>\n",
       "    </tr>\n",
       "    <tr>\n",
       "      <th>3</th>\n",
       "      <td>26</td>\n",
       "      <td>8</td>\n",
       "      <td>5</td>\n",
       "      <td>2.238404e+09</td>\n",
       "      <td>2</td>\n",
       "      <td>PAINT AND ACCESSORIES</td>\n",
       "      <td>3565.0</td>\n",
       "    </tr>\n",
       "    <tr>\n",
       "      <th>4</th>\n",
       "      <td>26</td>\n",
       "      <td>8</td>\n",
       "      <td>5</td>\n",
       "      <td>2.006614e+09</td>\n",
       "      <td>2</td>\n",
       "      <td>PAINT AND ACCESSORIES</td>\n",
       "      <td>1017.0</td>\n",
       "    </tr>\n",
       "  </tbody>\n",
       "</table>\n",
       "</div>"
      ],
      "text/plain": [
       "   TripType  VisitNumber Weekday           Upc  ScanCount  \\\n",
       "0       999            5       5  6.811315e+10         -1   \n",
       "1        30            7       5  6.053882e+10          1   \n",
       "2        30            7       5  7.410811e+09          1   \n",
       "3        26            8       5  2.238404e+09          2   \n",
       "4        26            8       5  2.006614e+09          2   \n",
       "\n",
       "   DepartmentDescription  FinelineNumber  \n",
       "0     FINANCIAL SERVICES          1000.0  \n",
       "1                  SHOES          8931.0  \n",
       "2          PERSONAL CARE          4504.0  \n",
       "3  PAINT AND ACCESSORIES          3565.0  \n",
       "4  PAINT AND ACCESSORIES          1017.0  "
      ]
     },
     "execution_count": 39,
     "metadata": {},
     "output_type": "execute_result"
    }
   ],
   "source": [
    "data.head()"
   ]
  },
  {
   "cell_type": "code",
   "execution_count": 41,
   "metadata": {},
   "outputs": [
    {
     "data": {
      "text/plain": [
       "array([  3,   4,   5,   6,   7,   8,   9,  12,  14,  15,  18,  19,  20,\n",
       "        21,  22,  23,  24,  25,  26,  27,  28,  29,  30,  31,  32,  33,\n",
       "        34,  35,  36,  37,  38,  39,  40,  41,  42,  43,  44, 999],\n",
       "      dtype=int64)"
      ]
     },
     "execution_count": 41,
     "metadata": {},
     "output_type": "execute_result"
    }
   ],
   "source": [
    "x=data.TripType.unique()\n",
    "np.sort(x)"
   ]
  },
  {
   "cell_type": "code",
   "execution_count": 42,
   "metadata": {},
   "outputs": [],
   "source": [
    "data_triptypes=data.drop_duplicates(\"VisitNumber\")\n"
   ]
  },
  {
   "cell_type": "code",
   "execution_count": 43,
   "metadata": {},
   "outputs": [
    {
     "data": {
      "text/html": [
       "<div>\n",
       "<style scoped>\n",
       "    .dataframe tbody tr th:only-of-type {\n",
       "        vertical-align: middle;\n",
       "    }\n",
       "\n",
       "    .dataframe tbody tr th {\n",
       "        vertical-align: top;\n",
       "    }\n",
       "\n",
       "    .dataframe thead th {\n",
       "        text-align: right;\n",
       "    }\n",
       "</style>\n",
       "<table border=\"1\" class=\"dataframe\">\n",
       "  <thead>\n",
       "    <tr style=\"text-align: right;\">\n",
       "      <th></th>\n",
       "      <th>TripType</th>\n",
       "      <th>VisitNumber</th>\n",
       "      <th>Weekday</th>\n",
       "      <th>Upc</th>\n",
       "      <th>ScanCount</th>\n",
       "      <th>DepartmentDescription</th>\n",
       "      <th>FinelineNumber</th>\n",
       "    </tr>\n",
       "  </thead>\n",
       "  <tbody>\n",
       "    <tr>\n",
       "      <th>0</th>\n",
       "      <td>999</td>\n",
       "      <td>5</td>\n",
       "      <td>5</td>\n",
       "      <td>6.811315e+10</td>\n",
       "      <td>-1</td>\n",
       "      <td>FINANCIAL SERVICES</td>\n",
       "      <td>1000.0</td>\n",
       "    </tr>\n",
       "    <tr>\n",
       "      <th>1</th>\n",
       "      <td>30</td>\n",
       "      <td>7</td>\n",
       "      <td>5</td>\n",
       "      <td>6.053882e+10</td>\n",
       "      <td>1</td>\n",
       "      <td>SHOES</td>\n",
       "      <td>8931.0</td>\n",
       "    </tr>\n",
       "    <tr>\n",
       "      <th>3</th>\n",
       "      <td>26</td>\n",
       "      <td>8</td>\n",
       "      <td>5</td>\n",
       "      <td>2.238404e+09</td>\n",
       "      <td>2</td>\n",
       "      <td>PAINT AND ACCESSORIES</td>\n",
       "      <td>3565.0</td>\n",
       "    </tr>\n",
       "    <tr>\n",
       "      <th>26</th>\n",
       "      <td>8</td>\n",
       "      <td>9</td>\n",
       "      <td>5</td>\n",
       "      <td>1.070081e+09</td>\n",
       "      <td>1</td>\n",
       "      <td>IMPULSE MERCHANDISE</td>\n",
       "      <td>115.0</td>\n",
       "    </tr>\n",
       "    <tr>\n",
       "      <th>29</th>\n",
       "      <td>8</td>\n",
       "      <td>10</td>\n",
       "      <td>5</td>\n",
       "      <td>6.414410e+09</td>\n",
       "      <td>1</td>\n",
       "      <td>DSD GROCERY</td>\n",
       "      <td>2008.0</td>\n",
       "    </tr>\n",
       "    <tr>\n",
       "      <th>32</th>\n",
       "      <td>35</td>\n",
       "      <td>11</td>\n",
       "      <td>5</td>\n",
       "      <td>4.178901e+09</td>\n",
       "      <td>1</td>\n",
       "      <td>GROCERY DRY GOODS</td>\n",
       "      <td>3114.0</td>\n",
       "    </tr>\n",
       "    <tr>\n",
       "      <th>36</th>\n",
       "      <td>41</td>\n",
       "      <td>12</td>\n",
       "      <td>5</td>\n",
       "      <td>7.603139e+09</td>\n",
       "      <td>1</td>\n",
       "      <td>BOYS WEAR</td>\n",
       "      <td>654.0</td>\n",
       "    </tr>\n",
       "    <tr>\n",
       "      <th>43</th>\n",
       "      <td>21</td>\n",
       "      <td>15</td>\n",
       "      <td>5</td>\n",
       "      <td>2.899522e+09</td>\n",
       "      <td>1</td>\n",
       "      <td>FABRICS AND CRAFTS</td>\n",
       "      <td>1056.0</td>\n",
       "    </tr>\n",
       "    <tr>\n",
       "      <th>51</th>\n",
       "      <td>6</td>\n",
       "      <td>17</td>\n",
       "      <td>5</td>\n",
       "      <td>2.840009e+09</td>\n",
       "      <td>1</td>\n",
       "      <td>DSD GROCERY</td>\n",
       "      <td>3352.0</td>\n",
       "    </tr>\n",
       "    <tr>\n",
       "      <th>55</th>\n",
       "      <td>42</td>\n",
       "      <td>19</td>\n",
       "      <td>5</td>\n",
       "      <td>7.675336e+09</td>\n",
       "      <td>1</td>\n",
       "      <td>IMPULSE MERCHANDISE</td>\n",
       "      <td>8904.0</td>\n",
       "    </tr>\n",
       "    <tr>\n",
       "      <th>64</th>\n",
       "      <td>7</td>\n",
       "      <td>20</td>\n",
       "      <td>5</td>\n",
       "      <td>7.192192e+09</td>\n",
       "      <td>1</td>\n",
       "      <td>FROZEN FOODS</td>\n",
       "      <td>9117.0</td>\n",
       "    </tr>\n",
       "    <tr>\n",
       "      <th>66</th>\n",
       "      <td>9</td>\n",
       "      <td>23</td>\n",
       "      <td>5</td>\n",
       "      <td>4.011000e+03</td>\n",
       "      <td>1</td>\n",
       "      <td>PRODUCE</td>\n",
       "      <td>5501.0</td>\n",
       "    </tr>\n",
       "    <tr>\n",
       "      <th>68</th>\n",
       "      <td>8</td>\n",
       "      <td>25</td>\n",
       "      <td>5</td>\n",
       "      <td>7.874207e+09</td>\n",
       "      <td>1</td>\n",
       "      <td>INFANT CONSUMABLE HARDLINES</td>\n",
       "      <td>9012.0</td>\n",
       "    </tr>\n",
       "    <tr>\n",
       "      <th>71</th>\n",
       "      <td>39</td>\n",
       "      <td>26</td>\n",
       "      <td>5</td>\n",
       "      <td>8.947000e+10</td>\n",
       "      <td>2</td>\n",
       "      <td>DAIRY</td>\n",
       "      <td>1450.0</td>\n",
       "    </tr>\n",
       "    <tr>\n",
       "      <th>80</th>\n",
       "      <td>25</td>\n",
       "      <td>28</td>\n",
       "      <td>5</td>\n",
       "      <td>8.805523e+11</td>\n",
       "      <td>1</td>\n",
       "      <td>LADIESWEAR</td>\n",
       "      <td>313.0</td>\n",
       "    </tr>\n",
       "    <tr>\n",
       "      <th>88</th>\n",
       "      <td>8</td>\n",
       "      <td>29</td>\n",
       "      <td>5</td>\n",
       "      <td>1.200001e+09</td>\n",
       "      <td>1</td>\n",
       "      <td>DSD GROCERY</td>\n",
       "      <td>9205.0</td>\n",
       "    </tr>\n",
       "    <tr>\n",
       "      <th>89</th>\n",
       "      <td>9</td>\n",
       "      <td>30</td>\n",
       "      <td>5</td>\n",
       "      <td>9.933894e+09</td>\n",
       "      <td>1</td>\n",
       "      <td>LADIESWEAR</td>\n",
       "      <td>1180.0</td>\n",
       "    </tr>\n",
       "    <tr>\n",
       "      <th>90</th>\n",
       "      <td>8</td>\n",
       "      <td>31</td>\n",
       "      <td>5</td>\n",
       "      <td>7.874298e+09</td>\n",
       "      <td>1</td>\n",
       "      <td>BAKERY</td>\n",
       "      <td>5024.0</td>\n",
       "    </tr>\n",
       "    <tr>\n",
       "      <th>92</th>\n",
       "      <td>8</td>\n",
       "      <td>32</td>\n",
       "      <td>5</td>\n",
       "      <td>3.400000e+09</td>\n",
       "      <td>1</td>\n",
       "      <td>IMPULSE MERCHANDISE</td>\n",
       "      <td>100.0</td>\n",
       "    </tr>\n",
       "    <tr>\n",
       "      <th>93</th>\n",
       "      <td>8</td>\n",
       "      <td>33</td>\n",
       "      <td>5</td>\n",
       "      <td>4.178901e+09</td>\n",
       "      <td>2</td>\n",
       "      <td>GROCERY DRY GOODS</td>\n",
       "      <td>3114.0</td>\n",
       "    </tr>\n",
       "    <tr>\n",
       "      <th>95</th>\n",
       "      <td>8</td>\n",
       "      <td>40</td>\n",
       "      <td>5</td>\n",
       "      <td>4.900002e+09</td>\n",
       "      <td>1</td>\n",
       "      <td>DSD GROCERY</td>\n",
       "      <td>9546.0</td>\n",
       "    </tr>\n",
       "    <tr>\n",
       "      <th>97</th>\n",
       "      <td>8</td>\n",
       "      <td>41</td>\n",
       "      <td>5</td>\n",
       "      <td>7.618316e+09</td>\n",
       "      <td>1</td>\n",
       "      <td>DSD GROCERY</td>\n",
       "      <td>3054.0</td>\n",
       "    </tr>\n",
       "    <tr>\n",
       "      <th>99</th>\n",
       "      <td>8</td>\n",
       "      <td>42</td>\n",
       "      <td>5</td>\n",
       "      <td>4.000049e+09</td>\n",
       "      <td>1</td>\n",
       "      <td>IMPULSE MERCHANDISE</td>\n",
       "      <td>115.0</td>\n",
       "    </tr>\n",
       "    <tr>\n",
       "      <th>100</th>\n",
       "      <td>38</td>\n",
       "      <td>43</td>\n",
       "      <td>5</td>\n",
       "      <td>7.874235e+09</td>\n",
       "      <td>1</td>\n",
       "      <td>DAIRY</td>\n",
       "      <td>1508.0</td>\n",
       "    </tr>\n",
       "    <tr>\n",
       "      <th>104</th>\n",
       "      <td>8</td>\n",
       "      <td>45</td>\n",
       "      <td>5</td>\n",
       "      <td>4.610000e+09</td>\n",
       "      <td>1</td>\n",
       "      <td>DAIRY</td>\n",
       "      <td>7960.0</td>\n",
       "    </tr>\n",
       "    <tr>\n",
       "      <th>108</th>\n",
       "      <td>35</td>\n",
       "      <td>47</td>\n",
       "      <td>5</td>\n",
       "      <td>8.939615e+09</td>\n",
       "      <td>2</td>\n",
       "      <td>DSD GROCERY</td>\n",
       "      <td>3458.0</td>\n",
       "    </tr>\n",
       "    <tr>\n",
       "      <th>111</th>\n",
       "      <td>15</td>\n",
       "      <td>49</td>\n",
       "      <td>5</td>\n",
       "      <td>4.011000e+03</td>\n",
       "      <td>1</td>\n",
       "      <td>PRODUCE</td>\n",
       "      <td>5501.0</td>\n",
       "    </tr>\n",
       "    <tr>\n",
       "      <th>116</th>\n",
       "      <td>9</td>\n",
       "      <td>50</td>\n",
       "      <td>5</td>\n",
       "      <td>3.825775e+09</td>\n",
       "      <td>1</td>\n",
       "      <td>MENS WEAR</td>\n",
       "      <td>8218.0</td>\n",
       "    </tr>\n",
       "    <tr>\n",
       "      <th>117</th>\n",
       "      <td>8</td>\n",
       "      <td>51</td>\n",
       "      <td>5</td>\n",
       "      <td>8.410580e+10</td>\n",
       "      <td>1</td>\n",
       "      <td>PERSONAL CARE</td>\n",
       "      <td>1406.0</td>\n",
       "    </tr>\n",
       "    <tr>\n",
       "      <th>119</th>\n",
       "      <td>8</td>\n",
       "      <td>53</td>\n",
       "      <td>5</td>\n",
       "      <td>4.016000e+03</td>\n",
       "      <td>1</td>\n",
       "      <td>PRODUCE</td>\n",
       "      <td>1201.0</td>\n",
       "    </tr>\n",
       "    <tr>\n",
       "      <th>...</th>\n",
       "      <td>...</td>\n",
       "      <td>...</td>\n",
       "      <td>...</td>\n",
       "      <td>...</td>\n",
       "      <td>...</td>\n",
       "      <td>...</td>\n",
       "      <td>...</td>\n",
       "    </tr>\n",
       "    <tr>\n",
       "      <th>646756</th>\n",
       "      <td>21</td>\n",
       "      <td>191276</td>\n",
       "      <td>7</td>\n",
       "      <td>3.650010e+09</td>\n",
       "      <td>1</td>\n",
       "      <td>OFFICE SUPPLIES</td>\n",
       "      <td>2042.0</td>\n",
       "    </tr>\n",
       "    <tr>\n",
       "      <th>646759</th>\n",
       "      <td>44</td>\n",
       "      <td>191277</td>\n",
       "      <td>7</td>\n",
       "      <td>3.419700e+09</td>\n",
       "      <td>1</td>\n",
       "      <td>PHARMACY OTC</td>\n",
       "      <td>3738.0</td>\n",
       "    </tr>\n",
       "    <tr>\n",
       "      <th>646777</th>\n",
       "      <td>8</td>\n",
       "      <td>191280</td>\n",
       "      <td>7</td>\n",
       "      <td>3.700087e+09</td>\n",
       "      <td>1</td>\n",
       "      <td>HOUSEHOLD PAPER GOODS</td>\n",
       "      <td>3050.0</td>\n",
       "    </tr>\n",
       "    <tr>\n",
       "      <th>646780</th>\n",
       "      <td>44</td>\n",
       "      <td>191283</td>\n",
       "      <td>7</td>\n",
       "      <td>2.840024e+09</td>\n",
       "      <td>1</td>\n",
       "      <td>DSD GROCERY</td>\n",
       "      <td>4402.0</td>\n",
       "    </tr>\n",
       "    <tr>\n",
       "      <th>646790</th>\n",
       "      <td>40</td>\n",
       "      <td>191286</td>\n",
       "      <td>7</td>\n",
       "      <td>3.338320e+09</td>\n",
       "      <td>1</td>\n",
       "      <td>PRODUCE</td>\n",
       "      <td>3602.0</td>\n",
       "    </tr>\n",
       "    <tr>\n",
       "      <th>646814</th>\n",
       "      <td>26</td>\n",
       "      <td>191287</td>\n",
       "      <td>7</td>\n",
       "      <td>7.245043e+10</td>\n",
       "      <td>2</td>\n",
       "      <td>PAINT AND ACCESSORIES</td>\n",
       "      <td>1011.0</td>\n",
       "    </tr>\n",
       "    <tr>\n",
       "      <th>646816</th>\n",
       "      <td>8</td>\n",
       "      <td>191289</td>\n",
       "      <td>7</td>\n",
       "      <td>6.112696e+10</td>\n",
       "      <td>1</td>\n",
       "      <td>DSD GROCERY</td>\n",
       "      <td>3467.0</td>\n",
       "    </tr>\n",
       "    <tr>\n",
       "      <th>646817</th>\n",
       "      <td>8</td>\n",
       "      <td>191291</td>\n",
       "      <td>7</td>\n",
       "      <td>4.011000e+03</td>\n",
       "      <td>1</td>\n",
       "      <td>PRODUCE</td>\n",
       "      <td>5501.0</td>\n",
       "    </tr>\n",
       "    <tr>\n",
       "      <th>646819</th>\n",
       "      <td>36</td>\n",
       "      <td>191293</td>\n",
       "      <td>7</td>\n",
       "      <td>8.410580e+10</td>\n",
       "      <td>1</td>\n",
       "      <td>PERSONAL CARE</td>\n",
       "      <td>1412.0</td>\n",
       "    </tr>\n",
       "    <tr>\n",
       "      <th>646841</th>\n",
       "      <td>40</td>\n",
       "      <td>191298</td>\n",
       "      <td>7</td>\n",
       "      <td>4.409000e+03</td>\n",
       "      <td>1</td>\n",
       "      <td>PRODUCE</td>\n",
       "      <td>1906.0</td>\n",
       "    </tr>\n",
       "    <tr>\n",
       "      <th>646862</th>\n",
       "      <td>42</td>\n",
       "      <td>191301</td>\n",
       "      <td>7</td>\n",
       "      <td>4.796809e+09</td>\n",
       "      <td>1</td>\n",
       "      <td>BATH AND SHOWER</td>\n",
       "      <td>9912.0</td>\n",
       "    </tr>\n",
       "    <tr>\n",
       "      <th>646869</th>\n",
       "      <td>36</td>\n",
       "      <td>191304</td>\n",
       "      <td>7</td>\n",
       "      <td>9.800008e+08</td>\n",
       "      <td>1</td>\n",
       "      <td>IMPULSE MERCHANDISE</td>\n",
       "      <td>145.0</td>\n",
       "    </tr>\n",
       "    <tr>\n",
       "      <th>646875</th>\n",
       "      <td>31</td>\n",
       "      <td>191305</td>\n",
       "      <td>7</td>\n",
       "      <td>8.217930e+10</td>\n",
       "      <td>1</td>\n",
       "      <td>WIRELESS</td>\n",
       "      <td>290.0</td>\n",
       "    </tr>\n",
       "    <tr>\n",
       "      <th>646876</th>\n",
       "      <td>9</td>\n",
       "      <td>191311</td>\n",
       "      <td>7</td>\n",
       "      <td>8.870356e+10</td>\n",
       "      <td>1</td>\n",
       "      <td>MENS WEAR</td>\n",
       "      <td>1640.0</td>\n",
       "    </tr>\n",
       "    <tr>\n",
       "      <th>646878</th>\n",
       "      <td>42</td>\n",
       "      <td>191312</td>\n",
       "      <td>7</td>\n",
       "      <td>5.200033e+09</td>\n",
       "      <td>2</td>\n",
       "      <td>DSD GROCERY</td>\n",
       "      <td>4606.0</td>\n",
       "    </tr>\n",
       "    <tr>\n",
       "      <th>646894</th>\n",
       "      <td>30</td>\n",
       "      <td>191313</td>\n",
       "      <td>7</td>\n",
       "      <td>7.001117e+09</td>\n",
       "      <td>1</td>\n",
       "      <td>SHEER HOSIERY</td>\n",
       "      <td>2771.0</td>\n",
       "    </tr>\n",
       "    <tr>\n",
       "      <th>646898</th>\n",
       "      <td>7</td>\n",
       "      <td>191318</td>\n",
       "      <td>7</td>\n",
       "      <td>7.874204e+09</td>\n",
       "      <td>1</td>\n",
       "      <td>DSD GROCERY</td>\n",
       "      <td>4305.0</td>\n",
       "    </tr>\n",
       "    <tr>\n",
       "      <th>646905</th>\n",
       "      <td>38</td>\n",
       "      <td>191322</td>\n",
       "      <td>7</td>\n",
       "      <td>6.053887e+10</td>\n",
       "      <td>1</td>\n",
       "      <td>DAIRY</td>\n",
       "      <td>9100.0</td>\n",
       "    </tr>\n",
       "    <tr>\n",
       "      <th>646919</th>\n",
       "      <td>40</td>\n",
       "      <td>191324</td>\n",
       "      <td>7</td>\n",
       "      <td>2.500005e+09</td>\n",
       "      <td>1</td>\n",
       "      <td>DAIRY</td>\n",
       "      <td>1407.0</td>\n",
       "    </tr>\n",
       "    <tr>\n",
       "      <th>646939</th>\n",
       "      <td>38</td>\n",
       "      <td>191326</td>\n",
       "      <td>7</td>\n",
       "      <td>1.600046e+09</td>\n",
       "      <td>1</td>\n",
       "      <td>GROCERY DRY GOODS</td>\n",
       "      <td>3600.0</td>\n",
       "    </tr>\n",
       "    <tr>\n",
       "      <th>646950</th>\n",
       "      <td>24</td>\n",
       "      <td>191329</td>\n",
       "      <td>7</td>\n",
       "      <td>2.833259e+09</td>\n",
       "      <td>1</td>\n",
       "      <td>COOK AND DINE</td>\n",
       "      <td>4304.0</td>\n",
       "    </tr>\n",
       "    <tr>\n",
       "      <th>646970</th>\n",
       "      <td>9</td>\n",
       "      <td>191331</td>\n",
       "      <td>7</td>\n",
       "      <td>7.046246e+10</td>\n",
       "      <td>1</td>\n",
       "      <td>LADIESWEAR</td>\n",
       "      <td>9189.0</td>\n",
       "    </tr>\n",
       "    <tr>\n",
       "      <th>646971</th>\n",
       "      <td>32</td>\n",
       "      <td>191335</td>\n",
       "      <td>7</td>\n",
       "      <td>6.811310e+10</td>\n",
       "      <td>1</td>\n",
       "      <td>PHARMACY OTC</td>\n",
       "      <td>1120.0</td>\n",
       "    </tr>\n",
       "    <tr>\n",
       "      <th>646980</th>\n",
       "      <td>38</td>\n",
       "      <td>191337</td>\n",
       "      <td>7</td>\n",
       "      <td>7.874235e+09</td>\n",
       "      <td>1</td>\n",
       "      <td>GROCERY DRY GOODS</td>\n",
       "      <td>4601.0</td>\n",
       "    </tr>\n",
       "    <tr>\n",
       "      <th>647008</th>\n",
       "      <td>8</td>\n",
       "      <td>191342</td>\n",
       "      <td>7</td>\n",
       "      <td>4.000001e+09</td>\n",
       "      <td>1</td>\n",
       "      <td>IMPULSE MERCHANDISE</td>\n",
       "      <td>115.0</td>\n",
       "    </tr>\n",
       "    <tr>\n",
       "      <th>647010</th>\n",
       "      <td>25</td>\n",
       "      <td>191343</td>\n",
       "      <td>7</td>\n",
       "      <td>8.863494e+10</td>\n",
       "      <td>1</td>\n",
       "      <td>MENS WEAR</td>\n",
       "      <td>5225.0</td>\n",
       "    </tr>\n",
       "    <tr>\n",
       "      <th>647017</th>\n",
       "      <td>22</td>\n",
       "      <td>191344</td>\n",
       "      <td>7</td>\n",
       "      <td>7.918131e+09</td>\n",
       "      <td>1</td>\n",
       "      <td>BEAUTY</td>\n",
       "      <td>3405.0</td>\n",
       "    </tr>\n",
       "    <tr>\n",
       "      <th>647022</th>\n",
       "      <td>39</td>\n",
       "      <td>191345</td>\n",
       "      <td>7</td>\n",
       "      <td>3.700087e+09</td>\n",
       "      <td>1</td>\n",
       "      <td>HOUSEHOLD PAPER GOODS</td>\n",
       "      <td>3080.0</td>\n",
       "    </tr>\n",
       "    <tr>\n",
       "      <th>647035</th>\n",
       "      <td>39</td>\n",
       "      <td>191346</td>\n",
       "      <td>7</td>\n",
       "      <td>3.760012e+09</td>\n",
       "      <td>1</td>\n",
       "      <td>GROCERY DRY GOODS</td>\n",
       "      <td>1104.0</td>\n",
       "    </tr>\n",
       "    <tr>\n",
       "      <th>647052</th>\n",
       "      <td>8</td>\n",
       "      <td>191347</td>\n",
       "      <td>7</td>\n",
       "      <td>4.190008e+09</td>\n",
       "      <td>1</td>\n",
       "      <td>DAIRY</td>\n",
       "      <td>1512.0</td>\n",
       "    </tr>\n",
       "  </tbody>\n",
       "</table>\n",
       "<p>94247 rows × 7 columns</p>\n",
       "</div>"
      ],
      "text/plain": [
       "        TripType  VisitNumber Weekday           Upc  ScanCount  \\\n",
       "0            999            5       5  6.811315e+10         -1   \n",
       "1             30            7       5  6.053882e+10          1   \n",
       "3             26            8       5  2.238404e+09          2   \n",
       "26             8            9       5  1.070081e+09          1   \n",
       "29             8           10       5  6.414410e+09          1   \n",
       "32            35           11       5  4.178901e+09          1   \n",
       "36            41           12       5  7.603139e+09          1   \n",
       "43            21           15       5  2.899522e+09          1   \n",
       "51             6           17       5  2.840009e+09          1   \n",
       "55            42           19       5  7.675336e+09          1   \n",
       "64             7           20       5  7.192192e+09          1   \n",
       "66             9           23       5  4.011000e+03          1   \n",
       "68             8           25       5  7.874207e+09          1   \n",
       "71            39           26       5  8.947000e+10          2   \n",
       "80            25           28       5  8.805523e+11          1   \n",
       "88             8           29       5  1.200001e+09          1   \n",
       "89             9           30       5  9.933894e+09          1   \n",
       "90             8           31       5  7.874298e+09          1   \n",
       "92             8           32       5  3.400000e+09          1   \n",
       "93             8           33       5  4.178901e+09          2   \n",
       "95             8           40       5  4.900002e+09          1   \n",
       "97             8           41       5  7.618316e+09          1   \n",
       "99             8           42       5  4.000049e+09          1   \n",
       "100           38           43       5  7.874235e+09          1   \n",
       "104            8           45       5  4.610000e+09          1   \n",
       "108           35           47       5  8.939615e+09          2   \n",
       "111           15           49       5  4.011000e+03          1   \n",
       "116            9           50       5  3.825775e+09          1   \n",
       "117            8           51       5  8.410580e+10          1   \n",
       "119            8           53       5  4.016000e+03          1   \n",
       "...          ...          ...     ...           ...        ...   \n",
       "646756        21       191276       7  3.650010e+09          1   \n",
       "646759        44       191277       7  3.419700e+09          1   \n",
       "646777         8       191280       7  3.700087e+09          1   \n",
       "646780        44       191283       7  2.840024e+09          1   \n",
       "646790        40       191286       7  3.338320e+09          1   \n",
       "646814        26       191287       7  7.245043e+10          2   \n",
       "646816         8       191289       7  6.112696e+10          1   \n",
       "646817         8       191291       7  4.011000e+03          1   \n",
       "646819        36       191293       7  8.410580e+10          1   \n",
       "646841        40       191298       7  4.409000e+03          1   \n",
       "646862        42       191301       7  4.796809e+09          1   \n",
       "646869        36       191304       7  9.800008e+08          1   \n",
       "646875        31       191305       7  8.217930e+10          1   \n",
       "646876         9       191311       7  8.870356e+10          1   \n",
       "646878        42       191312       7  5.200033e+09          2   \n",
       "646894        30       191313       7  7.001117e+09          1   \n",
       "646898         7       191318       7  7.874204e+09          1   \n",
       "646905        38       191322       7  6.053887e+10          1   \n",
       "646919        40       191324       7  2.500005e+09          1   \n",
       "646939        38       191326       7  1.600046e+09          1   \n",
       "646950        24       191329       7  2.833259e+09          1   \n",
       "646970         9       191331       7  7.046246e+10          1   \n",
       "646971        32       191335       7  6.811310e+10          1   \n",
       "646980        38       191337       7  7.874235e+09          1   \n",
       "647008         8       191342       7  4.000001e+09          1   \n",
       "647010        25       191343       7  8.863494e+10          1   \n",
       "647017        22       191344       7  7.918131e+09          1   \n",
       "647022        39       191345       7  3.700087e+09          1   \n",
       "647035        39       191346       7  3.760012e+09          1   \n",
       "647052         8       191347       7  4.190008e+09          1   \n",
       "\n",
       "              DepartmentDescription  FinelineNumber  \n",
       "0                FINANCIAL SERVICES          1000.0  \n",
       "1                             SHOES          8931.0  \n",
       "3             PAINT AND ACCESSORIES          3565.0  \n",
       "26              IMPULSE MERCHANDISE           115.0  \n",
       "29                      DSD GROCERY          2008.0  \n",
       "32                GROCERY DRY GOODS          3114.0  \n",
       "36                        BOYS WEAR           654.0  \n",
       "43               FABRICS AND CRAFTS          1056.0  \n",
       "51                      DSD GROCERY          3352.0  \n",
       "55              IMPULSE MERCHANDISE          8904.0  \n",
       "64                     FROZEN FOODS          9117.0  \n",
       "66                          PRODUCE          5501.0  \n",
       "68      INFANT CONSUMABLE HARDLINES          9012.0  \n",
       "71                            DAIRY          1450.0  \n",
       "80                       LADIESWEAR           313.0  \n",
       "88                      DSD GROCERY          9205.0  \n",
       "89                       LADIESWEAR          1180.0  \n",
       "90                           BAKERY          5024.0  \n",
       "92              IMPULSE MERCHANDISE           100.0  \n",
       "93                GROCERY DRY GOODS          3114.0  \n",
       "95                      DSD GROCERY          9546.0  \n",
       "97                      DSD GROCERY          3054.0  \n",
       "99              IMPULSE MERCHANDISE           115.0  \n",
       "100                           DAIRY          1508.0  \n",
       "104                           DAIRY          7960.0  \n",
       "108                     DSD GROCERY          3458.0  \n",
       "111                         PRODUCE          5501.0  \n",
       "116                       MENS WEAR          8218.0  \n",
       "117                   PERSONAL CARE          1406.0  \n",
       "119                         PRODUCE          1201.0  \n",
       "...                             ...             ...  \n",
       "646756              OFFICE SUPPLIES          2042.0  \n",
       "646759                 PHARMACY OTC          3738.0  \n",
       "646777        HOUSEHOLD PAPER GOODS          3050.0  \n",
       "646780                  DSD GROCERY          4402.0  \n",
       "646790                      PRODUCE          3602.0  \n",
       "646814        PAINT AND ACCESSORIES          1011.0  \n",
       "646816                  DSD GROCERY          3467.0  \n",
       "646817                      PRODUCE          5501.0  \n",
       "646819                PERSONAL CARE          1412.0  \n",
       "646841                      PRODUCE          1906.0  \n",
       "646862              BATH AND SHOWER          9912.0  \n",
       "646869          IMPULSE MERCHANDISE           145.0  \n",
       "646875                     WIRELESS           290.0  \n",
       "646876                    MENS WEAR          1640.0  \n",
       "646878                  DSD GROCERY          4606.0  \n",
       "646894                SHEER HOSIERY          2771.0  \n",
       "646898                  DSD GROCERY          4305.0  \n",
       "646905                        DAIRY          9100.0  \n",
       "646919                        DAIRY          1407.0  \n",
       "646939            GROCERY DRY GOODS          3600.0  \n",
       "646950                COOK AND DINE          4304.0  \n",
       "646970                   LADIESWEAR          9189.0  \n",
       "646971                 PHARMACY OTC          1120.0  \n",
       "646980            GROCERY DRY GOODS          4601.0  \n",
       "647008          IMPULSE MERCHANDISE           115.0  \n",
       "647010                    MENS WEAR          5225.0  \n",
       "647017                       BEAUTY          3405.0  \n",
       "647022        HOUSEHOLD PAPER GOODS          3080.0  \n",
       "647035            GROCERY DRY GOODS          1104.0  \n",
       "647052                        DAIRY          1512.0  \n",
       "\n",
       "[94247 rows x 7 columns]"
      ]
     },
     "execution_count": 43,
     "metadata": {},
     "output_type": "execute_result"
    }
   ],
   "source": [
    "data_triptypes"
   ]
  },
  {
   "cell_type": "code",
   "execution_count": 45,
   "metadata": {},
   "outputs": [],
   "source": [
    "x=data_triptypes[\"TripType\"]\n",
    "x=x.value_counts()\n",
    "\n"
   ]
  },
  {
   "cell_type": "code",
   "execution_count": 47,
   "metadata": {},
   "outputs": [
    {
     "data": {
      "text/plain": [
       "Text(0.5, 1.0, 'Number of Occuraces by trip type')"
      ]
     },
     "execution_count": 47,
     "metadata": {},
     "output_type": "execute_result"
    },
    {
     "data": {
      "image/png": "[encoded data removed]",
      "text/plain": [
       "<Figure size 720x360 with 1 Axes>"
      ]
     },
     "metadata": {
      "needs_background": "light"
     },
     "output_type": "display_data"
    }
   ],
   "source": [
    "graph=x.plot(kind='bar',figsize=(10,5),color=\"midnightblue\")\n",
    "graph.set_title(\"Number of Occuraces by trip type\")\n"
   ]
  },
  {
   "cell_type": "code",
   "execution_count": 50,
   "metadata": {},
   "outputs": [
    {
     "data": {
      "text/plain": [
       "Text(0, 0.5, 'ylabel')"
      ]
     },
     "execution_count": 50,
     "metadata": {},
     "output_type": "execute_result"
    },
    {
     "data": {
      "image/png": "[encoded data removed]",
      "text/plain": [
       "<Figure size 432x288 with 1 Axes>"
      ]
     },
     "metadata": {
      "needs_background": "light"
     },
     "output_type": "display_data"
    }
   ],
   "source": [
    "type_3=data[data.TripType==3]\n",
    "type_3_items=type_3[['TripType','DepartmentDescription']]\n",
    "type_3_items.DepartmentDescription.value_counts().head().plot(kind='bar',rot=45,\n",
    "                                                             title='Type 3 - Finacial Services',color='midnightblue')\n",
    "plt.xticks(fontsize=18)\n",
    "plt.ylabel('ylabel',fontsize=16)"
   ]
  },
  {
   "cell_type": "code",
   "execution_count": 51,
   "metadata": {},
   "outputs": [],
   "source": [
    "type_3_fineline = type_3.FinelineNumber.value_counts()\n",
    "type_3_fineline_finance = type_3[type_3.DepartmentDescription == \"FINANCIAL SERVICES\"].FinelineNumber.value_counts()"
   ]
  },
  {
   "cell_type": "code",
   "execution_count": 53,
   "metadata": {},
   "outputs": [
    {
     "data": {
      "text/plain": [
       "<matplotlib.axes._subplots.AxesSubplot at 0x1c054f12f28>"
      ]
     },
     "execution_count": 53,
     "metadata": {},
     "output_type": "execute_result"
    },
    {
     "data": {
      "image/png": "[encoded data removed]",
      "text/plain": [
       "<Figure size 432x288 with 1 Axes>"
      ]
     },
     "metadata": {
      "needs_background": "light"
     },
     "output_type": "display_data"
    }
   ],
   "source": [
    "type_3_fineline_finance.plot(kind=\"bar\", rot=45, title=\"Financial Servies Fineline Numbers for Type 3\", color=\"midnightblue\")"
   ]
  },
  {
   "cell_type": "code",
   "execution_count": 54,
   "metadata": {},
   "outputs": [
    {
     "data": {
      "text/plain": [
       "<matplotlib.axes._subplots.AxesSubplot at 0x1c04bd93668>"
      ]
     },
     "execution_count": 54,
     "metadata": {},
     "output_type": "execute_result"
    },
    {
     "data": {
      "image/png": "[encoded data removed]",
      "text/plain": [
       "<Figure size 432x288 with 1 Axes>"
      ]
     },
     "metadata": {
      "needs_background": "light"
     },
     "output_type": "display_data"
    }
   ],
   "source": [
    "type_3_fineline.head(13).plot(kind=\"bar\",rot=45,title=\"Financial Servies Fineline Numbers for type 3\")\n"
   ]
  },
  {
   "cell_type": "code",
   "execution_count": 56,
   "metadata": {},
   "outputs": [
    {
     "data": {
      "text/plain": [
       "277.0     829\n",
       "278.0     829\n",
       "0.0       826\n",
       "276.0     703\n",
       "275.0     702\n",
       "1000.0    468\n",
       "1001.0    449\n",
       "283.0     427\n",
       "1749.0    310\n",
       "200.0     290\n",
       "285.0     259\n",
       "2.0        76\n",
       "282.0      35\n",
       "Name: FinelineNumber, dtype: int64"
      ]
     },
     "execution_count": 56,
     "metadata": {},
     "output_type": "execute_result"
    }
   ],
   "source": [
    "type_3_fineline.head(13)"
   ]
  },
  {
   "cell_type": "code",
   "execution_count": 57,
   "metadata": {},
   "outputs": [
    {
     "data": {
      "text/plain": [
       "<matplotlib.axes._subplots.AxesSubplot at 0x1c04be200b8>"
      ]
     },
     "execution_count": 57,
     "metadata": {},
     "output_type": "execute_result"
    },
    {
     "data": {
      "image/png": "[encoded data removed]",
      "text/plain": [
       "<Figure size 432x288 with 1 Axes>"
      ]
     },
     "metadata": {
      "needs_background": "light"
     },
     "output_type": "display_data"
    }
   ],
   "source": [
    "type_4=data[data.TripType==4]\n",
    "type_4_items=type_4[['TripType',\"DepartmentDescription\"]]\n",
    "type_4_items.DepartmentDescription.value_counts().head().plot(kind=\"bar\",rot=45,title=\"type 4 Trip\",color=\"midnightblue\")"
   ]
  },
  {
   "cell_type": "code",
   "execution_count": 59,
   "metadata": {},
   "outputs": [
    {
     "data": {
      "text/plain": [
       "<matplotlib.axes._subplots.AxesSubplot at 0x1c04becbe80>"
      ]
     },
     "execution_count": 59,
     "metadata": {},
     "output_type": "execute_result"
    },
    {
     "data": {
      "image/png": "[encoded data removed]",
      "text/plain": [
       "<Figure size 432x288 with 1 Axes>"
      ]
     },
     "metadata": {
      "needs_background": "light"
     },
     "output_type": "display_data"
    }
   ],
   "source": [
    "type_5 = data[data.TripType == 5]\n",
    "type_5_items = type_5[[\"TripType\",\"DepartmentDescription\"]]\n",
    "type_5_items.DepartmentDescription.value_counts().head().plot(kind=\"bar\", rot=45, \n",
    "                                                              title=\"Type 5 Trips\", color=\"midnightblue\")"
   ]
  },
  {
   "cell_type": "code",
   "execution_count": 64,
   "metadata": {},
   "outputs": [
    {
     "data": {
      "text/plain": [
       "<matplotlib.axes._subplots.AxesSubplot at 0x1c04d979780>"
      ]
     },
     "execution_count": 64,
     "metadata": {},
     "output_type": "execute_result"
    },
    {
     "data": {
      "image/png": "[encoded data removed]",
      "text/plain": [
       "<Figure size 432x288 with 1 Axes>"
      ]
     },
     "metadata": {
      "needs_background": "light"
     },
     "output_type": "display_data"
    }
   ],
   "source": [
    "type_6=data[data.TripType==6]\n",
    "type_6_items=type_6[['TripType',\"DepartmentDescription\"]]\n",
    "type_6_items.DepartmentDescription.value_counts().head().plot(kind='bar',rot=45,title=\"Type 6 Trips\",color=\"midnightblue\")\n"
   ]
  },
  {
   "cell_type": "code",
   "execution_count": 66,
   "metadata": {},
   "outputs": [
    {
     "data": {
      "text/plain": [
       "<matplotlib.axes._subplots.AxesSubplot at 0x1c04da2ef28>"
      ]
     },
     "execution_count": 66,
     "metadata": {},
     "output_type": "execute_result"
    },
    {
     "data": {
      "image/png": "[encoded data removed]",
      "text/plain": [
       "<Figure size 432x288 with 1 Axes>"
      ]
     },
     "metadata": {
      "needs_background": "light"
     },
     "output_type": "display_data"
    }
   ],
   "source": [
    "type_7=data[data.TripType==7]\n",
    "type_7_items=type_7[[\"TripType\",\"DepartmentDescription\"]]\n",
    "type_7_items.DepartmentDescription.value_counts().head().plot(kind=\"bar\",rot=45,title=\"Type 7 Trips\",color=\"midnightblue\")"
   ]
  },
  {
   "cell_type": "code",
   "execution_count": 71,
   "metadata": {},
   "outputs": [
    {
     "data": {
      "text/plain": [
       "<matplotlib.axes._subplots.AxesSubplot at 0x1c04da9b780>"
      ]
     },
     "execution_count": 71,
     "metadata": {},
     "output_type": "execute_result"
    },
    {
     "data": {
      "image/png": "[encoded data removed]",
      "text/plain": [
       "<Figure size 432x288 with 1 Axes>"
      ]
     },
     "metadata": {
      "needs_background": "light"
     },
     "output_type": "display_data"
    }
   ],
   "source": [
    "type_8=data[data.TripType==8]\n",
    "type_8_items=type_8[['TripType',\"DepartmentDescription\"]]\n",
    "type_8_items.DepartmentDescription. value_counts().head().plot(kind='bar',rot=45,\n",
    "                                                              title=\"Type 8 Trips\",color=\"midnightblue\")"
   ]
  },
  {
   "cell_type": "code",
   "execution_count": 74,
   "metadata": {},
   "outputs": [
    {
     "name": "stderr",
     "output_type": "stream",
     "text": [
      "C:\\ProgramData\\Anaconda3\\lib\\site-packages\\pandas\\plotting\\_core.py:185: UserWarning: 'colors' is being deprecated. Please use 'color'instead of 'colors'\n",
      "  warnings.warn((\"'colors' is being deprecated. Please use 'color'\"\n"
     ]
    },
    {
     "data": {
      "text/plain": [
       "<matplotlib.axes._subplots.AxesSubplot at 0x1c04dae3550>"
      ]
     },
     "execution_count": 74,
     "metadata": {},
     "output_type": "execute_result"
    },
    {
     "data": {
      "image/png": "[encoded data removed]",
      "text/plain": [
       "<Figure size 432x288 with 1 Axes>"
      ]
     },
     "metadata": {
      "needs_background": "light"
     },
     "output_type": "display_data"
    }
   ],
   "source": [
    "type_9=data[data.TripType==9]\n",
    "type_9_items=type_9[[\"TripType\",\"DepartmentDescription\"]]\n",
    "type_9_items.DepartmentDescription.value_counts().head().plot(kind=\"bar\",rot=45,\n",
    "                                                            title=\"Type 9 Trips\",colors=\"midnightblue\")\n"
   ]
  },
  {
   "cell_type": "code",
   "execution_count": 76,
   "metadata": {},
   "outputs": [
    {
     "data": {
      "text/plain": [
       "<matplotlib.axes._subplots.AxesSubplot at 0x1c04db571d0>"
      ]
     },
     "execution_count": 76,
     "metadata": {},
     "output_type": "execute_result"
    },
    {
     "data": {
      "image/png": "[encoded data removed]",
      "text/plain": [
       "<Figure size 432x288 with 1 Axes>"
      ]
     },
     "metadata": {
      "needs_background": "light"
     },
     "output_type": "display_data"
    }
   ],
   "source": [
    "type_12 = data[data.TripType == 12]\n",
    "type_12_items = type_12[[\"TripType\",\"DepartmentDescription\"]]\n",
    "type_12_items.DepartmentDescription.value_counts().head().plot(kind=\"bar\", rot=45, \n",
    "                                                              title=\"Type 12 Trips\", color=\"midnightblue\")\n"
   ]
  },
  {
   "cell_type": "code",
   "execution_count": 84,
   "metadata": {},
   "outputs": [
    {
     "data": {
      "text/plain": [
       "<matplotlib.axes._subplots.AxesSubplot at 0x1c04dc15550>"
      ]
     },
     "execution_count": 84,
     "metadata": {},
     "output_type": "execute_result"
    },
    {
     "data": {
      "image/png": "[encoded data removed]",
      "text/plain": [
       "<Figure size 432x288 with 1 Axes>"
      ]
     },
     "metadata": {
      "needs_background": "light"
     },
     "output_type": "display_data"
    }
   ],
   "source": [
    "type_14=data[data.TripType==14]\n",
    "type_14_items=type_14[['TripType','DepartmentDescription']]\n",
    "type_14_items.DepartmentDescription.value_counts().head().plot(kind='bar',rot=45,\n",
    "                                                              title=\"Type 14 Trips\",color=\"midnightblue\")\n"
   ]
  },
  {
   "cell_type": "code",
   "execution_count": 86,
   "metadata": {},
   "outputs": [
    {
     "data": {
      "image/png": "[encoded data removed]",
      "text/plain": [
       "<Figure size 432x288 with 1 Axes>"
      ]
     },
     "metadata": {
      "needs_background": "light"
     },
     "output_type": "display_data"
    }
   ],
   "source": [
    "type_15=data[data.TripType==15]\n",
    "type_15_items=type_15[[\"TripType\",\"DepartmentDescription\"]]\n",
    "\n",
    "x=type_15_items.DepartmentDescription.value_counts().head().plot(kind='bar',rot=45,color='red')"
   ]
  },
  {
   "cell_type": "code",
   "execution_count": 90,
   "metadata": {},
   "outputs": [
    {
     "data": {
      "text/plain": [
       "<matplotlib.axes._subplots.AxesSubplot at 0x1c0500f6c88>"
      ]
     },
     "execution_count": 90,
     "metadata": {},
     "output_type": "execute_result"
    },
    {
     "data": {
      "image/png": "[encoded data removed]",
      "text/plain": [
       "<Figure size 432x288 with 1 Axes>"
      ]
     },
     "metadata": {
      "needs_background": "light"
     },
     "output_type": "display_data"
    }
   ],
   "source": [
    "type_18=data[data.TripType==18]\n",
    "type_18_items=type_18[['TripType','DepartmentDescription']]\n",
    "type_18_items.DepartmentDescription.value_counts().head().plot(kind='bar',rot=45,color='blue')"
   ]
  },
  {
   "cell_type": "code",
   "execution_count": 94,
   "metadata": {},
   "outputs": [
    {
     "data": {
      "text/plain": [
       "<matplotlib.axes._subplots.AxesSubplot at 0x1c0501633c8>"
      ]
     },
     "execution_count": 94,
     "metadata": {},
     "output_type": "execute_result"
    },
    {
     "data": {
      "image/png": "[encoded data removed]",
      "text/plain": [
       "<Figure size 432x288 with 1 Axes>"
      ]
     },
     "metadata": {
      "needs_background": "light"
     },
     "output_type": "display_data"
    }
   ],
   "source": [
    "type_19=data[data.TripType==19]\n",
    "type_19_items=type_19[['TripType','DepartmentDescription']]\n",
    "type_19_items.DepartmentDescription.value_counts().head().plot(kind='bar',rot=56,color='black')"
   ]
  },
  {
   "cell_type": "code",
   "execution_count": 96,
   "metadata": {},
   "outputs": [
    {
     "data": {
      "text/plain": [
       "<matplotlib.axes._subplots.AxesSubplot at 0x1c0501d4438>"
      ]
     },
     "execution_count": 96,
     "metadata": {},
     "output_type": "execute_result"
    },
    {
     "data": {
      "image/png": "[encoded data removed]",
      "text/plain": [
       "<Figure size 432x288 with 1 Axes>"
      ]
     },
     "metadata": {
      "needs_background": "light"
     },
     "output_type": "display_data"
    }
   ],
   "source": [
    "type_20=data[data.TripType==20]\n",
    "type_20_items=type_20[['TripType',\"DepartmentDescription\"]]\n",
    "type_20_items.DepartmentDescription.value_counts().head().plot(kind='bar',rot=45,color='Blue')"
   ]
  },
  {
   "cell_type": "code",
   "execution_count": 99,
   "metadata": {},
   "outputs": [
    {
     "data": {
      "text/plain": [
       "<matplotlib.axes._subplots.AxesSubplot at 0x1c050222dd8>"
      ]
     },
     "execution_count": 99,
     "metadata": {},
     "output_type": "execute_result"
    },
    {
     "data": {
      "image/png": "[encoded data removed]",
      "text/plain": [
       "<Figure size 432x288 with 1 Axes>"
      ]
     },
     "metadata": {
      "needs_background": "light"
     },
     "output_type": "display_data"
    }
   ],
   "source": [
    "type_21=data[data.TripType==21]\n",
    "type_21_items=type_21[[\"TripType\",\"DepartmentDescription\"]]\n",
    "type_21_items.DepartmentDescription.value_counts().head().plot(kind='bar',rot=45,color='silver')"
   ]
  },
  {
   "cell_type": "code",
   "execution_count": 102,
   "metadata": {},
   "outputs": [
    {
     "data": {
      "text/html": [
       "<div>\n",
       "<style scoped>\n",
       "    .dataframe tbody tr th:only-of-type {\n",
       "        vertical-align: middle;\n",
       "    }\n",
       "\n",
       "    .dataframe tbody tr th {\n",
       "        vertical-align: top;\n",
       "    }\n",
       "\n",
       "    .dataframe thead th {\n",
       "        text-align: right;\n",
       "    }\n",
       "</style>\n",
       "<table border=\"1\" class=\"dataframe\">\n",
       "  <thead>\n",
       "    <tr style=\"text-align: right;\">\n",
       "      <th></th>\n",
       "      <th>TripType</th>\n",
       "      <th>DepartmentDescription</th>\n",
       "    </tr>\n",
       "  </thead>\n",
       "  <tbody>\n",
       "    <tr>\n",
       "      <th>315</th>\n",
       "      <td>24</td>\n",
       "      <td>COOK AND DINE</td>\n",
       "    </tr>\n",
       "    <tr>\n",
       "      <th>316</th>\n",
       "      <td>24</td>\n",
       "      <td>WIRELESS</td>\n",
       "    </tr>\n",
       "    <tr>\n",
       "      <th>317</th>\n",
       "      <td>24</td>\n",
       "      <td>BEDDING</td>\n",
       "    </tr>\n",
       "    <tr>\n",
       "      <th>318</th>\n",
       "      <td>24</td>\n",
       "      <td>BEDDING</td>\n",
       "    </tr>\n",
       "    <tr>\n",
       "      <th>319</th>\n",
       "      <td>24</td>\n",
       "      <td>BATH AND SHOWER</td>\n",
       "    </tr>\n",
       "    <tr>\n",
       "      <th>320</th>\n",
       "      <td>24</td>\n",
       "      <td>IMPULSE MERCHANDISE</td>\n",
       "    </tr>\n",
       "    <tr>\n",
       "      <th>321</th>\n",
       "      <td>24</td>\n",
       "      <td>COOK AND DINE</td>\n",
       "    </tr>\n",
       "    <tr>\n",
       "      <th>322</th>\n",
       "      <td>24</td>\n",
       "      <td>COOK AND DINE</td>\n",
       "    </tr>\n",
       "    <tr>\n",
       "      <th>323</th>\n",
       "      <td>24</td>\n",
       "      <td>COOK AND DINE</td>\n",
       "    </tr>\n",
       "    <tr>\n",
       "      <th>324</th>\n",
       "      <td>24</td>\n",
       "      <td>COOK AND DINE</td>\n",
       "    </tr>\n",
       "    <tr>\n",
       "      <th>325</th>\n",
       "      <td>24</td>\n",
       "      <td>COOK AND DINE</td>\n",
       "    </tr>\n",
       "    <tr>\n",
       "      <th>326</th>\n",
       "      <td>24</td>\n",
       "      <td>HOME MANAGEMENT</td>\n",
       "    </tr>\n",
       "    <tr>\n",
       "      <th>327</th>\n",
       "      <td>24</td>\n",
       "      <td>BATH AND SHOWER</td>\n",
       "    </tr>\n",
       "    <tr>\n",
       "      <th>328</th>\n",
       "      <td>24</td>\n",
       "      <td>BATH AND SHOWER</td>\n",
       "    </tr>\n",
       "    <tr>\n",
       "      <th>329</th>\n",
       "      <td>24</td>\n",
       "      <td>BEDDING</td>\n",
       "    </tr>\n",
       "    <tr>\n",
       "      <th>330</th>\n",
       "      <td>24</td>\n",
       "      <td>COOK AND DINE</td>\n",
       "    </tr>\n",
       "    <tr>\n",
       "      <th>331</th>\n",
       "      <td>24</td>\n",
       "      <td>COOK AND DINE</td>\n",
       "    </tr>\n",
       "    <tr>\n",
       "      <th>332</th>\n",
       "      <td>24</td>\n",
       "      <td>COOK AND DINE</td>\n",
       "    </tr>\n",
       "    <tr>\n",
       "      <th>333</th>\n",
       "      <td>24</td>\n",
       "      <td>COOK AND DINE</td>\n",
       "    </tr>\n",
       "    <tr>\n",
       "      <th>334</th>\n",
       "      <td>24</td>\n",
       "      <td>COOK AND DINE</td>\n",
       "    </tr>\n",
       "    <tr>\n",
       "      <th>335</th>\n",
       "      <td>24</td>\n",
       "      <td>BEDDING</td>\n",
       "    </tr>\n",
       "    <tr>\n",
       "      <th>438</th>\n",
       "      <td>24</td>\n",
       "      <td>HOME MANAGEMENT</td>\n",
       "    </tr>\n",
       "    <tr>\n",
       "      <th>439</th>\n",
       "      <td>24</td>\n",
       "      <td>DSD GROCERY</td>\n",
       "    </tr>\n",
       "    <tr>\n",
       "      <th>440</th>\n",
       "      <td>24</td>\n",
       "      <td>HOUSEHOLD PAPER GOODS</td>\n",
       "    </tr>\n",
       "    <tr>\n",
       "      <th>441</th>\n",
       "      <td>24</td>\n",
       "      <td>OFFICE SUPPLIES</td>\n",
       "    </tr>\n",
       "    <tr>\n",
       "      <th>1125</th>\n",
       "      <td>24</td>\n",
       "      <td>LAWN AND GARDEN</td>\n",
       "    </tr>\n",
       "    <tr>\n",
       "      <th>1126</th>\n",
       "      <td>24</td>\n",
       "      <td>COOK AND DINE</td>\n",
       "    </tr>\n",
       "    <tr>\n",
       "      <th>1127</th>\n",
       "      <td>24</td>\n",
       "      <td>BATH AND SHOWER</td>\n",
       "    </tr>\n",
       "    <tr>\n",
       "      <th>1128</th>\n",
       "      <td>24</td>\n",
       "      <td>BATH AND SHOWER</td>\n",
       "    </tr>\n",
       "    <tr>\n",
       "      <th>1462</th>\n",
       "      <td>24</td>\n",
       "      <td>COOK AND DINE</td>\n",
       "    </tr>\n",
       "    <tr>\n",
       "      <th>...</th>\n",
       "      <td>...</td>\n",
       "      <td>...</td>\n",
       "    </tr>\n",
       "    <tr>\n",
       "      <th>646458</th>\n",
       "      <td>24</td>\n",
       "      <td>GROCERY DRY GOODS</td>\n",
       "    </tr>\n",
       "    <tr>\n",
       "      <th>646459</th>\n",
       "      <td>24</td>\n",
       "      <td>BATH AND SHOWER</td>\n",
       "    </tr>\n",
       "    <tr>\n",
       "      <th>646460</th>\n",
       "      <td>24</td>\n",
       "      <td>MEAT - FRESH &amp; FROZEN</td>\n",
       "    </tr>\n",
       "    <tr>\n",
       "      <th>646461</th>\n",
       "      <td>24</td>\n",
       "      <td>HOUSEHOLD PAPER GOODS</td>\n",
       "    </tr>\n",
       "    <tr>\n",
       "      <th>646563</th>\n",
       "      <td>24</td>\n",
       "      <td>PERSONAL CARE</td>\n",
       "    </tr>\n",
       "    <tr>\n",
       "      <th>646564</th>\n",
       "      <td>24</td>\n",
       "      <td>PERSONAL CARE</td>\n",
       "    </tr>\n",
       "    <tr>\n",
       "      <th>646565</th>\n",
       "      <td>24</td>\n",
       "      <td>PERSONAL CARE</td>\n",
       "    </tr>\n",
       "    <tr>\n",
       "      <th>646566</th>\n",
       "      <td>24</td>\n",
       "      <td>HOME DECOR</td>\n",
       "    </tr>\n",
       "    <tr>\n",
       "      <th>646567</th>\n",
       "      <td>24</td>\n",
       "      <td>HOME DECOR</td>\n",
       "    </tr>\n",
       "    <tr>\n",
       "      <th>646680</th>\n",
       "      <td>24</td>\n",
       "      <td>BEDDING</td>\n",
       "    </tr>\n",
       "    <tr>\n",
       "      <th>646950</th>\n",
       "      <td>24</td>\n",
       "      <td>COOK AND DINE</td>\n",
       "    </tr>\n",
       "    <tr>\n",
       "      <th>646951</th>\n",
       "      <td>24</td>\n",
       "      <td>IMPULSE MERCHANDISE</td>\n",
       "    </tr>\n",
       "    <tr>\n",
       "      <th>646952</th>\n",
       "      <td>24</td>\n",
       "      <td>BATH AND SHOWER</td>\n",
       "    </tr>\n",
       "    <tr>\n",
       "      <th>646953</th>\n",
       "      <td>24</td>\n",
       "      <td>HOME DECOR</td>\n",
       "    </tr>\n",
       "    <tr>\n",
       "      <th>646954</th>\n",
       "      <td>24</td>\n",
       "      <td>DAIRY</td>\n",
       "    </tr>\n",
       "    <tr>\n",
       "      <th>646955</th>\n",
       "      <td>24</td>\n",
       "      <td>HOME MANAGEMENT</td>\n",
       "    </tr>\n",
       "    <tr>\n",
       "      <th>646956</th>\n",
       "      <td>24</td>\n",
       "      <td>FINANCIAL SERVICES</td>\n",
       "    </tr>\n",
       "    <tr>\n",
       "      <th>646957</th>\n",
       "      <td>24</td>\n",
       "      <td>HOUSEHOLD CHEMICALS/SUPP</td>\n",
       "    </tr>\n",
       "    <tr>\n",
       "      <th>646958</th>\n",
       "      <td>24</td>\n",
       "      <td>DAIRY</td>\n",
       "    </tr>\n",
       "    <tr>\n",
       "      <th>646959</th>\n",
       "      <td>24</td>\n",
       "      <td>COOK AND DINE</td>\n",
       "    </tr>\n",
       "    <tr>\n",
       "      <th>646960</th>\n",
       "      <td>24</td>\n",
       "      <td>COOK AND DINE</td>\n",
       "    </tr>\n",
       "    <tr>\n",
       "      <th>646961</th>\n",
       "      <td>24</td>\n",
       "      <td>COOK AND DINE</td>\n",
       "    </tr>\n",
       "    <tr>\n",
       "      <th>646962</th>\n",
       "      <td>24</td>\n",
       "      <td>HOME MANAGEMENT</td>\n",
       "    </tr>\n",
       "    <tr>\n",
       "      <th>646963</th>\n",
       "      <td>24</td>\n",
       "      <td>BATH AND SHOWER</td>\n",
       "    </tr>\n",
       "    <tr>\n",
       "      <th>646964</th>\n",
       "      <td>24</td>\n",
       "      <td>HOME MANAGEMENT</td>\n",
       "    </tr>\n",
       "    <tr>\n",
       "      <th>646965</th>\n",
       "      <td>24</td>\n",
       "      <td>COOK AND DINE</td>\n",
       "    </tr>\n",
       "    <tr>\n",
       "      <th>646966</th>\n",
       "      <td>24</td>\n",
       "      <td>HOME MANAGEMENT</td>\n",
       "    </tr>\n",
       "    <tr>\n",
       "      <th>646967</th>\n",
       "      <td>24</td>\n",
       "      <td>FROZEN FOODS</td>\n",
       "    </tr>\n",
       "    <tr>\n",
       "      <th>646968</th>\n",
       "      <td>24</td>\n",
       "      <td>COOK AND DINE</td>\n",
       "    </tr>\n",
       "    <tr>\n",
       "      <th>646969</th>\n",
       "      <td>24</td>\n",
       "      <td>COOK AND DINE</td>\n",
       "    </tr>\n",
       "  </tbody>\n",
       "</table>\n",
       "<p>17967 rows × 2 columns</p>\n",
       "</div>"
      ],
      "text/plain": [
       "        TripType     DepartmentDescription\n",
       "315           24             COOK AND DINE\n",
       "316           24                  WIRELESS\n",
       "317           24                   BEDDING\n",
       "318           24                   BEDDING\n",
       "319           24           BATH AND SHOWER\n",
       "320           24       IMPULSE MERCHANDISE\n",
       "321           24             COOK AND DINE\n",
       "322           24             COOK AND DINE\n",
       "323           24             COOK AND DINE\n",
       "324           24             COOK AND DINE\n",
       "325           24             COOK AND DINE\n",
       "326           24           HOME MANAGEMENT\n",
       "327           24           BATH AND SHOWER\n",
       "328           24           BATH AND SHOWER\n",
       "329           24                   BEDDING\n",
       "330           24             COOK AND DINE\n",
       "331           24             COOK AND DINE\n",
       "332           24             COOK AND DINE\n",
       "333           24             COOK AND DINE\n",
       "334           24             COOK AND DINE\n",
       "335           24                   BEDDING\n",
       "438           24           HOME MANAGEMENT\n",
       "439           24               DSD GROCERY\n",
       "440           24     HOUSEHOLD PAPER GOODS\n",
       "441           24           OFFICE SUPPLIES\n",
       "1125          24           LAWN AND GARDEN\n",
       "1126          24             COOK AND DINE\n",
       "1127          24           BATH AND SHOWER\n",
       "1128          24           BATH AND SHOWER\n",
       "1462          24             COOK AND DINE\n",
       "...          ...                       ...\n",
       "646458        24         GROCERY DRY GOODS\n",
       "646459        24           BATH AND SHOWER\n",
       "646460        24     MEAT - FRESH & FROZEN\n",
       "646461        24     HOUSEHOLD PAPER GOODS\n",
       "646563        24             PERSONAL CARE\n",
       "646564        24             PERSONAL CARE\n",
       "646565        24             PERSONAL CARE\n",
       "646566        24                HOME DECOR\n",
       "646567        24                HOME DECOR\n",
       "646680        24                   BEDDING\n",
       "646950        24             COOK AND DINE\n",
       "646951        24       IMPULSE MERCHANDISE\n",
       "646952        24           BATH AND SHOWER\n",
       "646953        24                HOME DECOR\n",
       "646954        24                     DAIRY\n",
       "646955        24           HOME MANAGEMENT\n",
       "646956        24        FINANCIAL SERVICES\n",
       "646957        24  HOUSEHOLD CHEMICALS/SUPP\n",
       "646958        24                     DAIRY\n",
       "646959        24             COOK AND DINE\n",
       "646960        24             COOK AND DINE\n",
       "646961        24             COOK AND DINE\n",
       "646962        24           HOME MANAGEMENT\n",
       "646963        24           BATH AND SHOWER\n",
       "646964        24           HOME MANAGEMENT\n",
       "646965        24             COOK AND DINE\n",
       "646966        24           HOME MANAGEMENT\n",
       "646967        24              FROZEN FOODS\n",
       "646968        24             COOK AND DINE\n",
       "646969        24             COOK AND DINE\n",
       "\n",
       "[17967 rows x 2 columns]"
      ]
     },
     "execution_count": 102,
     "metadata": {},
     "output_type": "execute_result"
    }
   ],
   "source": [
    "type_24=data[data.TripType==24]\n",
    "type_24_items=type_24[['TripType','DepartmentDescription']]\n",
    "type_24_items"
   ]
  },
  {
   "cell_type": "code",
   "execution_count": null,
   "metadata": {},
   "outputs": [],
   "source": [
    "type_25=data[data.TripType==25]\n",
    "type_25_items"
   ]
  }
 ],
 "metadata": {
  "kernelspec": {
   "display_name": "Python 3",
   "language": "python",
   "name": "python3"
  },
  "language_info": {
   "codemirror_mode": {
    "name": "ipython",
    "version": 3
   },
   "file_extension": ".py",
   "mimetype": "text/x-python",
   "name": "python",
   "nbconvert_exporter": "python",
   "pygments_lexer": "ipython3",
   "version": "3.6.8"
  }
 },
 "nbformat": 4,
 "nbformat_minor": 2
}
