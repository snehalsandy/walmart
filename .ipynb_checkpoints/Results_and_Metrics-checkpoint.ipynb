{
 "cells": [
  {
   "cell_type": "code",
   "execution_count": 234,
   "metadata": {
    "collapsed": true
   },
   "outputs": [],
   "source": [
    "import pandas as pd\n",
    "import numpy as np\n",
    "import re \n",
    "import matplotlib.pyplot as plt\n",
    "import seaborn\n",
    "import scipy\n",
    "%matplotlib inline"
   ]
  },
  {
   "cell_type": "code",
   "execution_count": 235,
   "metadata": {
    "collapsed": true
   },
   "outputs": [],
   "source": [
    "import datetime"
   ]
  },
  {
   "cell_type": "code",
   "execution_count": 236,
   "metadata": {
    "collapsed": false
   },
   "outputs": [],
   "source": [
    "results = pd.DataFrame({\"LocalScore\": [1.36406], \"KaggleScore\": [1.36788], \n",
    "                        \"Date\": [datetime.datetime.now().strftime('%m/%d/%y')], \n",
    "                                 \"Rank\": [240], \n",
    "                        \"Description\": [\"Logistic regression using initial features\"],\n",
    "                       })"
   ]
  },
  {
   "cell_type": "code",
   "execution_count": 237,
   "metadata": {
    "collapsed": true
   },
   "outputs": [],
   "source": [
    "results = results.append({\"LocalScore\": 1.64493, \"KaggleScore\": \"0\", \n",
    "                        \"Date\": datetime.datetime.now().strftime('%m/%d/%y'),\n",
    "               \"Description\": \"Random Forest with 100 estimators\"\n",
    "                       }, ignore_index = True)\n",
    "results = results.append({\"LocalScore\": 4.25146, \"KaggleScore\": \"0\", \n",
    "                        \"Date\": datetime.datetime.now().strftime('%m/%d/%y'),\n",
    "               \"Description\": \"Random Forest with 10 estimators\"\n",
    "                       }, ignore_index = True)\n",
    "results = results.append({\"LocalScore\": 1.44762, \"KaggleScore\": \"0\", \n",
    "                        \"Date\": datetime.datetime.now().strftime('%m/%d/%y'),\n",
    "               \"Description\": \"Random Forest with 200 estimators\"\n",
    "                       }, ignore_index = True)\n",
    "results = results.append({\"LocalScore\": 1.37421, \"KaggleScore\": \"0\", \n",
    "                        \"Date\": datetime.datetime.now().strftime('%m/%d/%y'),\n",
    "               \"Description\": \"Random Forest with 300 estimators\"\n",
    "                       }, ignore_index = True)\n",
    "results = results.append({\"LocalScore\": 1.31995, \"KaggleScore\": 1.34620, \n",
    "                        \"Date\": datetime.datetime.now().strftime('%m/%d/%y'),\n",
    "               \"Description\": \"Random Forest with 400 estimators\"\n",
    "                       }, ignore_index = True)\n",
    "results = results.append({\"LocalScore\": 30.04107, \"KaggleScore\": 0, \n",
    "                        \"Date\": datetime.datetime.now().strftime('%m/%d/%y'),\n",
    "               \"Description\": \"Gaussian Naive Bayes\"\n",
    "                       }, ignore_index = True)\n",
    "results = results.append({\"LocalScore\": 1.37899, \"KaggleScore\": 1.38825, \n",
    "                        \"Date\": datetime.datetime.now().strftime('%m/%d/%y'),\n",
    "               \"Description\": \"Bernoulli Naive Bayes\"\n",
    "                       }, ignore_index = True)\n",
    "results = results.append({\"LocalScore\": 6.31217, \"KaggleScore\": 0, \n",
    "                        \"Date\": datetime.datetime.now().strftime('%m/%d/%y'),\n",
    "               \"Description\": \"K-Neighbors\", \"Rank\": 0\n",
    "                       }, ignore_index = True)\n",
    "results = results.append({\"LocalScore\": 4.46558, \"KaggleScore\": 0, \n",
    "                        \"Date\": datetime.datetime.now().strftime('%m/%d/%y'),\n",
    "               \"Description\": \"LinearSVC with decision_function\", \"Rank\": 0\n",
    "                       }, ignore_index = True)\n",
    "results = results.append({\"LocalScore\": 2.06826, \"KaggleScore\": 0, \n",
    "                        \"Date\": datetime.datetime.now().strftime('%m/%d/%y'),\n",
    "               \"Description\": \"ExtraTrees\", \"Rank\": 0\n",
    "                       }, ignore_index = True)\n",
    "results = results.append({\"LocalScore\": 1.29012, \"KaggleScore\": 1.30906, \n",
    "                        \"Date\": datetime.datetime.now().strftime('%m/%d/%y'),\n",
    "               \"Description\": \"Random Trees with 2 max features\", \"Rank\": 232\n",
    "                       }, ignore_index = True)\n",
    "results = results.append({\"LocalScore\": 0.93294, \"KaggleScore\": 0.94074, \n",
    "                        \"Date\": datetime.datetime.now().strftime('%m/%d/%y'),\n",
    "               \"Description\": \"First XGBoost run, 74 rounds\", \"Rank\": 176\n",
    "                       }, ignore_index = True)\n",
    "results = results.append({\"LocalScore\": 0.83730, \"KaggleScore\": 0.84924, \n",
    "                        \"Date\": datetime.datetime.now().strftime('%m/%d/%y'),\n",
    "               \"Description\": \"Fineline +300 Occurences\", \"Rank\": 173\n",
    "                       }, ignore_index = True)\n",
    "results = results.append({\"LocalScore\": 0.82405, \"KaggleScore\": 0.83314, \n",
    "                        \"Date\": datetime.datetime.now().strftime('%m/%d/%y'),\n",
    "               \"Description\": \"Fineline +400 Occurences\", \"Rank\": 173\n",
    "                       }, ignore_index = True)\n",
    "results = results.append({\"LocalScore\": 0.81711, \"KaggleScore\": 0.82669, \n",
    "                        \"Date\": datetime.datetime.now().strftime('%m/%d/%y'),\n",
    "               \"Description\": \"Adding CategoryCounts\", \"Rank\": 169\n",
    "                       }, ignore_index = True)\n",
    "\n",
    "results.ix[1,'Rank'] = 0\n",
    "results.ix[2,'Rank'] = 0\n",
    "results.ix[3,'Rank'] = 0\n",
    "results.ix[4,'Rank'] = 0\n",
    "results.ix[5,'Rank'] = 230\n",
    "results.ix[6,'Rank'] = 0\n",
    "results.ix[7,'Rank'] = 240\n",
    "\n",
    "results.ix[0,'Date'] = \"11/19/15\"\n",
    "results.ix[1,'Date'] = \"11/19/15\"\n",
    "results.ix[2,'Date'] = \"11/19/15\"\n",
    "results.ix[3,'Date'] = \"11/19/15\"\n",
    "results.ix[4,'Date'] = \"11/19/15\"\n",
    "results.ix[5,'Date'] = \"11/19/15\"\n",
    "results.ix[6,'Date'] = \"11/20/15\"\n",
    "results.ix[7,'Date'] = \"11/20/15\"\n",
    "results.ix[8,'Date'] = \"11/20/15\"\n",
    "results.ix[9,'Date'] = \"11/20/15\"\n",
    "results.ix[10,'Date'] = \"11/20/15\"\n",
    "results.ix[11,'Date'] = \"11/20/15\"\n",
    "results.ix[12,'Date'] = \"12/1/15\"\n",
    "results.ix[13,'Date'] = \"12/2/15\"\n",
    "results.ix[14,'Date'] = \"12/2/15\"\n",
    "results.ix[15,'Date'] = \"12/2/15\"\n",
    "\n",
    "results[\"Accuracy\"] = \"N/A\"\n",
    "results.ix[12,'Accuracy'] = .69\n",
    "results.ix[15,'Accuracy'] = .72"
   ]
  },
  {
   "cell_type": "code",
   "execution_count": 238,
   "metadata": {
    "collapsed": false,
    "scrolled": true
   },
   "outputs": [
    {
     "data": {
      "text/html": [
       "<div>\n",
       "<table border=\"1\" class=\"dataframe\">\n",
       "  <thead>\n",
       "    <tr style=\"text-align: right;\">\n",
       "      <th></th>\n",
       "      <th>Date</th>\n",
       "      <th>Description</th>\n",
       "      <th>KaggleScore</th>\n",
       "      <th>LocalScore</th>\n",
       "      <th>Rank</th>\n",
       "      <th>Accuracy</th>\n",
       "    </tr>\n",
       "  </thead>\n",
       "  <tbody>\n",
       "    <tr>\n",
       "      <th>0</th>\n",
       "      <td>11/19/15</td>\n",
       "      <td>Logistic regression using initial features</td>\n",
       "      <td>1.36788</td>\n",
       "      <td>1.36406</td>\n",
       "      <td>240</td>\n",
       "      <td>N/A</td>\n",
       "    </tr>\n",
       "    <tr>\n",
       "      <th>1</th>\n",
       "      <td>11/19/15</td>\n",
       "      <td>Random Forest with 100 estimators</td>\n",
       "      <td>0</td>\n",
       "      <td>1.64493</td>\n",
       "      <td>0</td>\n",
       "      <td>N/A</td>\n",
       "    </tr>\n",
       "    <tr>\n",
       "      <th>2</th>\n",
       "      <td>11/19/15</td>\n",
       "      <td>Random Forest with 10 estimators</td>\n",
       "      <td>0</td>\n",
       "      <td>4.25146</td>\n",
       "      <td>0</td>\n",
       "      <td>N/A</td>\n",
       "    </tr>\n",
       "    <tr>\n",
       "      <th>3</th>\n",
       "      <td>11/19/15</td>\n",
       "      <td>Random Forest with 200 estimators</td>\n",
       "      <td>0</td>\n",
       "      <td>1.44762</td>\n",
       "      <td>0</td>\n",
       "      <td>N/A</td>\n",
       "    </tr>\n",
       "    <tr>\n",
       "      <th>4</th>\n",
       "      <td>11/19/15</td>\n",
       "      <td>Random Forest with 300 estimators</td>\n",
       "      <td>0</td>\n",
       "      <td>1.37421</td>\n",
       "      <td>0</td>\n",
       "      <td>N/A</td>\n",
       "    </tr>\n",
       "    <tr>\n",
       "      <th>5</th>\n",
       "      <td>11/19/15</td>\n",
       "      <td>Random Forest with 400 estimators</td>\n",
       "      <td>1.3462</td>\n",
       "      <td>1.31995</td>\n",
       "      <td>230</td>\n",
       "      <td>N/A</td>\n",
       "    </tr>\n",
       "    <tr>\n",
       "      <th>6</th>\n",
       "      <td>11/20/15</td>\n",
       "      <td>Gaussian Naive Bayes</td>\n",
       "      <td>0</td>\n",
       "      <td>30.04107</td>\n",
       "      <td>0</td>\n",
       "      <td>N/A</td>\n",
       "    </tr>\n",
       "    <tr>\n",
       "      <th>7</th>\n",
       "      <td>11/20/15</td>\n",
       "      <td>Bernoulli Naive Bayes</td>\n",
       "      <td>1.38825</td>\n",
       "      <td>1.37899</td>\n",
       "      <td>240</td>\n",
       "      <td>N/A</td>\n",
       "    </tr>\n",
       "    <tr>\n",
       "      <th>8</th>\n",
       "      <td>11/20/15</td>\n",
       "      <td>K-Neighbors</td>\n",
       "      <td>0</td>\n",
       "      <td>6.31217</td>\n",
       "      <td>0</td>\n",
       "      <td>N/A</td>\n",
       "    </tr>\n",
       "    <tr>\n",
       "      <th>9</th>\n",
       "      <td>11/20/15</td>\n",
       "      <td>LinearSVC with decision_function</td>\n",
       "      <td>0</td>\n",
       "      <td>4.46558</td>\n",
       "      <td>0</td>\n",
       "      <td>N/A</td>\n",
       "    </tr>\n",
       "    <tr>\n",
       "      <th>10</th>\n",
       "      <td>11/20/15</td>\n",
       "      <td>ExtraTrees</td>\n",
       "      <td>0</td>\n",
       "      <td>2.06826</td>\n",
       "      <td>0</td>\n",
       "      <td>N/A</td>\n",
       "    </tr>\n",
       "    <tr>\n",
       "      <th>11</th>\n",
       "      <td>11/20/15</td>\n",
       "      <td>Random Trees with 2 max features</td>\n",
       "      <td>1.30906</td>\n",
       "      <td>1.29012</td>\n",
       "      <td>232</td>\n",
       "      <td>N/A</td>\n",
       "    </tr>\n",
       "    <tr>\n",
       "      <th>12</th>\n",
       "      <td>12/1/15</td>\n",
       "      <td>First XGBoost run, 74 rounds</td>\n",
       "      <td>0.94074</td>\n",
       "      <td>0.93294</td>\n",
       "      <td>176</td>\n",
       "      <td>0.69</td>\n",
       "    </tr>\n",
       "    <tr>\n",
       "      <th>13</th>\n",
       "      <td>12/2/15</td>\n",
       "      <td>Fineline +300 Occurences</td>\n",
       "      <td>0.84924</td>\n",
       "      <td>0.83730</td>\n",
       "      <td>173</td>\n",
       "      <td>N/A</td>\n",
       "    </tr>\n",
       "    <tr>\n",
       "      <th>14</th>\n",
       "      <td>12/2/15</td>\n",
       "      <td>Fineline +400 Occurences</td>\n",
       "      <td>0.83314</td>\n",
       "      <td>0.82405</td>\n",
       "      <td>173</td>\n",
       "      <td>N/A</td>\n",
       "    </tr>\n",
       "    <tr>\n",
       "      <th>15</th>\n",
       "      <td>12/2/15</td>\n",
       "      <td>Adding CategoryCounts</td>\n",
       "      <td>0.82669</td>\n",
       "      <td>0.81711</td>\n",
       "      <td>169</td>\n",
       "      <td>0.72</td>\n",
       "    </tr>\n",
       "  </tbody>\n",
       "</table>\n",
       "</div>"
      ],
      "text/plain": [
       "        Date                                 Description KaggleScore  \\\n",
       "0   11/19/15  Logistic regression using initial features     1.36788   \n",
       "1   11/19/15           Random Forest with 100 estimators           0   \n",
       "2   11/19/15            Random Forest with 10 estimators           0   \n",
       "3   11/19/15           Random Forest with 200 estimators           0   \n",
       "4   11/19/15           Random Forest with 300 estimators           0   \n",
       "5   11/19/15           Random Forest with 400 estimators      1.3462   \n",
       "6   11/20/15                        Gaussian Naive Bayes           0   \n",
       "7   11/20/15                       Bernoulli Naive Bayes     1.38825   \n",
       "8   11/20/15                                 K-Neighbors           0   \n",
       "9   11/20/15            LinearSVC with decision_function           0   \n",
       "10  11/20/15                                  ExtraTrees           0   \n",
       "11  11/20/15            Random Trees with 2 max features     1.30906   \n",
       "12   12/1/15                First XGBoost run, 74 rounds     0.94074   \n",
       "13   12/2/15                    Fineline +300 Occurences     0.84924   \n",
       "14   12/2/15                    Fineline +400 Occurences     0.83314   \n",
       "15   12/2/15                       Adding CategoryCounts     0.82669   \n",
       "\n",
       "    LocalScore  Rank Accuracy  \n",
       "0      1.36406   240      N/A  \n",
       "1      1.64493     0      N/A  \n",
       "2      4.25146     0      N/A  \n",
       "3      1.44762     0      N/A  \n",
       "4      1.37421     0      N/A  \n",
       "5      1.31995   230      N/A  \n",
       "6     30.04107     0      N/A  \n",
       "7      1.37899   240      N/A  \n",
       "8      6.31217     0      N/A  \n",
       "9      4.46558     0      N/A  \n",
       "10     2.06826     0      N/A  \n",
       "11     1.29012   232      N/A  \n",
       "12     0.93294   176     0.69  \n",
       "13     0.83730   173      N/A  \n",
       "14     0.82405   173      N/A  \n",
       "15     0.81711   169     0.72  "
      ]
     },
     "execution_count": 238,
     "metadata": {},
     "output_type": "execute_result"
    }
   ],
   "source": [
    "results"
   ]
  },
  {
   "cell_type": "code",
   "execution_count": 244,
   "metadata": {
    "collapsed": false
   },
   "outputs": [],
   "source": [
    "def sorting_by_kagglescore(results):\n",
    "    results.KaggleScore = results.KaggleScore.astype(float)\n",
    "    results = results.sort_values(by=\"LocalScore\", ascending=False)\n",
    "    return results"
   ]
  },
  {
   "cell_type": "code",
   "execution_count": 246,
   "metadata": {
    "collapsed": false
   },
   "outputs": [],
   "source": [
    "x = sorting_by_kagglescore(results)"
   ]
  },
  {
   "cell_type": "code",
   "execution_count": 261,
   "metadata": {
    "collapsed": false
   },
   "outputs": [],
   "source": [
    "x = x[['Description', 'LocalScore']].sort_values(by='LocalScore').set_index('Description')"
   ]
  },
  {
   "cell_type": "code",
   "execution_count": 267,
   "metadata": {
    "collapsed": false
   },
   "outputs": [],
   "source": [
    "x = x.rename(columns={'LocalScore' : 'LogLoss'})"
   ]
  },
  {
   "cell_type": "code",
   "execution_count": 268,
   "metadata": {
    "collapsed": false,
    "scrolled": true
   },
   "outputs": [
    {
     "data": {
      "text/html": [
       "<div>\n",
       "<table border=\"1\" class=\"dataframe\">\n",
       "  <thead>\n",
       "    <tr style=\"text-align: right;\">\n",
       "      <th></th>\n",
       "      <th>LogLoss</th>\n",
       "    </tr>\n",
       "    <tr>\n",
       "      <th>Description</th>\n",
       "      <th></th>\n",
       "    </tr>\n",
       "  </thead>\n",
       "  <tbody>\n",
       "    <tr>\n",
       "      <th>Adding CategoryCounts</th>\n",
       "      <td>0.81711</td>\n",
       "    </tr>\n",
       "    <tr>\n",
       "      <th>Fineline +400 Occurences</th>\n",
       "      <td>0.82405</td>\n",
       "    </tr>\n",
       "    <tr>\n",
       "      <th>Fineline +300 Occurences</th>\n",
       "      <td>0.83730</td>\n",
       "    </tr>\n",
       "    <tr>\n",
       "      <th>First XGBoost run, 74 rounds</th>\n",
       "      <td>0.93294</td>\n",
       "    </tr>\n",
       "    <tr>\n",
       "      <th>Random Trees with 2 max features</th>\n",
       "      <td>1.29012</td>\n",
       "    </tr>\n",
       "    <tr>\n",
       "      <th>Random Forest with 400 estimators</th>\n",
       "      <td>1.31995</td>\n",
       "    </tr>\n",
       "    <tr>\n",
       "      <th>Logistic regression using initial features</th>\n",
       "      <td>1.36406</td>\n",
       "    </tr>\n",
       "    <tr>\n",
       "      <th>Random Forest with 300 estimators</th>\n",
       "      <td>1.37421</td>\n",
       "    </tr>\n",
       "    <tr>\n",
       "      <th>Bernoulli Naive Bayes</th>\n",
       "      <td>1.37899</td>\n",
       "    </tr>\n",
       "    <tr>\n",
       "      <th>Random Forest with 200 estimators</th>\n",
       "      <td>1.44762</td>\n",
       "    </tr>\n",
       "    <tr>\n",
       "      <th>Random Forest with 100 estimators</th>\n",
       "      <td>1.64493</td>\n",
       "    </tr>\n",
       "    <tr>\n",
       "      <th>ExtraTrees</th>\n",
       "      <td>2.06826</td>\n",
       "    </tr>\n",
       "    <tr>\n",
       "      <th>Random Forest with 10 estimators</th>\n",
       "      <td>4.25146</td>\n",
       "    </tr>\n",
       "    <tr>\n",
       "      <th>LinearSVC with decision_function</th>\n",
       "      <td>4.46558</td>\n",
       "    </tr>\n",
       "    <tr>\n",
       "      <th>K-Neighbors</th>\n",
       "      <td>6.31217</td>\n",
       "    </tr>\n",
       "    <tr>\n",
       "      <th>Gaussian Naive Bayes</th>\n",
       "      <td>30.04107</td>\n",
       "    </tr>\n",
       "  </tbody>\n",
       "</table>\n",
       "</div>"
      ],
      "text/plain": [
       "                                             LogLoss\n",
       "Description                                         \n",
       "Adding CategoryCounts                        0.81711\n",
       "Fineline +400 Occurences                     0.82405\n",
       "Fineline +300 Occurences                     0.83730\n",
       "First XGBoost run, 74 rounds                 0.93294\n",
       "Random Trees with 2 max features             1.29012\n",
       "Random Forest with 400 estimators            1.31995\n",
       "Logistic regression using initial features   1.36406\n",
       "Random Forest with 300 estimators            1.37421\n",
       "Bernoulli Naive Bayes                        1.37899\n",
       "Random Forest with 200 estimators            1.44762\n",
       "Random Forest with 100 estimators            1.64493\n",
       "ExtraTrees                                   2.06826\n",
       "Random Forest with 10 estimators             4.25146\n",
       "LinearSVC with decision_function             4.46558\n",
       "K-Neighbors                                  6.31217\n",
       "Gaussian Naive Bayes                        30.04107"
      ]
     },
     "execution_count": 268,
     "metadata": {},
     "output_type": "execute_result"
    }
   ],
   "source": [
    "x"
   ]
  },
  {
   "cell_type": "code",
   "execution_count": null,
   "metadata": {
    "collapsed": false
   },
   "outputs": [],
   "source": []
  },
  {
   "cell_type": "code",
   "execution_count": 231,
   "metadata": {
    "collapsed": false
   },
   "outputs": [
    {
     "data": {
      "text/plain": [
       "(array([  7.,   8.,   9.,  10.,  11.,  12.,  13.,  14.,  15.]),\n",
       " <a list of 9 Text xticklabel objects>)"
      ]
     },
     "execution_count": 231,
     "metadata": {},
     "output_type": "execute_result"
    },
    {
     "data": {
      "image/png": "[encoded data removed]",
      "text/plain": [
       "<matplotlib.figure.Figure at 0x10bb32588>"
      ]
     },
     "metadata": {},
     "output_type": "display_data"
    }
   ],
   "source": [
    "x[['KaggleScore']].plot()\n",
    "plt.ylim(.4,1.8)\n",
    "plt.xticks(rotation=60)"
   ]
  },
  {
   "cell_type": "code",
   "execution_count": 203,
   "metadata": {
    "collapsed": false
   },
   "outputs": [
    {
     "data": {
      "text/plain": [
       "<function __main__.sorting_by_kagglescore>"
      ]
     },
     "execution_count": 203,
     "metadata": {},
     "output_type": "execute_result"
    }
   ],
   "source": [
    "sorting_by_kagglescore"
   ]
  },
  {
   "cell_type": "code",
   "execution_count": 191,
   "metadata": {
    "collapsed": true
   },
   "outputs": [],
   "source": []
  },
  {
   "cell_type": "code",
   "execution_count": null,
   "metadata": {
    "collapsed": true
   },
   "outputs": [],
   "source": []
  }
 ],
 "metadata": {
  "kernelspec": {
   "display_name": "Python 3",
   "language": "python",
   "name": "python3"
  },
  "language_info": {
   "codemirror_mode": {
    "name": "ipython",
    "version": 3
   },
   "file_extension": ".py",
   "mimetype": "text/x-python",
   "name": "python",
   "nbconvert_exporter": "python",
   "pygments_lexer": "ipython3",
   "version": "3.5.0"
  }
 },
 "nbformat": 4,
 "nbformat_minor": 0
}
