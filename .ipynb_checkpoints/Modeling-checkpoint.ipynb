{
 "cells": [
  {
   "cell_type": "code",
   "execution_count": 39,
   "metadata": {
    "collapsed": false
   },
   "outputs": [],
   "source": [
    "import pandas as pd\n",
    "import numpy as np\n",
    "import re \n",
    "import matplotlib.pyplot as plt\n",
    "import seaborn \n",
    "import scipy\n",
    "import sklearn\n",
    "%matplotlib inline"
   ]
  },
  {
   "cell_type": "markdown",
   "metadata": {},
   "source": [
    "## Reading in Data"
   ]
  },
  {
   "cell_type": "code",
   "execution_count": 4,
   "metadata": {
    "collapsed": false
   },
   "outputs": [],
   "source": [
    "data = pd.read_csv(\"train.csv\")\n",
    "data_original = pd.read_csv(\"train.csv\")\n",
    "#i want two copies available in case one gets altered by accident\n",
    "\n",
    "w_test_data = pd.read_csv(\"test 2 (1).csv\")\n",
    "\n",
    "sample_submission = pd.read_csv(\"sample_submission (1).csv\")"
   ]
  },
  {
   "cell_type": "code",
   "execution_count": 5,
   "metadata": {
    "collapsed": false
   },
   "outputs": [
    {
     "data": {
      "text/html": [
       "<div>\n",
       "<table border=\"1\" class=\"dataframe\">\n",
       "  <thead>\n",
       "    <tr style=\"text-align: right;\">\n",
       "      <th></th>\n",
       "      <th>TripType</th>\n",
       "      <th>VisitNumber</th>\n",
       "      <th>Weekday</th>\n",
       "      <th>Upc</th>\n",
       "      <th>ScanCount</th>\n",
       "      <th>DepartmentDescription</th>\n",
       "      <th>FinelineNumber</th>\n",
       "    </tr>\n",
       "  </thead>\n",
       "  <tbody>\n",
       "    <tr>\n",
       "      <th>0</th>\n",
       "      <td>999</td>\n",
       "      <td>5</td>\n",
       "      <td>Friday</td>\n",
       "      <td>68113152929</td>\n",
       "      <td>-1</td>\n",
       "      <td>FINANCIAL SERVICES</td>\n",
       "      <td>1000</td>\n",
       "    </tr>\n",
       "    <tr>\n",
       "      <th>1</th>\n",
       "      <td>30</td>\n",
       "      <td>7</td>\n",
       "      <td>Friday</td>\n",
       "      <td>60538815980</td>\n",
       "      <td>1</td>\n",
       "      <td>SHOES</td>\n",
       "      <td>8931</td>\n",
       "    </tr>\n",
       "    <tr>\n",
       "      <th>2</th>\n",
       "      <td>30</td>\n",
       "      <td>7</td>\n",
       "      <td>Friday</td>\n",
       "      <td>7410811099</td>\n",
       "      <td>1</td>\n",
       "      <td>PERSONAL CARE</td>\n",
       "      <td>4504</td>\n",
       "    </tr>\n",
       "    <tr>\n",
       "      <th>3</th>\n",
       "      <td>26</td>\n",
       "      <td>8</td>\n",
       "      <td>Friday</td>\n",
       "      <td>2238403510</td>\n",
       "      <td>2</td>\n",
       "      <td>PAINT AND ACCESSORIES</td>\n",
       "      <td>3565</td>\n",
       "    </tr>\n",
       "    <tr>\n",
       "      <th>4</th>\n",
       "      <td>26</td>\n",
       "      <td>8</td>\n",
       "      <td>Friday</td>\n",
       "      <td>2006613744</td>\n",
       "      <td>2</td>\n",
       "      <td>PAINT AND ACCESSORIES</td>\n",
       "      <td>1017</td>\n",
       "    </tr>\n",
       "  </tbody>\n",
       "</table>\n",
       "</div>"
      ],
      "text/plain": [
       "   TripType  VisitNumber Weekday          Upc  ScanCount  \\\n",
       "0       999            5  Friday  68113152929         -1   \n",
       "1        30            7  Friday  60538815980          1   \n",
       "2        30            7  Friday   7410811099          1   \n",
       "3        26            8  Friday   2238403510          2   \n",
       "4        26            8  Friday   2006613744          2   \n",
       "\n",
       "   DepartmentDescription  FinelineNumber  \n",
       "0     FINANCIAL SERVICES            1000  \n",
       "1                  SHOES            8931  \n",
       "2          PERSONAL CARE            4504  \n",
       "3  PAINT AND ACCESSORIES            3565  \n",
       "4  PAINT AND ACCESSORIES            1017  "
      ]
     },
     "execution_count": 5,
     "metadata": {},
     "output_type": "execute_result"
    }
   ],
   "source": [
    "data_original.head()"
   ]
  },
  {
   "cell_type": "code",
   "execution_count": 6,
   "metadata": {
    "collapsed": false
   },
   "outputs": [
    {
     "data": {
      "text/html": [
       "<div>\n",
       "<table border=\"1\" class=\"dataframe\">\n",
       "  <thead>\n",
       "    <tr style=\"text-align: right;\">\n",
       "      <th></th>\n",
       "      <th>VisitNumber</th>\n",
       "      <th>Weekday</th>\n",
       "      <th>Upc</th>\n",
       "      <th>ScanCount</th>\n",
       "      <th>DepartmentDescription</th>\n",
       "      <th>FinelineNumber</th>\n",
       "    </tr>\n",
       "  </thead>\n",
       "  <tbody>\n",
       "    <tr>\n",
       "      <th>0</th>\n",
       "      <td>1</td>\n",
       "      <td>Friday</td>\n",
       "      <td>72503389714</td>\n",
       "      <td>1</td>\n",
       "      <td>SHOES</td>\n",
       "      <td>3002</td>\n",
       "    </tr>\n",
       "    <tr>\n",
       "      <th>1</th>\n",
       "      <td>1</td>\n",
       "      <td>Friday</td>\n",
       "      <td>1707710732</td>\n",
       "      <td>1</td>\n",
       "      <td>DAIRY</td>\n",
       "      <td>1526</td>\n",
       "    </tr>\n",
       "    <tr>\n",
       "      <th>2</th>\n",
       "      <td>1</td>\n",
       "      <td>Friday</td>\n",
       "      <td>89470001026</td>\n",
       "      <td>1</td>\n",
       "      <td>DAIRY</td>\n",
       "      <td>1431</td>\n",
       "    </tr>\n",
       "    <tr>\n",
       "      <th>3</th>\n",
       "      <td>1</td>\n",
       "      <td>Friday</td>\n",
       "      <td>88491211470</td>\n",
       "      <td>1</td>\n",
       "      <td>GROCERY DRY GOODS</td>\n",
       "      <td>3555</td>\n",
       "    </tr>\n",
       "    <tr>\n",
       "      <th>4</th>\n",
       "      <td>2</td>\n",
       "      <td>Friday</td>\n",
       "      <td>2840015224</td>\n",
       "      <td>1</td>\n",
       "      <td>DSD GROCERY</td>\n",
       "      <td>4408</td>\n",
       "    </tr>\n",
       "  </tbody>\n",
       "</table>\n",
       "</div>"
      ],
      "text/plain": [
       "   VisitNumber Weekday          Upc  ScanCount DepartmentDescription  \\\n",
       "0            1  Friday  72503389714          1                 SHOES   \n",
       "1            1  Friday   1707710732          1                 DAIRY   \n",
       "2            1  Friday  89470001026          1                 DAIRY   \n",
       "3            1  Friday  88491211470          1     GROCERY DRY GOODS   \n",
       "4            2  Friday   2840015224          1           DSD GROCERY   \n",
       "\n",
       "   FinelineNumber  \n",
       "0            3002  \n",
       "1            1526  \n",
       "2            1431  \n",
       "3            3555  \n",
       "4            4408  "
      ]
     },
     "execution_count": 6,
     "metadata": {},
     "output_type": "execute_result"
    }
   ],
   "source": [
    "w_test_data.head()"
   ]
  },
  {
   "cell_type": "code",
   "execution_count": 7,
   "metadata": {
    "collapsed": false
   },
   "outputs": [
    {
     "data": {
      "text/html": [
       "<div>\n",
       "<table border=\"1\" class=\"dataframe\">\n",
       "  <thead>\n",
       "    <tr style=\"text-align: right;\">\n",
       "      <th></th>\n",
       "      <th>VisitNumber</th>\n",
       "      <th>TripType_3</th>\n",
       "      <th>TripType_4</th>\n",
       "      <th>TripType_5</th>\n",
       "      <th>TripType_6</th>\n",
       "      <th>TripType_7</th>\n",
       "      <th>TripType_8</th>\n",
       "      <th>TripType_9</th>\n",
       "      <th>TripType_12</th>\n",
       "      <th>TripType_14</th>\n",
       "      <th>...</th>\n",
       "      <th>TripType_36</th>\n",
       "      <th>TripType_37</th>\n",
       "      <th>TripType_38</th>\n",
       "      <th>TripType_39</th>\n",
       "      <th>TripType_40</th>\n",
       "      <th>TripType_41</th>\n",
       "      <th>TripType_42</th>\n",
       "      <th>TripType_43</th>\n",
       "      <th>TripType_44</th>\n",
       "      <th>TripType_999</th>\n",
       "    </tr>\n",
       "  </thead>\n",
       "  <tbody>\n",
       "    <tr>\n",
       "      <th>0</th>\n",
       "      <td>1</td>\n",
       "      <td>0</td>\n",
       "      <td>0</td>\n",
       "      <td>0</td>\n",
       "      <td>0</td>\n",
       "      <td>0</td>\n",
       "      <td>0</td>\n",
       "      <td>0</td>\n",
       "      <td>0</td>\n",
       "      <td>0</td>\n",
       "      <td>...</td>\n",
       "      <td>0</td>\n",
       "      <td>0</td>\n",
       "      <td>0</td>\n",
       "      <td>0</td>\n",
       "      <td>0</td>\n",
       "      <td>0</td>\n",
       "      <td>0</td>\n",
       "      <td>0</td>\n",
       "      <td>0</td>\n",
       "      <td>0</td>\n",
       "    </tr>\n",
       "    <tr>\n",
       "      <th>1</th>\n",
       "      <td>2</td>\n",
       "      <td>0</td>\n",
       "      <td>0</td>\n",
       "      <td>0</td>\n",
       "      <td>0</td>\n",
       "      <td>0</td>\n",
       "      <td>0</td>\n",
       "      <td>0</td>\n",
       "      <td>0</td>\n",
       "      <td>0</td>\n",
       "      <td>...</td>\n",
       "      <td>0</td>\n",
       "      <td>0</td>\n",
       "      <td>0</td>\n",
       "      <td>0</td>\n",
       "      <td>0</td>\n",
       "      <td>0</td>\n",
       "      <td>0</td>\n",
       "      <td>0</td>\n",
       "      <td>0</td>\n",
       "      <td>0</td>\n",
       "    </tr>\n",
       "    <tr>\n",
       "      <th>2</th>\n",
       "      <td>3</td>\n",
       "      <td>0</td>\n",
       "      <td>0</td>\n",
       "      <td>0</td>\n",
       "      <td>0</td>\n",
       "      <td>0</td>\n",
       "      <td>0</td>\n",
       "      <td>0</td>\n",
       "      <td>0</td>\n",
       "      <td>0</td>\n",
       "      <td>...</td>\n",
       "      <td>0</td>\n",
       "      <td>0</td>\n",
       "      <td>0</td>\n",
       "      <td>0</td>\n",
       "      <td>0</td>\n",
       "      <td>0</td>\n",
       "      <td>0</td>\n",
       "      <td>0</td>\n",
       "      <td>0</td>\n",
       "      <td>0</td>\n",
       "    </tr>\n",
       "    <tr>\n",
       "      <th>3</th>\n",
       "      <td>4</td>\n",
       "      <td>0</td>\n",
       "      <td>0</td>\n",
       "      <td>0</td>\n",
       "      <td>0</td>\n",
       "      <td>0</td>\n",
       "      <td>0</td>\n",
       "      <td>0</td>\n",
       "      <td>0</td>\n",
       "      <td>0</td>\n",
       "      <td>...</td>\n",
       "      <td>0</td>\n",
       "      <td>0</td>\n",
       "      <td>0</td>\n",
       "      <td>0</td>\n",
       "      <td>0</td>\n",
       "      <td>0</td>\n",
       "      <td>0</td>\n",
       "      <td>0</td>\n",
       "      <td>0</td>\n",
       "      <td>0</td>\n",
       "    </tr>\n",
       "    <tr>\n",
       "      <th>4</th>\n",
       "      <td>6</td>\n",
       "      <td>0</td>\n",
       "      <td>0</td>\n",
       "      <td>0</td>\n",
       "      <td>0</td>\n",
       "      <td>0</td>\n",
       "      <td>0</td>\n",
       "      <td>0</td>\n",
       "      <td>0</td>\n",
       "      <td>0</td>\n",
       "      <td>...</td>\n",
       "      <td>0</td>\n",
       "      <td>0</td>\n",
       "      <td>0</td>\n",
       "      <td>0</td>\n",
       "      <td>0</td>\n",
       "      <td>0</td>\n",
       "      <td>0</td>\n",
       "      <td>0</td>\n",
       "      <td>0</td>\n",
       "      <td>0</td>\n",
       "    </tr>\n",
       "  </tbody>\n",
       "</table>\n",
       "<p>5 rows × 39 columns</p>\n",
       "</div>"
      ],
      "text/plain": [
       "   VisitNumber  TripType_3  TripType_4  TripType_5  TripType_6  TripType_7  \\\n",
       "0            1           0           0           0           0           0   \n",
       "1            2           0           0           0           0           0   \n",
       "2            3           0           0           0           0           0   \n",
       "3            4           0           0           0           0           0   \n",
       "4            6           0           0           0           0           0   \n",
       "\n",
       "   TripType_8  TripType_9  TripType_12  TripType_14      ...       \\\n",
       "0           0           0            0            0      ...        \n",
       "1           0           0            0            0      ...        \n",
       "2           0           0            0            0      ...        \n",
       "3           0           0            0            0      ...        \n",
       "4           0           0            0            0      ...        \n",
       "\n",
       "   TripType_36  TripType_37  TripType_38  TripType_39  TripType_40  \\\n",
       "0            0            0            0            0            0   \n",
       "1            0            0            0            0            0   \n",
       "2            0            0            0            0            0   \n",
       "3            0            0            0            0            0   \n",
       "4            0            0            0            0            0   \n",
       "\n",
       "   TripType_41  TripType_42  TripType_43  TripType_44  TripType_999  \n",
       "0            0            0            0            0             0  \n",
       "1            0            0            0            0             0  \n",
       "2            0            0            0            0             0  \n",
       "3            0            0            0            0             0  \n",
       "4            0            0            0            0             0  \n",
       "\n",
       "[5 rows x 39 columns]"
      ]
     },
     "execution_count": 7,
     "metadata": {},
     "output_type": "execute_result"
    }
   ],
   "source": [
    "sample_submission.head()"
   ]
  },
  {
   "cell_type": "markdown",
   "metadata": {},
   "source": [
    "## Data Cleaning and Feature Engineering"
   ]
  },
  {
   "cell_type": "code",
   "execution_count": 8,
   "metadata": {
    "collapsed": false
   },
   "outputs": [],
   "source": [
    "def transform_my_data(data):\n",
    "    \n",
    "    dummies = pd.get_dummies(data.DepartmentDescription)\n",
    "    data[dummies.columns] = dummies \n",
    "    data['Weekday'] = data['Weekday'].map({\"Monday\": 1, \"Tuesday\": 2, \"Wednesday\": 3, \"Thursday\": 4, \"Friday\": 5, \n",
    "                                           \"Saturday\": 6, \"Sunday\": 7})\n",
    "    data_dummies = data.iloc[:,7:]\n",
    "    data_dummies = data_dummies.apply(lambda x: x*data[\"ScanCount\"])\n",
    "    data_dummies = data_dummies.replace(-0,0)\n",
    "\n",
    "    data.loc[data.ScanCount < 0, 'Return'] = 1\n",
    "    data.loc[data.Return != 1, 'Return'] = 0\n",
    "    #data = data[[\"TripType\", \"VisitNumber\", \"Weekday\", \"ScanCount\", \"Return\"]]\n",
    "    data = data.rename(columns={\"ScanCount\":\"NumItems\"})\n",
    "    #data = pd.concat([data, data_dummies], axis=1)\n",
    "    grouped = data.groupby(\"VisitNumber\")\n",
    "    grouped = grouped.agg({'Weekday': np.max, \"TripType\": np.max, 'NumItems': np.sum, 'Return': np.max, \n",
    "              '1-HR PHOTO': np.sum, 'ACCESSORIES': np.sum,\n",
    "       'AUTOMOTIVE': np.sum, 'BAKERY': np.sum, 'BATH AND SHOWER': np.sum, 'BEAUTY': np.sum, 'BEDDING': np.sum,\n",
    "       'BOOKS AND MAGAZINES': np.sum, 'BOYS WEAR': np.sum, 'BRAS & SHAPEWEAR': np.sum,\n",
    "       'CAMERAS AND SUPPLIES': np.sum, 'CANDY, TOBACCO, COOKIES': np.sum, 'CELEBRATION': np.sum,\n",
    "       'COMM BREAD': np.sum, 'CONCEPT STORES': np.sum, 'COOK AND DINE': np.sum, 'DAIRY': np.sum, 'DSD GROCERY': np.sum,\n",
    "       'ELECTRONICS': np.sum, 'FABRICS AND CRAFTS': np.sum, 'FINANCIAL SERVICES': np.sum,\n",
    "       'FROZEN FOODS': np.sum, 'FURNITURE': np.sum, 'GIRLS WEAR, 4-6X  AND 7-14': np.sum,\n",
    "       'GROCERY DRY GOODS': np.sum, 'HARDWARE': np.sum, 'HEALTH AND BEAUTY AIDS': np.sum, 'HOME DECOR': np.sum,\n",
    "       'HOME MANAGEMENT': np.sum, 'HORTICULTURE AND ACCESS': np.sum,\n",
    "       'HOUSEHOLD CHEMICALS/SUPP': np.sum, 'HOUSEHOLD PAPER GOODS': np.sum,\n",
    "       'IMPULSE MERCHANDISE': np.sum, 'INFANT APPAREL': np.sum, 'INFANT CONSUMABLE HARDLINES': np.sum,\n",
    "       'JEWELRY AND SUNGLASSES': np.sum, 'LADIES SOCKS': np.sum, 'LADIESWEAR': np.sum,\n",
    "       'LARGE HOUSEHOLD GOODS': np.sum, 'LAWN AND GARDEN': np.sum, 'LIQUOR,WINE,BEER': np.sum,\n",
    "       'MEAT - FRESH & FROZEN': np.sum, 'MEDIA AND GAMING': np.sum, 'MENS WEAR': np.sum, 'MENSWEAR': np.sum,\n",
    "       'OFFICE SUPPLIES': np.sum, 'OPTICAL - FRAMES': np.sum, 'OPTICAL - LENSES': np.sum,\n",
    "       'OTHER DEPARTMENTS': np.sum, 'PAINT AND ACCESSORIES': np.sum, 'PERSONAL CARE': np.sum,\n",
    "       'PETS AND SUPPLIES': np.sum, 'PHARMACY OTC': np.sum, 'PHARMACY RX': np.sum,\n",
    "       'PLAYERS AND ELECTRONICS': np.sum, 'PLUS AND MATERNITY': np.sum, 'PRE PACKED DELI': np.sum,\n",
    "       'PRODUCE': np.sum, 'SEAFOOD': np.sum, 'SEASONAL': np.sum, 'SERVICE DELI': np.sum, 'SHEER HOSIERY': np.sum,\n",
    "       'SHOES': np.sum, 'SLEEPWEAR/FOUNDATIONS': np.sum, 'SPORTING GOODS': np.sum,\n",
    "       'SWIMWEAR/OUTERWEAR': np.sum, 'TOYS': np.sum, 'WIRELESS': np.sum})\n",
    "    data = grouped[[\"TripType\", \"Weekday\", \"NumItems\", \"Return\",'1-HR PHOTO', 'ACCESSORIES',\n",
    "           'AUTOMOTIVE', 'BAKERY', 'BATH AND SHOWER', 'BEAUTY', 'BEDDING',\n",
    "           'BOOKS AND MAGAZINES', 'BOYS WEAR', 'BRAS & SHAPEWEAR',\n",
    "           'CAMERAS AND SUPPLIES', 'CANDY, TOBACCO, COOKIES', 'CELEBRATION',\n",
    "           'COMM BREAD', 'CONCEPT STORES', 'COOK AND DINE', 'DAIRY', 'DSD GROCERY',\n",
    "           'ELECTRONICS', 'FABRICS AND CRAFTS', 'FINANCIAL SERVICES',\n",
    "           'FROZEN FOODS', 'FURNITURE', 'GIRLS WEAR, 4-6X  AND 7-14',\n",
    "           'GROCERY DRY GOODS', 'HARDWARE', 'HEALTH AND BEAUTY AIDS', 'HOME DECOR',\n",
    "           'HOME MANAGEMENT', 'HORTICULTURE AND ACCESS',\n",
    "           'HOUSEHOLD CHEMICALS/SUPP', 'HOUSEHOLD PAPER GOODS',\n",
    "           'IMPULSE MERCHANDISE', 'INFANT APPAREL', 'INFANT CONSUMABLE HARDLINES',\n",
    "           'JEWELRY AND SUNGLASSES', 'LADIES SOCKS', 'LADIESWEAR',\n",
    "           'LARGE HOUSEHOLD GOODS', 'LAWN AND GARDEN', 'LIQUOR,WINE,BEER',\n",
    "           'MEAT - FRESH & FROZEN', 'MEDIA AND GAMING', 'MENS WEAR', 'MENSWEAR',\n",
    "           'OFFICE SUPPLIES', 'OPTICAL - FRAMES', 'OPTICAL - LENSES',\n",
    "           'OTHER DEPARTMENTS', 'PAINT AND ACCESSORIES', 'PERSONAL CARE',\n",
    "           'PETS AND SUPPLIES', 'PHARMACY OTC', 'PHARMACY RX',\n",
    "           'PLAYERS AND ELECTRONICS', 'PLUS AND MATERNITY', 'PRE PACKED DELI',\n",
    "           'PRODUCE', 'SEAFOOD', 'SEASONAL', 'SERVICE DELI', 'SHEER HOSIERY',\n",
    "           'SHOES', 'SLEEPWEAR/FOUNDATIONS', 'SPORTING GOODS',\n",
    "           'SWIMWEAR/OUTERWEAR', 'TOYS', 'WIRELESS']]\n",
    "    data['TripType'] = data['TripType'].map({3:0, 4:1, 5:2, 6:3, 7:4, 8:5, 9:6, 12:7, 14:8, 15:9,  \n",
    "                                         18:10, 19:11, 20:12, 21:13, 22:14, 23:15, 24:16, 25:17, 26:18,  \n",
    "                                         27:19, 28:20, 29:21, 30:22, 31:23, 32:24, 33:25, 34:26, 35:27, \n",
    "                                         36:28, 37:29, 38:30, 39:31, 40:32, 41:33, 42:34, 43:35, 44:36, 999:37})\n",
    "    return data"
   ]
  },
  {
   "cell_type": "code",
   "execution_count": 9,
   "metadata": {
    "collapsed": false
   },
   "outputs": [],
   "source": [
    "data = transform_my_data(data)"
   ]
  },
  {
   "cell_type": "code",
   "execution_count": 14,
   "metadata": {
    "collapsed": false
   },
   "outputs": [],
   "source": [
    "def transform_w_data(data):\n",
    "    dummies = pd.get_dummies(data.DepartmentDescription)\n",
    "    data[dummies.columns] = dummies \n",
    "    data['Weekday'] = data['Weekday'].map({\"Monday\": 1, \"Tuesday\": 2, \"Wednesday\": 3, \"Thursday\": 4, \"Friday\": 5,\n",
    "                                           \"Saturday\": 6, \"Sunday\": 7})\n",
    "    data_dummies = data.iloc[:,7:]\n",
    "    data_dummies = data_dummies.apply(lambda x: x*data[\"ScanCount\"])\n",
    "    data_dummies = data_dummies.replace(-0,0)\n",
    "    data.loc[data.ScanCount < 0, 'Return'] = 1\n",
    "    data.loc[data.Return != 1, 'Return'] = 0\n",
    "    data = data[[\"VisitNumber\", \"Weekday\", \"ScanCount\", \"Return\"]]\n",
    "    data = data.rename(columns={\"ScanCount\":\"NumItems\"})\n",
    "    data = pd.concat([data, data_dummies], axis=1)\n",
    "    grouped = data.groupby(\"VisitNumber\")\n",
    "    grouped = grouped.agg({'Weekday': np.max, 'NumItems': np.sum, 'Return': np.max, \n",
    "                'ACCESSORIES': np.sum,\n",
    "           'AUTOMOTIVE': np.sum, 'BAKERY': np.sum, 'BATH AND SHOWER': np.sum, 'BEAUTY': np.sum, 'BEDDING': np.sum,\n",
    "           'BOOKS AND MAGAZINES': np.sum, 'BOYS WEAR': np.sum, 'BRAS & SHAPEWEAR': np.sum,\n",
    "           'CAMERAS AND SUPPLIES': np.sum, 'CANDY, TOBACCO, COOKIES': np.sum, 'CELEBRATION': np.sum,\n",
    "           'COMM BREAD': np.sum, 'CONCEPT STORES': np.sum, 'COOK AND DINE': np.sum, 'DAIRY': np.sum, 'DSD GROCERY': np.sum,\n",
    "           'ELECTRONICS': np.sum, 'FABRICS AND CRAFTS': np.sum, 'FINANCIAL SERVICES': np.sum,\n",
    "           'FROZEN FOODS': np.sum, 'FURNITURE': np.sum, 'GIRLS WEAR, 4-6X  AND 7-14': np.sum,\n",
    "           'GROCERY DRY GOODS': np.sum, 'HARDWARE': np.sum, 'HOME DECOR': np.sum,\n",
    "           'HOME MANAGEMENT': np.sum, 'HORTICULTURE AND ACCESS': np.sum,\n",
    "           'HOUSEHOLD CHEMICALS/SUPP': np.sum, 'HOUSEHOLD PAPER GOODS': np.sum,\n",
    "           'IMPULSE MERCHANDISE': np.sum, 'INFANT APPAREL': np.sum, 'INFANT CONSUMABLE HARDLINES': np.sum,\n",
    "           'JEWELRY AND SUNGLASSES': np.sum, 'LADIES SOCKS': np.sum, 'LADIESWEAR': np.sum,\n",
    "           'LARGE HOUSEHOLD GOODS': np.sum, 'LAWN AND GARDEN': np.sum, 'LIQUOR,WINE,BEER': np.sum,\n",
    "           'MEAT - FRESH & FROZEN': np.sum, 'MEDIA AND GAMING': np.sum, 'MENS WEAR': np.sum, 'MENSWEAR': np.sum,\n",
    "           'OFFICE SUPPLIES': np.sum, 'OPTICAL - FRAMES': np.sum, 'OPTICAL - LENSES': np.sum,\n",
    "           'OTHER DEPARTMENTS': np.sum, 'PAINT AND ACCESSORIES': np.sum, 'PERSONAL CARE': np.sum,\n",
    "           'PETS AND SUPPLIES': np.sum, 'PHARMACY OTC': np.sum, 'PHARMACY RX': np.sum,\n",
    "           'PLAYERS AND ELECTRONICS': np.sum, 'PLUS AND MATERNITY': np.sum, 'PRE PACKED DELI': np.sum,\n",
    "           'PRODUCE': np.sum, 'SEAFOOD': np.sum, 'SEASONAL': np.sum, 'SERVICE DELI': np.sum, 'SHEER HOSIERY': np.sum,\n",
    "           'SHOES': np.sum, 'SLEEPWEAR/FOUNDATIONS': np.sum, 'SPORTING GOODS': np.sum,\n",
    "           'SWIMWEAR/OUTERWEAR': np.sum, 'TOYS': np.sum, 'WIRELESS': np.sum})\n",
    "    data = grouped[[\"Weekday\", \"NumItems\", \"Return\", 'ACCESSORIES',\n",
    "               'AUTOMOTIVE', 'BAKERY', 'BATH AND SHOWER', 'BEAUTY', 'BEDDING',\n",
    "               'BOOKS AND MAGAZINES', 'BOYS WEAR', 'BRAS & SHAPEWEAR',\n",
    "               'CAMERAS AND SUPPLIES', 'CANDY, TOBACCO, COOKIES', 'CELEBRATION',\n",
    "               'COMM BREAD', 'CONCEPT STORES', 'COOK AND DINE', 'DAIRY', 'DSD GROCERY',\n",
    "               'ELECTRONICS', 'FABRICS AND CRAFTS', 'FINANCIAL SERVICES',\n",
    "               'FROZEN FOODS', 'FURNITURE', 'GIRLS WEAR, 4-6X  AND 7-14',\n",
    "               'GROCERY DRY GOODS', 'HARDWARE', 'HOME DECOR',\n",
    "               'HOME MANAGEMENT', 'HORTICULTURE AND ACCESS',\n",
    "               'HOUSEHOLD CHEMICALS/SUPP', 'HOUSEHOLD PAPER GOODS',\n",
    "               'IMPULSE MERCHANDISE', 'INFANT APPAREL', 'INFANT CONSUMABLE HARDLINES',\n",
    "               'JEWELRY AND SUNGLASSES', 'LADIES SOCKS', 'LADIESWEAR',\n",
    "               'LARGE HOUSEHOLD GOODS', 'LAWN AND GARDEN', 'LIQUOR,WINE,BEER',\n",
    "               'MEAT - FRESH & FROZEN', 'MEDIA AND GAMING', 'MENS WEAR', 'MENSWEAR',\n",
    "               'OFFICE SUPPLIES', 'OPTICAL - FRAMES', 'OPTICAL - LENSES',\n",
    "               'OTHER DEPARTMENTS', 'PAINT AND ACCESSORIES', 'PERSONAL CARE',\n",
    "               'PETS AND SUPPLIES', 'PHARMACY OTC', 'PHARMACY RX',\n",
    "               'PLAYERS AND ELECTRONICS', 'PLUS AND MATERNITY', 'PRE PACKED DELI',\n",
    "               'PRODUCE', 'SEAFOOD', 'SEASONAL', 'SERVICE DELI', 'SHEER HOSIERY',\n",
    "               'SHOES', 'SLEEPWEAR/FOUNDATIONS', 'SPORTING GOODS',\n",
    "               'SWIMWEAR/OUTERWEAR', 'TOYS', 'WIRELESS']]\n",
    "    #data['TripType'] = data['TripType'].map({3:0, 4:1, 5:2, 6:3, 7:4, 8:5, 9:6, 12:7, 14:8, 15:9,  \n",
    "                                         #18:10, 19:11, 20:12, 21:13, 22:14, 23:15, 24:16, 25:17, 26:18,  \n",
    "                                         #27:19, 28:20, 29:21, 30:22, 31:23, 32:24, 33:25, 34:26, 35:27, \n",
    "                                         #36:28, 37:29, 38:30, 39:31, 40:32, 41:33, 42:34, 43:35, 44:36, 999:37})\n",
    "    return data"
   ]
  },
  {
   "cell_type": "code",
   "execution_count": null,
   "metadata": {
    "collapsed": true
   },
   "outputs": [],
   "source": [
    "test = transform_w_data(w_test_data)"
   ]
  },
  {
   "cell_type": "code",
   "execution_count": 21,
   "metadata": {
    "collapsed": true
   },
   "outputs": [],
   "source": [
    "def add_category_counts(data):\n",
    "    alist = []\n",
    "    for array in np.asarray(data.iloc[:,4:]):\n",
    "        count = 0\n",
    "        for item in array:\n",
    "            if item > 0:\n",
    "                count += 1\n",
    "        alist.append(count)\n",
    "    cat_counts = pd.DataFrame(alist)\n",
    "    cat_counts = cat_counts.rename(columns={0:\"CategoryCount\"})\n",
    "    cat_counts = cat_counts.set_index(data.index)\n",
    "    data.insert(4, 'CategoryCounts', cat_counts)\n",
    "    return data\n",
    "\n",
    "def add_category_counts_test(data):\n",
    "    alist = []\n",
    "    for array in np.asarray(data.iloc[:,3:]):\n",
    "        count = 0\n",
    "        for item in array:\n",
    "            if item > 0:\n",
    "                count += 1\n",
    "        alist.append(count)\n",
    "    cat_counts = pd.DataFrame(alist)\n",
    "    cat_counts = cat_counts.rename(columns={0:\"CategoryCount\"})\n",
    "    cat_counts = cat_counts.set_index(data.index)\n",
    "    data.insert(3, 'CategoryCounts', cat_counts)\n",
    "    return data"
   ]
  },
  {
   "cell_type": "code",
   "execution_count": 22,
   "metadata": {
    "collapsed": true
   },
   "outputs": [],
   "source": [
    "data = add_category_counts(data)"
   ]
  },
  {
   "cell_type": "code",
   "execution_count": 27,
   "metadata": {
    "collapsed": false
   },
   "outputs": [
    {
     "data": {
      "text/html": [
       "<div>\n",
       "<table border=\"1\" class=\"dataframe\">\n",
       "  <thead>\n",
       "    <tr style=\"text-align: right;\">\n",
       "      <th></th>\n",
       "      <th>TripType</th>\n",
       "      <th>Weekday</th>\n",
       "      <th>NumItems</th>\n",
       "      <th>Return</th>\n",
       "      <th>CategoryCounts</th>\n",
       "      <th>1-HR PHOTO</th>\n",
       "      <th>ACCESSORIES</th>\n",
       "      <th>AUTOMOTIVE</th>\n",
       "      <th>BAKERY</th>\n",
       "      <th>BATH AND SHOWER</th>\n",
       "      <th>...</th>\n",
       "      <th>SEAFOOD</th>\n",
       "      <th>SEASONAL</th>\n",
       "      <th>SERVICE DELI</th>\n",
       "      <th>SHEER HOSIERY</th>\n",
       "      <th>SHOES</th>\n",
       "      <th>SLEEPWEAR/FOUNDATIONS</th>\n",
       "      <th>SPORTING GOODS</th>\n",
       "      <th>SWIMWEAR/OUTERWEAR</th>\n",
       "      <th>TOYS</th>\n",
       "      <th>WIRELESS</th>\n",
       "    </tr>\n",
       "    <tr>\n",
       "      <th>VisitNumber</th>\n",
       "      <th></th>\n",
       "      <th></th>\n",
       "      <th></th>\n",
       "      <th></th>\n",
       "      <th></th>\n",
       "      <th></th>\n",
       "      <th></th>\n",
       "      <th></th>\n",
       "      <th></th>\n",
       "      <th></th>\n",
       "      <th></th>\n",
       "      <th></th>\n",
       "      <th></th>\n",
       "      <th></th>\n",
       "      <th></th>\n",
       "      <th></th>\n",
       "      <th></th>\n",
       "      <th></th>\n",
       "      <th></th>\n",
       "      <th></th>\n",
       "      <th></th>\n",
       "    </tr>\n",
       "  </thead>\n",
       "  <tbody>\n",
       "    <tr>\n",
       "      <th>5</th>\n",
       "      <td>37</td>\n",
       "      <td>5</td>\n",
       "      <td>-1</td>\n",
       "      <td>1</td>\n",
       "      <td>1</td>\n",
       "      <td>0</td>\n",
       "      <td>0</td>\n",
       "      <td>0</td>\n",
       "      <td>0</td>\n",
       "      <td>0</td>\n",
       "      <td>...</td>\n",
       "      <td>0</td>\n",
       "      <td>0</td>\n",
       "      <td>0</td>\n",
       "      <td>0</td>\n",
       "      <td>0</td>\n",
       "      <td>0</td>\n",
       "      <td>0</td>\n",
       "      <td>0</td>\n",
       "      <td>0</td>\n",
       "      <td>0</td>\n",
       "    </tr>\n",
       "    <tr>\n",
       "      <th>7</th>\n",
       "      <td>22</td>\n",
       "      <td>5</td>\n",
       "      <td>2</td>\n",
       "      <td>0</td>\n",
       "      <td>2</td>\n",
       "      <td>0</td>\n",
       "      <td>0</td>\n",
       "      <td>0</td>\n",
       "      <td>0</td>\n",
       "      <td>0</td>\n",
       "      <td>...</td>\n",
       "      <td>0</td>\n",
       "      <td>0</td>\n",
       "      <td>0</td>\n",
       "      <td>0</td>\n",
       "      <td>1</td>\n",
       "      <td>0</td>\n",
       "      <td>0</td>\n",
       "      <td>0</td>\n",
       "      <td>0</td>\n",
       "      <td>0</td>\n",
       "    </tr>\n",
       "    <tr>\n",
       "      <th>8</th>\n",
       "      <td>18</td>\n",
       "      <td>5</td>\n",
       "      <td>28</td>\n",
       "      <td>1</td>\n",
       "      <td>6</td>\n",
       "      <td>0</td>\n",
       "      <td>0</td>\n",
       "      <td>0</td>\n",
       "      <td>0</td>\n",
       "      <td>0</td>\n",
       "      <td>...</td>\n",
       "      <td>0</td>\n",
       "      <td>0</td>\n",
       "      <td>0</td>\n",
       "      <td>0</td>\n",
       "      <td>0</td>\n",
       "      <td>0</td>\n",
       "      <td>0</td>\n",
       "      <td>0</td>\n",
       "      <td>0</td>\n",
       "      <td>0</td>\n",
       "    </tr>\n",
       "    <tr>\n",
       "      <th>9</th>\n",
       "      <td>5</td>\n",
       "      <td>5</td>\n",
       "      <td>3</td>\n",
       "      <td>0</td>\n",
       "      <td>2</td>\n",
       "      <td>0</td>\n",
       "      <td>0</td>\n",
       "      <td>0</td>\n",
       "      <td>0</td>\n",
       "      <td>0</td>\n",
       "      <td>...</td>\n",
       "      <td>0</td>\n",
       "      <td>0</td>\n",
       "      <td>0</td>\n",
       "      <td>0</td>\n",
       "      <td>0</td>\n",
       "      <td>0</td>\n",
       "      <td>0</td>\n",
       "      <td>0</td>\n",
       "      <td>0</td>\n",
       "      <td>0</td>\n",
       "    </tr>\n",
       "    <tr>\n",
       "      <th>10</th>\n",
       "      <td>5</td>\n",
       "      <td>5</td>\n",
       "      <td>3</td>\n",
       "      <td>0</td>\n",
       "      <td>2</td>\n",
       "      <td>0</td>\n",
       "      <td>0</td>\n",
       "      <td>0</td>\n",
       "      <td>0</td>\n",
       "      <td>0</td>\n",
       "      <td>...</td>\n",
       "      <td>0</td>\n",
       "      <td>0</td>\n",
       "      <td>0</td>\n",
       "      <td>0</td>\n",
       "      <td>0</td>\n",
       "      <td>0</td>\n",
       "      <td>0</td>\n",
       "      <td>0</td>\n",
       "      <td>0</td>\n",
       "      <td>0</td>\n",
       "    </tr>\n",
       "  </tbody>\n",
       "</table>\n",
       "<p>5 rows × 73 columns</p>\n",
       "</div>"
      ],
      "text/plain": [
       "             TripType  Weekday  NumItems  Return  CategoryCounts  1-HR PHOTO  \\\n",
       "VisitNumber                                                                    \n",
       "5                  37        5        -1       1               1           0   \n",
       "7                  22        5         2       0               2           0   \n",
       "8                  18        5        28       1               6           0   \n",
       "9                   5        5         3       0               2           0   \n",
       "10                  5        5         3       0               2           0   \n",
       "\n",
       "             ACCESSORIES  AUTOMOTIVE  BAKERY  BATH AND SHOWER    ...     \\\n",
       "VisitNumber                                                      ...      \n",
       "5                      0           0       0                0    ...      \n",
       "7                      0           0       0                0    ...      \n",
       "8                      0           0       0                0    ...      \n",
       "9                      0           0       0                0    ...      \n",
       "10                     0           0       0                0    ...      \n",
       "\n",
       "             SEAFOOD  SEASONAL  SERVICE DELI  SHEER HOSIERY  SHOES  \\\n",
       "VisitNumber                                                          \n",
       "5                  0         0             0              0      0   \n",
       "7                  0         0             0              0      1   \n",
       "8                  0         0             0              0      0   \n",
       "9                  0         0             0              0      0   \n",
       "10                 0         0             0              0      0   \n",
       "\n",
       "             SLEEPWEAR/FOUNDATIONS  SPORTING GOODS  SWIMWEAR/OUTERWEAR  TOYS  \\\n",
       "VisitNumber                                                                    \n",
       "5                                0               0                   0     0   \n",
       "7                                0               0                   0     0   \n",
       "8                                0               0                   0     0   \n",
       "9                                0               0                   0     0   \n",
       "10                               0               0                   0     0   \n",
       "\n",
       "             WIRELESS  \n",
       "VisitNumber            \n",
       "5                   0  \n",
       "7                   0  \n",
       "8                   0  \n",
       "9                   0  \n",
       "10                  0  \n",
       "\n",
       "[5 rows x 73 columns]"
      ]
     },
     "execution_count": 27,
     "metadata": {},
     "output_type": "execute_result"
    }
   ],
   "source": [
    "data.head()"
   ]
  },
  {
   "cell_type": "code",
   "execution_count": 30,
   "metadata": {
    "collapsed": false
   },
   "outputs": [
    {
     "data": {
      "text/html": [
       "<div>\n",
       "<table border=\"1\" class=\"dataframe\">\n",
       "  <thead>\n",
       "    <tr style=\"text-align: right;\">\n",
       "      <th></th>\n",
       "      <th>TripType</th>\n",
       "      <th>VisitNumber</th>\n",
       "      <th>Weekday</th>\n",
       "      <th>Upc</th>\n",
       "      <th>ScanCount</th>\n",
       "      <th>DepartmentDescription</th>\n",
       "      <th>FinelineNumber</th>\n",
       "    </tr>\n",
       "  </thead>\n",
       "  <tbody>\n",
       "    <tr>\n",
       "      <th>0</th>\n",
       "      <td>999</td>\n",
       "      <td>5</td>\n",
       "      <td>Friday</td>\n",
       "      <td>68113152929</td>\n",
       "      <td>-1</td>\n",
       "      <td>FINANCIAL SERVICES</td>\n",
       "      <td>1000</td>\n",
       "    </tr>\n",
       "    <tr>\n",
       "      <th>1</th>\n",
       "      <td>30</td>\n",
       "      <td>7</td>\n",
       "      <td>Friday</td>\n",
       "      <td>60538815980</td>\n",
       "      <td>1</td>\n",
       "      <td>SHOES</td>\n",
       "      <td>8931</td>\n",
       "    </tr>\n",
       "    <tr>\n",
       "      <th>2</th>\n",
       "      <td>30</td>\n",
       "      <td>7</td>\n",
       "      <td>Friday</td>\n",
       "      <td>7410811099</td>\n",
       "      <td>1</td>\n",
       "      <td>PERSONAL CARE</td>\n",
       "      <td>4504</td>\n",
       "    </tr>\n",
       "    <tr>\n",
       "      <th>3</th>\n",
       "      <td>26</td>\n",
       "      <td>8</td>\n",
       "      <td>Friday</td>\n",
       "      <td>2238403510</td>\n",
       "      <td>2</td>\n",
       "      <td>PAINT AND ACCESSORIES</td>\n",
       "      <td>3565</td>\n",
       "    </tr>\n",
       "    <tr>\n",
       "      <th>4</th>\n",
       "      <td>26</td>\n",
       "      <td>8</td>\n",
       "      <td>Friday</td>\n",
       "      <td>2006613744</td>\n",
       "      <td>2</td>\n",
       "      <td>PAINT AND ACCESSORIES</td>\n",
       "      <td>1017</td>\n",
       "    </tr>\n",
       "  </tbody>\n",
       "</table>\n",
       "</div>"
      ],
      "text/plain": [
       "   TripType  VisitNumber Weekday          Upc  ScanCount  \\\n",
       "0       999            5  Friday  68113152929         -1   \n",
       "1        30            7  Friday  60538815980          1   \n",
       "2        30            7  Friday   7410811099          1   \n",
       "3        26            8  Friday   2238403510          2   \n",
       "4        26            8  Friday   2006613744          2   \n",
       "\n",
       "   DepartmentDescription  FinelineNumber  \n",
       "0     FINANCIAL SERVICES            1000  \n",
       "1                  SHOES            8931  \n",
       "2          PERSONAL CARE            4504  \n",
       "3  PAINT AND ACCESSORIES            3565  \n",
       "4  PAINT AND ACCESSORIES            1017  "
      ]
     },
     "execution_count": 30,
     "metadata": {},
     "output_type": "execute_result"
    }
   ],
   "source": [
    "data_original.head()"
   ]
  },
  {
   "cell_type": "code",
   "execution_count": 26,
   "metadata": {
    "collapsed": false
   },
   "outputs": [],
   "source": [
    "test = add_category_counts_test(test)"
   ]
  },
  {
   "cell_type": "code",
   "execution_count": 28,
   "metadata": {
    "collapsed": false
   },
   "outputs": [
    {
     "data": {
      "text/html": [
       "<div>\n",
       "<table border=\"1\" class=\"dataframe\">\n",
       "  <thead>\n",
       "    <tr style=\"text-align: right;\">\n",
       "      <th></th>\n",
       "      <th>Weekday</th>\n",
       "      <th>NumItems</th>\n",
       "      <th>Return</th>\n",
       "      <th>CategoryCounts</th>\n",
       "      <th>ACCESSORIES</th>\n",
       "      <th>AUTOMOTIVE</th>\n",
       "      <th>BAKERY</th>\n",
       "      <th>BATH AND SHOWER</th>\n",
       "      <th>BEAUTY</th>\n",
       "      <th>BEDDING</th>\n",
       "      <th>...</th>\n",
       "      <th>SEAFOOD</th>\n",
       "      <th>SEASONAL</th>\n",
       "      <th>SERVICE DELI</th>\n",
       "      <th>SHEER HOSIERY</th>\n",
       "      <th>SHOES</th>\n",
       "      <th>SLEEPWEAR/FOUNDATIONS</th>\n",
       "      <th>SPORTING GOODS</th>\n",
       "      <th>SWIMWEAR/OUTERWEAR</th>\n",
       "      <th>TOYS</th>\n",
       "      <th>WIRELESS</th>\n",
       "    </tr>\n",
       "    <tr>\n",
       "      <th>VisitNumber</th>\n",
       "      <th></th>\n",
       "      <th></th>\n",
       "      <th></th>\n",
       "      <th></th>\n",
       "      <th></th>\n",
       "      <th></th>\n",
       "      <th></th>\n",
       "      <th></th>\n",
       "      <th></th>\n",
       "      <th></th>\n",
       "      <th></th>\n",
       "      <th></th>\n",
       "      <th></th>\n",
       "      <th></th>\n",
       "      <th></th>\n",
       "      <th></th>\n",
       "      <th></th>\n",
       "      <th></th>\n",
       "      <th></th>\n",
       "      <th></th>\n",
       "      <th></th>\n",
       "    </tr>\n",
       "  </thead>\n",
       "  <tbody>\n",
       "    <tr>\n",
       "      <th>1</th>\n",
       "      <td>5</td>\n",
       "      <td>4</td>\n",
       "      <td>0</td>\n",
       "      <td>3</td>\n",
       "      <td>0</td>\n",
       "      <td>0</td>\n",
       "      <td>0</td>\n",
       "      <td>0</td>\n",
       "      <td>0</td>\n",
       "      <td>0</td>\n",
       "      <td>...</td>\n",
       "      <td>0</td>\n",
       "      <td>0</td>\n",
       "      <td>0</td>\n",
       "      <td>0</td>\n",
       "      <td>1</td>\n",
       "      <td>0</td>\n",
       "      <td>0</td>\n",
       "      <td>0</td>\n",
       "      <td>0</td>\n",
       "      <td>0</td>\n",
       "    </tr>\n",
       "    <tr>\n",
       "      <th>2</th>\n",
       "      <td>5</td>\n",
       "      <td>4</td>\n",
       "      <td>0</td>\n",
       "      <td>3</td>\n",
       "      <td>0</td>\n",
       "      <td>0</td>\n",
       "      <td>1</td>\n",
       "      <td>0</td>\n",
       "      <td>0</td>\n",
       "      <td>0</td>\n",
       "      <td>...</td>\n",
       "      <td>0</td>\n",
       "      <td>0</td>\n",
       "      <td>0</td>\n",
       "      <td>0</td>\n",
       "      <td>0</td>\n",
       "      <td>0</td>\n",
       "      <td>0</td>\n",
       "      <td>0</td>\n",
       "      <td>0</td>\n",
       "      <td>0</td>\n",
       "    </tr>\n",
       "    <tr>\n",
       "      <th>3</th>\n",
       "      <td>5</td>\n",
       "      <td>0</td>\n",
       "      <td>1</td>\n",
       "      <td>0</td>\n",
       "      <td>0</td>\n",
       "      <td>0</td>\n",
       "      <td>0</td>\n",
       "      <td>0</td>\n",
       "      <td>0</td>\n",
       "      <td>0</td>\n",
       "      <td>...</td>\n",
       "      <td>0</td>\n",
       "      <td>0</td>\n",
       "      <td>0</td>\n",
       "      <td>0</td>\n",
       "      <td>0</td>\n",
       "      <td>0</td>\n",
       "      <td>0</td>\n",
       "      <td>0</td>\n",
       "      <td>0</td>\n",
       "      <td>0</td>\n",
       "    </tr>\n",
       "    <tr>\n",
       "      <th>4</th>\n",
       "      <td>5</td>\n",
       "      <td>1</td>\n",
       "      <td>0</td>\n",
       "      <td>1</td>\n",
       "      <td>0</td>\n",
       "      <td>0</td>\n",
       "      <td>0</td>\n",
       "      <td>0</td>\n",
       "      <td>0</td>\n",
       "      <td>0</td>\n",
       "      <td>...</td>\n",
       "      <td>0</td>\n",
       "      <td>0</td>\n",
       "      <td>0</td>\n",
       "      <td>0</td>\n",
       "      <td>0</td>\n",
       "      <td>0</td>\n",
       "      <td>0</td>\n",
       "      <td>0</td>\n",
       "      <td>0</td>\n",
       "      <td>0</td>\n",
       "    </tr>\n",
       "    <tr>\n",
       "      <th>6</th>\n",
       "      <td>5</td>\n",
       "      <td>0</td>\n",
       "      <td>1</td>\n",
       "      <td>0</td>\n",
       "      <td>0</td>\n",
       "      <td>0</td>\n",
       "      <td>0</td>\n",
       "      <td>0</td>\n",
       "      <td>0</td>\n",
       "      <td>0</td>\n",
       "      <td>...</td>\n",
       "      <td>0</td>\n",
       "      <td>0</td>\n",
       "      <td>0</td>\n",
       "      <td>0</td>\n",
       "      <td>0</td>\n",
       "      <td>0</td>\n",
       "      <td>0</td>\n",
       "      <td>0</td>\n",
       "      <td>0</td>\n",
       "      <td>0</td>\n",
       "    </tr>\n",
       "  </tbody>\n",
       "</table>\n",
       "<p>5 rows × 70 columns</p>\n",
       "</div>"
      ],
      "text/plain": [
       "             Weekday  NumItems  Return  CategoryCounts  ACCESSORIES  \\\n",
       "VisitNumber                                                           \n",
       "1                  5         4       0               3            0   \n",
       "2                  5         4       0               3            0   \n",
       "3                  5         0       1               0            0   \n",
       "4                  5         1       0               1            0   \n",
       "6                  5         0       1               0            0   \n",
       "\n",
       "             AUTOMOTIVE  BAKERY  BATH AND SHOWER  BEAUTY  BEDDING    ...     \\\n",
       "VisitNumber                                                          ...      \n",
       "1                     0       0                0       0        0    ...      \n",
       "2                     0       1                0       0        0    ...      \n",
       "3                     0       0                0       0        0    ...      \n",
       "4                     0       0                0       0        0    ...      \n",
       "6                     0       0                0       0        0    ...      \n",
       "\n",
       "             SEAFOOD  SEASONAL  SERVICE DELI  SHEER HOSIERY  SHOES  \\\n",
       "VisitNumber                                                          \n",
       "1                  0         0             0              0      1   \n",
       "2                  0         0             0              0      0   \n",
       "3                  0         0             0              0      0   \n",
       "4                  0         0             0              0      0   \n",
       "6                  0         0             0              0      0   \n",
       "\n",
       "             SLEEPWEAR/FOUNDATIONS  SPORTING GOODS  SWIMWEAR/OUTERWEAR  TOYS  \\\n",
       "VisitNumber                                                                    \n",
       "1                                0               0                   0     0   \n",
       "2                                0               0                   0     0   \n",
       "3                                0               0                   0     0   \n",
       "4                                0               0                   0     0   \n",
       "6                                0               0                   0     0   \n",
       "\n",
       "             WIRELESS  \n",
       "VisitNumber            \n",
       "1                   0  \n",
       "2                   0  \n",
       "3                   0  \n",
       "4                   0  \n",
       "6                   0  \n",
       "\n",
       "[5 rows x 70 columns]"
      ]
     },
     "execution_count": 28,
     "metadata": {},
     "output_type": "execute_result"
    }
   ],
   "source": [
    "test.head()"
   ]
  },
  {
   "cell_type": "code",
   "execution_count": 15,
   "metadata": {
    "collapsed": false
   },
   "outputs": [],
   "source": [
    "test_features = [\"Weekday\", \"NumItems\", \"Return\", 'CategoryCounts', 'ACCESSORIES', \n",
    "           'AUTOMOTIVE', 'BAKERY', 'BATH AND SHOWER', 'BEAUTY', 'BEDDING',\n",
    "           'BOOKS AND MAGAZINES', 'BOYS WEAR', 'BRAS & SHAPEWEAR',\n",
    "           'CAMERAS AND SUPPLIES', 'CANDY, TOBACCO, COOKIES', 'CELEBRATION',\n",
    "           'COMM BREAD', 'CONCEPT STORES', 'COOK AND DINE', 'DAIRY', 'DSD GROCERY',\n",
    "           'ELECTRONICS', 'FABRICS AND CRAFTS', 'FINANCIAL SERVICES',\n",
    "           'FROZEN FOODS', 'FURNITURE', 'GIRLS WEAR, 4-6X  AND 7-14',\n",
    "           'GROCERY DRY GOODS', 'HARDWARE', 'HOME DECOR',\n",
    "           'HOME MANAGEMENT', 'HORTICULTURE AND ACCESS',\n",
    "           'HOUSEHOLD CHEMICALS/SUPP', 'HOUSEHOLD PAPER GOODS',\n",
    "           'IMPULSE MERCHANDISE', 'INFANT APPAREL', 'INFANT CONSUMABLE HARDLINES',\n",
    "           'JEWELRY AND SUNGLASSES', 'LADIES SOCKS', 'LADIESWEAR',\n",
    "           'LARGE HOUSEHOLD GOODS', 'LAWN AND GARDEN', 'LIQUOR,WINE,BEER',\n",
    "           'MEAT - FRESH & FROZEN', 'MEDIA AND GAMING', 'MENS WEAR', 'MENSWEAR',\n",
    "           'OFFICE SUPPLIES', 'OPTICAL - FRAMES', 'OPTICAL - LENSES',\n",
    "           'OTHER DEPARTMENTS', 'PAINT AND ACCESSORIES', 'PERSONAL CARE',\n",
    "           'PETS AND SUPPLIES', 'PHARMACY OTC', 'PHARMACY RX',\n",
    "           'PLAYERS AND ELECTRONICS', 'PLUS AND MATERNITY', 'PRE PACKED DELI',\n",
    "           'PRODUCE', 'SEAFOOD', 'SEASONAL', 'SERVICE DELI', 'SHEER HOSIERY',\n",
    "           'SHOES', 'SLEEPWEAR/FOUNDATIONS', 'SPORTING GOODS',\n",
    "           'SWIMWEAR/OUTERWEAR', 'TOYS', 'WIRELESS']\n",
    "features = [\"Weekday\", \"NumItems\", \"Return\", 'CategoryCounts', 'ACCESSORIES',\n",
    "       'AUTOMOTIVE', 'BAKERY', 'BATH AND SHOWER', 'BEAUTY', 'BEDDING',\n",
    "       'BOOKS AND MAGAZINES', 'BOYS WEAR', 'BRAS & SHAPEWEAR',\n",
    "       'CAMERAS AND SUPPLIES', 'CANDY, TOBACCO, COOKIES', 'CELEBRATION',\n",
    "       'COMM BREAD', 'CONCEPT STORES', 'COOK AND DINE', 'DAIRY', 'DSD GROCERY',\n",
    "       'ELECTRONICS', 'FABRICS AND CRAFTS', 'FINANCIAL SERVICES',\n",
    "       'FROZEN FOODS', 'FURNITURE', 'GIRLS WEAR, 4-6X  AND 7-14',\n",
    "       'GROCERY DRY GOODS', 'HARDWARE', 'HOME DECOR',\n",
    "       'HOME MANAGEMENT', 'HORTICULTURE AND ACCESS',\n",
    "       'HOUSEHOLD CHEMICALS/SUPP', 'HOUSEHOLD PAPER GOODS',\n",
    "       'IMPULSE MERCHANDISE', 'INFANT APPAREL', 'INFANT CONSUMABLE HARDLINES',\n",
    "       'JEWELRY AND SUNGLASSES', 'LADIES SOCKS', 'LADIESWEAR',\n",
    "       'LARGE HOUSEHOLD GOODS', 'LAWN AND GARDEN', 'LIQUOR,WINE,BEER',\n",
    "       'MEAT - FRESH & FROZEN', 'MEDIA AND GAMING', 'MENS WEAR', 'MENSWEAR',\n",
    "       'OFFICE SUPPLIES', 'OPTICAL - FRAMES', 'OPTICAL - LENSES',\n",
    "       'OTHER DEPARTMENTS', 'PAINT AND ACCESSORIES', 'PERSONAL CARE',\n",
    "       'PETS AND SUPPLIES', 'PHARMACY OTC', 'PHARMACY RX',\n",
    "       'PLAYERS AND ELECTRONICS', 'PLUS AND MATERNITY', 'PRE PACKED DELI',\n",
    "       'PRODUCE', 'SEAFOOD', 'SEASONAL', 'SERVICE DELI', 'SHEER HOSIERY',\n",
    "       'SHOES', 'SLEEPWEAR/FOUNDATIONS', 'SPORTING GOODS',\n",
    "       'SWIMWEAR/OUTERWEAR', 'TOYS', 'WIRELESS']"
   ]
  },
  {
   "cell_type": "markdown",
   "metadata": {},
   "source": [
    "## Modeling"
   ]
  },
  {
   "cell_type": "markdown",
   "metadata": {},
   "source": [
    "### Logistic Regression"
   ]
  },
  {
   "cell_type": "code",
   "execution_count": 31,
   "metadata": {
    "collapsed": false
   },
   "outputs": [],
   "source": [
    "from sklearn.cross_validation import train_test_split\n",
    "from sklearn.linear_model import LogisticRegression\n",
    "from sklearn.metrics import log_loss"
   ]
  },
  {
   "cell_type": "code",
   "execution_count": 32,
   "metadata": {
    "collapsed": false
   },
   "outputs": [
    {
     "name": "stderr",
     "output_type": "stream",
     "text": [
      "/Users/MattKasle/Matt/.direnv/python-3.5.0/lib/python3.5/site-packages/pandas/core/generic.py:2273: SettingWithCopyWarning: \n",
      "A value is trying to be set on a copy of a slice from a DataFrame.\n",
      "Try using .loc[row_indexer,col_indexer] = value instead\n",
      "\n",
      "See the caveats in the documentation: http://pandas.pydata.org/pandas-docs/stable/indexing.html#indexing-view-versus-copy\n",
      "  self[name] = value\n"
     ]
    }
   ],
   "source": [
    "mytrain, mytest = train_test_split(data, test_size = .4)\n",
    "mytrain.TripType = mytrain.TripType.astype(float)\n",
    "mytrain.Weekday = mytrain.Weekday.astype(float)  \n",
    "mytrain.NumItems = mytrain.NumItems.astype(float)                         \n",
    "mytest.TripType = mytest.TripType.astype(float)\n",
    "mytest.Weekday = mytest.Weekday.astype(float)  \n",
    "mytest.NumItems = mytest.NumItems.astype(float) "
   ]
  },
  {
   "cell_type": "code",
   "execution_count": 56,
   "metadata": {
    "collapsed": false
   },
   "outputs": [
    {
     "name": "stdout",
     "output_type": "stream",
     "text": [
      "Log loss Percentage: 1.22337\n",
      "Accuracy Score: 0.6487849490462503\n"
     ]
    }
   ],
   "source": [
    "lr = LogisticRegression()\n",
    "lr.fit(X = np.asarray(mytrain[features]), y = np.asarray(mytrain.TripType))\n",
    "\n",
    "predictions = lr.predict_proba(np.asarray(mytest[features]))\n",
    "predictions_notproba = lr.predict(np.asarray(mytest[features]))\n",
    "\n",
    "print(\"Log loss Percentage: {}\".format(log_loss(mytest.TripType, predictions).round(5)))\n",
    "\n",
    "print(\"Accuracy Score: {}\".format(sklearn.metrics.accuracy_score(mytest.TripType, predictions_notproba)))"
   ]
  },
  {
   "cell_type": "markdown",
   "metadata": {},
   "source": [
    "### Random Forest"
   ]
  },
  {
   "cell_type": "code",
   "execution_count": 41,
   "metadata": {
    "collapsed": true
   },
   "outputs": [],
   "source": [
    "from sklearn.ensemble import RandomForestClassifier\n",
    "import sklearn"
   ]
  },
  {
   "cell_type": "code",
   "execution_count": 42,
   "metadata": {
    "collapsed": true
   },
   "outputs": [],
   "source": [
    "forest = RandomForestClassifier(n_estimators = 300, max_features=2)"
   ]
  },
  {
   "cell_type": "code",
   "execution_count": 48,
   "metadata": {
    "collapsed": false
   },
   "outputs": [],
   "source": [
    "forest = forest.fit(np.asarray(mytrain[features]), \n",
    "                    np.asarray(mytrain.TripType))"
   ]
  },
  {
   "cell_type": "code",
   "execution_count": 55,
   "metadata": {
    "collapsed": false
   },
   "outputs": [
    {
     "name": "stdout",
     "output_type": "stream",
     "text": [
      "Log loss Score: 1.31765\n",
      "Accuracy Score: 0.667389600209041\n"
     ]
    }
   ],
   "source": [
    "predictions = forest.predict_proba(np.asarray(mytest[features]))\n",
    "predictions_notproba = forest.predict(np.asarray(mytest[features]))\n",
    "print(\"Log loss Score: {}\".format(log_loss(mytest.TripType, predictions).round(5)))\n",
    "print(\"Accuracy Score: {}\".format(sklearn.metrics.accuracy_score(mytest.TripType, predictions_notproba)))"
   ]
  },
  {
   "cell_type": "markdown",
   "metadata": {},
   "source": [
    "### Extra Trees "
   ]
  },
  {
   "cell_type": "code",
   "execution_count": 60,
   "metadata": {
    "collapsed": false
   },
   "outputs": [],
   "source": [
    "from sklearn.ensemble import ExtraTreesClassifier\n",
    "extratrees = ExtraTreesClassifier(n_estimators = 100, max_features=3)\n",
    "extratrees = extratrees.fit(np.asarray(mytrain[features]), \n",
    "                    np.asarray(mytrain.TripType))"
   ]
  },
  {
   "cell_type": "code",
   "execution_count": 61,
   "metadata": {
    "collapsed": false
   },
   "outputs": [
    {
     "name": "stdout",
     "output_type": "stream",
     "text": [
      "Log loss Score: 2.27976\n"
     ]
    }
   ],
   "source": [
    "predictions = extratrees.predict_proba(np.asarray(mytest[features]))\n",
    "print(\"Log loss Score: {}\".format(log_loss(mytest.TripType, predictions).round(5)))"
   ]
  },
  {
   "cell_type": "markdown",
   "metadata": {
    "collapsed": false,
    "scrolled": true
   },
   "source": [
    "### Naive Bayes"
   ]
  },
  {
   "cell_type": "markdown",
   "metadata": {},
   "source": [
    "Naive Bayes methods are a set of supervised learning algorithms based on applying Bayes’ theorem with the “naive” assumption of independence between every pair of features. "
   ]
  },
  {
   "cell_type": "markdown",
   "metadata": {},
   "source": [
    "Can't use multinomial distribution because it needs all positive feature values, and some of mine are negative due to returns'"
   ]
  },
  {
   "cell_type": "code",
   "execution_count": 62,
   "metadata": {
    "collapsed": true
   },
   "outputs": [],
   "source": [
    "from sklearn import datasets\n",
    "from sklearn.naive_bayes import GaussianNB, BernoulliNB"
   ]
  },
  {
   "cell_type": "code",
   "execution_count": 63,
   "metadata": {
    "collapsed": false
   },
   "outputs": [],
   "source": [
    "gnb = GaussianNB()\n",
    "gnb = gnb.fit(np.asarray(mytrain[features]), \n",
    "                    np.asarray(mytrain.TripType))"
   ]
  },
  {
   "cell_type": "code",
   "execution_count": 69,
   "metadata": {
    "collapsed": true
   },
   "outputs": [],
   "source": [
    "predictions = gnb.predict_proba(np.asarray(mytest[features]))"
   ]
  },
  {
   "cell_type": "code",
   "execution_count": 70,
   "metadata": {
    "collapsed": false
   },
   "outputs": [
    {
     "name": "stdout",
     "output_type": "stream",
     "text": [
      "Log loss Score: 30.20646\n"
     ]
    }
   ],
   "source": [
    "print(\"Log loss Score: {}\".format(log_loss(mytest.TripType, predictions).round(5)))"
   ]
  },
  {
   "cell_type": "markdown",
   "metadata": {},
   "source": [
    "That...didn't work"
   ]
  },
  {
   "cell_type": "code",
   "execution_count": 71,
   "metadata": {
    "collapsed": false
   },
   "outputs": [],
   "source": [
    "bnb = BernoulliNB()\n",
    "bnb = bnb.fit(np.asarray(mytrain[features]), \n",
    "                    np.asarray(mytrain.TripType))"
   ]
  },
  {
   "cell_type": "code",
   "execution_count": 72,
   "metadata": {
    "collapsed": false
   },
   "outputs": [
    {
     "name": "stdout",
     "output_type": "stream",
     "text": [
      "Log loss Score: 1.3847\n"
     ]
    }
   ],
   "source": [
    "predictions = bnb.predict_proba(np.asarray(mytest[test_features]))\n",
    "print(\"Log loss Score: {}\".format(log_loss(mytest.TripType, predictions).round(5)))"
   ]
  },
  {
   "cell_type": "markdown",
   "metadata": {},
   "source": [
    "Bernoulli Naive Bayes worked much better."
   ]
  },
  {
   "cell_type": "markdown",
   "metadata": {},
   "source": [
    "BernoulliNB implements the naive Bayes training and classification algorithms for data that is distributed according to multivariate Bernoulli distributions; i.e., there may be multiple features but each one is assumed to be a binary-valued (Bernoulli, boolean) variable. Therefore, this class requires samples to be represented as binary-valued feature vectors; if handed any other kind of data, a BernoulliNB instance may binarize its input (depending on the binarize parameter)."
   ]
  },
  {
   "cell_type": "markdown",
   "metadata": {},
   "source": [
    "### Nearest Neighbor"
   ]
  },
  {
   "cell_type": "code",
   "execution_count": 19,
   "metadata": {
    "collapsed": true
   },
   "outputs": [],
   "source": [
    "from sklearn.neighbors import KNeighborsClassifier, RadiusNeighborsClassifier"
   ]
  },
  {
   "cell_type": "code",
   "execution_count": 25,
   "metadata": {
    "collapsed": true
   },
   "outputs": [],
   "source": [
    "knc = KNeighborsClassifier()"
   ]
  },
  {
   "cell_type": "code",
   "execution_count": 219,
   "metadata": {
    "collapsed": false
   },
   "outputs": [],
   "source": [
    "knc = knc.fit(np.asarray(mytrain[features]), \n",
    "                    np.asarray(mytrain.TripType))"
   ]
  },
  {
   "cell_type": "code",
   "execution_count": 75,
   "metadata": {
    "collapsed": false
   },
   "outputs": [
    {
     "data": {
      "text/plain": [
       "6.26328"
      ]
     },
     "execution_count": 75,
     "metadata": {},
     "output_type": "execute_result"
    }
   ],
   "source": [
    "predictions = knc.predict_proba(np.asarray(mytest[features]))\n",
    "log_loss(mytest.TripType, predictions).round(5)"
   ]
  },
  {
   "cell_type": "code",
   "execution_count": 76,
   "metadata": {
    "collapsed": true
   },
   "outputs": [],
   "source": [
    "knc = KNeighborsClassifier(algorithm='ball_tree')"
   ]
  },
  {
   "cell_type": "code",
   "execution_count": 77,
   "metadata": {
    "collapsed": false
   },
   "outputs": [
    {
     "data": {
      "text/plain": [
       "6.3121700000000001"
      ]
     },
     "execution_count": 77,
     "metadata": {},
     "output_type": "execute_result"
    }
   ],
   "source": [
    "knc = knc.fit(np.asarray(mytrain[features]), \n",
    "                    np.asarray(mytrain.TripType))\n",
    "predictions = knc.predict_proba(np.asarray(mytest[features]))\n",
    "log_loss(mytest.TripType, predictions).round(5)"
   ]
  },
  {
   "cell_type": "code",
   "execution_count": 29,
   "metadata": {
    "collapsed": true
   },
   "outputs": [],
   "source": [
    "### Linear and Quadratic Discriminant Analysis"
   ]
  },
  {
   "cell_type": "code",
   "execution_count": 67,
   "metadata": {
    "collapsed": true
   },
   "outputs": [],
   "source": [
    "from sklearn.svm import LinearSVC"
   ]
  },
  {
   "cell_type": "code",
   "execution_count": 68,
   "metadata": {
    "collapsed": true
   },
   "outputs": [],
   "source": [
    "lsvc = LinearSVC()\n",
    "lsvc = lsvc.fit(np.asarray(mytrain[features]), \n",
    "                    np.asarray(mytrain.TripType))"
   ]
  },
  {
   "cell_type": "code",
   "execution_count": 74,
   "metadata": {
    "collapsed": false
   },
   "outputs": [
    {
     "data": {
      "text/plain": [
       "4.4655800000000001"
      ]
     },
     "execution_count": 74,
     "metadata": {},
     "output_type": "execute_result"
    }
   ],
   "source": [
    "predictions = lsvc.decision_function(np.asarray(mytest[features]))\n",
    "log_loss(mytest.TripType, predictions).round(5)"
   ]
  },
  {
   "cell_type": "markdown",
   "metadata": {},
   "source": [
    "### XGBoost (eXtreme Gradient Boosting, or Boosted Trees)"
   ]
  },
  {
   "cell_type": "code",
   "execution_count": 1465,
   "metadata": {
    "collapsed": true
   },
   "outputs": [],
   "source": [
    "import xgboost as xgb\n",
    "from sklearn.cross_validation import train_test_split\n",
    "from sklearn.metrics import log_loss"
   ]
  },
  {
   "cell_type": "code",
   "execution_count": 1466,
   "metadata": {
    "collapsed": false
   },
   "outputs": [],
   "source": [
    "data = pd.read_csv(\"train.csv\")"
   ]
  },
  {
   "cell_type": "code",
   "execution_count": 1467,
   "metadata": {
    "collapsed": false
   },
   "outputs": [],
   "source": [
    "dummy_data = fineline_dummies(data)"
   ]
  },
  {
   "cell_type": "code",
   "execution_count": 1468,
   "metadata": {
    "collapsed": false
   },
   "outputs": [],
   "source": [
    "data = transform_my_data(data)"
   ]
  },
  {
   "cell_type": "code",
   "execution_count": 1469,
   "metadata": {
    "collapsed": false
   },
   "outputs": [],
   "source": [
    "data = add_category_counts(data)"
   ]
  },
  {
   "cell_type": "code",
   "execution_count": 1475,
   "metadata": {
    "collapsed": true
   },
   "outputs": [],
   "source": [
    "mytrain, mytest = train_test_split(data, test_size = .4)"
   ]
  },
  {
   "cell_type": "code",
   "execution_count": 1481,
   "metadata": {
    "collapsed": false
   },
   "outputs": [],
   "source": [
    "mytrain_train = mytrain[features]\n",
    "mytest_train = mytest[test_features]\n",
    "mytrain_train = mytrain_train.join(dummy_data)\n",
    "mytest_train = mytest_train.join(dummy_data)"
   ]
  },
  {
   "cell_type": "code",
   "execution_count": 1482,
   "metadata": {
    "collapsed": false
   },
   "outputs": [],
   "source": [
    "dtrain = xgb.DMatrix(np.asarray(mytrain_train), label = np.asarray(mytrain.TripType))\n",
    "dtest = xgb.DMatrix(np.asarray(mytest_train), label = np.asarray(mytest.TripType))"
   ]
  },
  {
   "cell_type": "code",
   "execution_count": 1483,
   "metadata": {
    "collapsed": false
   },
   "outputs": [],
   "source": [
    "num_round = 200\n",
    "param = {'objective': 'multi:softprob', 'num_class':38, \n",
    "         'eval_metric': 'mlogloss', \"max_delta_step\": 5}\n",
    "watchlist = [(dtrain,'train'), (dtest, 'eval')]\n"
   ]
  },
  {
   "cell_type": "code",
   "execution_count": 1484,
   "metadata": {
    "collapsed": false,
    "scrolled": true
   },
   "outputs": [
    {
     "name": "stderr",
     "output_type": "stream",
     "text": [
      "Will train until eval error hasn't decreased in 3 rounds.\n",
      "[0]\ttrain-mlogloss:2.423331\teval-mlogloss:2.459086\n",
      "[1]\ttrain-mlogloss:1.844753\teval-mlogloss:1.903898\n",
      "[2]\ttrain-mlogloss:1.577973\teval-mlogloss:1.652890\n",
      "[3]\ttrain-mlogloss:1.399409\teval-mlogloss:1.486069\n",
      "[4]\ttrain-mlogloss:1.273097\teval-mlogloss:1.369896\n",
      "[5]\ttrain-mlogloss:1.175256\teval-mlogloss:1.281284\n",
      "[6]\ttrain-mlogloss:1.098506\teval-mlogloss:1.212533\n",
      "[7]\ttrain-mlogloss:1.037998\teval-mlogloss:1.160038\n",
      "[8]\ttrain-mlogloss:0.987436\teval-mlogloss:1.116726\n",
      "[9]\ttrain-mlogloss:0.945993\teval-mlogloss:1.081721\n",
      "[10]\ttrain-mlogloss:0.910865\teval-mlogloss:1.052362\n",
      "[11]\ttrain-mlogloss:0.881344\teval-mlogloss:1.029085\n",
      "[12]\ttrain-mlogloss:0.854650\teval-mlogloss:1.008608\n",
      "[13]\ttrain-mlogloss:0.832596\teval-mlogloss:0.991987\n",
      "[14]\ttrain-mlogloss:0.812570\teval-mlogloss:0.977884\n",
      "[15]\ttrain-mlogloss:0.794244\teval-mlogloss:0.965146\n",
      "[16]\ttrain-mlogloss:0.777982\teval-mlogloss:0.954058\n",
      "[17]\ttrain-mlogloss:0.762627\teval-mlogloss:0.943604\n",
      "[18]\ttrain-mlogloss:0.748921\teval-mlogloss:0.934439\n",
      "[19]\ttrain-mlogloss:0.736839\teval-mlogloss:0.927327\n",
      "[20]\ttrain-mlogloss:0.725963\teval-mlogloss:0.921345\n",
      "[21]\ttrain-mlogloss:0.715670\teval-mlogloss:0.915357\n",
      "[22]\ttrain-mlogloss:0.705992\teval-mlogloss:0.910306\n",
      "[23]\ttrain-mlogloss:0.696955\teval-mlogloss:0.905692\n",
      "[24]\ttrain-mlogloss:0.688795\teval-mlogloss:0.901675\n",
      "[25]\ttrain-mlogloss:0.681142\teval-mlogloss:0.898301\n",
      "[26]\ttrain-mlogloss:0.673911\teval-mlogloss:0.895056\n",
      "[27]\ttrain-mlogloss:0.667434\teval-mlogloss:0.892322\n",
      "[28]\ttrain-mlogloss:0.660891\teval-mlogloss:0.889605\n",
      "[29]\ttrain-mlogloss:0.654827\teval-mlogloss:0.886857\n",
      "[30]\ttrain-mlogloss:0.649510\teval-mlogloss:0.884646\n",
      "[31]\ttrain-mlogloss:0.644217\teval-mlogloss:0.882312\n",
      "[32]\ttrain-mlogloss:0.638951\teval-mlogloss:0.880289\n",
      "[33]\ttrain-mlogloss:0.633757\teval-mlogloss:0.878099\n",
      "[34]\ttrain-mlogloss:0.628311\teval-mlogloss:0.876356\n",
      "[35]\ttrain-mlogloss:0.623251\teval-mlogloss:0.874732\n",
      "[36]\ttrain-mlogloss:0.618910\teval-mlogloss:0.873264\n",
      "[37]\ttrain-mlogloss:0.614486\teval-mlogloss:0.872060\n",
      "[38]\ttrain-mlogloss:0.610567\teval-mlogloss:0.870739\n",
      "[39]\ttrain-mlogloss:0.606921\teval-mlogloss:0.869702\n",
      "[40]\ttrain-mlogloss:0.603048\teval-mlogloss:0.868486\n",
      "[41]\ttrain-mlogloss:0.599154\teval-mlogloss:0.867254\n",
      "[42]\ttrain-mlogloss:0.595394\teval-mlogloss:0.866287\n",
      "[43]\ttrain-mlogloss:0.592124\teval-mlogloss:0.865253\n",
      "[44]\ttrain-mlogloss:0.588547\teval-mlogloss:0.864323\n",
      "[45]\ttrain-mlogloss:0.585047\teval-mlogloss:0.863584\n",
      "[46]\ttrain-mlogloss:0.581401\teval-mlogloss:0.862571\n",
      "[47]\ttrain-mlogloss:0.578147\teval-mlogloss:0.861497\n",
      "[48]\ttrain-mlogloss:0.575062\teval-mlogloss:0.860758\n",
      "[49]\ttrain-mlogloss:0.572221\teval-mlogloss:0.860121\n",
      "[50]\ttrain-mlogloss:0.568955\teval-mlogloss:0.859506\n",
      "[51]\ttrain-mlogloss:0.565888\teval-mlogloss:0.858703\n",
      "[52]\ttrain-mlogloss:0.562802\teval-mlogloss:0.857991\n",
      "[53]\ttrain-mlogloss:0.560007\teval-mlogloss:0.857466\n",
      "[54]\ttrain-mlogloss:0.557238\teval-mlogloss:0.856886\n",
      "[55]\ttrain-mlogloss:0.554612\teval-mlogloss:0.856242\n",
      "[56]\ttrain-mlogloss:0.551750\teval-mlogloss:0.855826\n",
      "[57]\ttrain-mlogloss:0.549248\teval-mlogloss:0.855243\n",
      "[58]\ttrain-mlogloss:0.546547\teval-mlogloss:0.854888\n",
      "[59]\ttrain-mlogloss:0.544158\teval-mlogloss:0.854356\n",
      "[60]\ttrain-mlogloss:0.541597\teval-mlogloss:0.853935\n",
      "[61]\ttrain-mlogloss:0.539005\teval-mlogloss:0.853526\n",
      "[62]\ttrain-mlogloss:0.536663\teval-mlogloss:0.853040\n",
      "[63]\ttrain-mlogloss:0.534493\teval-mlogloss:0.852457\n",
      "[64]\ttrain-mlogloss:0.532283\teval-mlogloss:0.852212\n",
      "[65]\ttrain-mlogloss:0.529960\teval-mlogloss:0.851940\n",
      "[66]\ttrain-mlogloss:0.527908\teval-mlogloss:0.851564\n",
      "[67]\ttrain-mlogloss:0.525661\teval-mlogloss:0.851234\n",
      "[68]\ttrain-mlogloss:0.523464\teval-mlogloss:0.850870\n",
      "[69]\ttrain-mlogloss:0.521407\teval-mlogloss:0.850722\n",
      "[70]\ttrain-mlogloss:0.519347\teval-mlogloss:0.850531\n",
      "[71]\ttrain-mlogloss:0.517126\teval-mlogloss:0.850266\n",
      "[72]\ttrain-mlogloss:0.514822\teval-mlogloss:0.850093\n",
      "[73]\ttrain-mlogloss:0.512693\teval-mlogloss:0.850089\n",
      "[74]\ttrain-mlogloss:0.510374\teval-mlogloss:0.849980\n",
      "[75]\ttrain-mlogloss:0.508443\teval-mlogloss:0.849586\n",
      "[76]\ttrain-mlogloss:0.506405\teval-mlogloss:0.849351\n",
      "[77]\ttrain-mlogloss:0.504279\teval-mlogloss:0.849047\n",
      "[78]\ttrain-mlogloss:0.502068\teval-mlogloss:0.848861\n",
      "[79]\ttrain-mlogloss:0.500009\teval-mlogloss:0.848739\n",
      "[80]\ttrain-mlogloss:0.497969\teval-mlogloss:0.848365\n",
      "[81]\ttrain-mlogloss:0.496227\teval-mlogloss:0.848128\n",
      "[82]\ttrain-mlogloss:0.494557\teval-mlogloss:0.848129\n",
      "[83]\ttrain-mlogloss:0.492839\teval-mlogloss:0.847973\n",
      "[84]\ttrain-mlogloss:0.490901\teval-mlogloss:0.847857\n",
      "[85]\ttrain-mlogloss:0.489059\teval-mlogloss:0.847707\n",
      "[86]\ttrain-mlogloss:0.487094\teval-mlogloss:0.847330\n",
      "[87]\ttrain-mlogloss:0.485146\teval-mlogloss:0.847151\n",
      "[88]\ttrain-mlogloss:0.483381\teval-mlogloss:0.847182\n",
      "[89]\ttrain-mlogloss:0.481471\teval-mlogloss:0.847208\n",
      "[90]\ttrain-mlogloss:0.479974\teval-mlogloss:0.847276\n",
      "Stopping. Best iteration:\n",
      "[87]\ttrain-mlogloss:0.485146\teval-mlogloss:0.847151\n",
      "\n"
     ]
    }
   ],
   "source": [
    "bst = xgb.train(param, dtrain, num_round, watchlist, \n",
    "                early_stopping_rounds=3)"
   ]
  },
  {
   "cell_type": "code",
   "execution_count": 536,
   "metadata": {
    "collapsed": false
   },
   "outputs": [],
   "source": [
    "my_test = xgb.DMatrix(np.asarray(mytest_train))\n",
    "test_predictions = bst1.predict(my_test)\n",
    "log_loss(mytest.TripType, test_predictions).round(5)"
   ]
  },
  {
   "cell_type": "code",
   "execution_count": 1485,
   "metadata": {
    "collapsed": true
   },
   "outputs": [],
   "source": [
    "my_test1 = xgb.DMatrix(np.asarray(mytest_train))\n",
    "test_predictions1 = bst.predict(my_test1)"
   ]
  },
  {
   "cell_type": "code",
   "execution_count": 1486,
   "metadata": {
    "collapsed": false
   },
   "outputs": [
    {
     "data": {
      "text/plain": [
       "0.84730000000000005"
      ]
     },
     "execution_count": 1486,
     "metadata": {},
     "output_type": "execute_result"
    }
   ],
   "source": [
    "log_loss(mytest.TripType, test_predictions1).round(5)"
   ]
  },
  {
   "cell_type": "markdown",
   "metadata": {},
   "source": [
    "Massive Improvement in the log loss score by using xgboost"
   ]
  },
  {
   "cell_type": "code",
   "execution_count": 1581,
   "metadata": {
    "collapsed": false
   },
   "outputs": [
    {
     "data": {
      "text/html": [
       "<div>\n",
       "<table border=\"1\" class=\"dataframe\">\n",
       "  <thead>\n",
       "    <tr style=\"text-align: right;\">\n",
       "      <th></th>\n",
       "      <th>WalmartClass</th>\n",
       "      <th>Prediction</th>\n",
       "      <th>Result</th>\n",
       "    </tr>\n",
       "    <tr>\n",
       "      <th>VisitNumber</th>\n",
       "      <th></th>\n",
       "      <th></th>\n",
       "      <th></th>\n",
       "    </tr>\n",
       "  </thead>\n",
       "  <tbody>\n",
       "    <tr>\n",
       "      <th>109535</th>\n",
       "      <td>39</td>\n",
       "      <td>39</td>\n",
       "      <td>1</td>\n",
       "    </tr>\n",
       "    <tr>\n",
       "      <th>65795</th>\n",
       "      <td>25</td>\n",
       "      <td>25</td>\n",
       "      <td>1</td>\n",
       "    </tr>\n",
       "    <tr>\n",
       "      <th>81674</th>\n",
       "      <td>999</td>\n",
       "      <td>999</td>\n",
       "      <td>1</td>\n",
       "    </tr>\n",
       "    <tr>\n",
       "      <th>71747</th>\n",
       "      <td>40</td>\n",
       "      <td>40</td>\n",
       "      <td>1</td>\n",
       "    </tr>\n",
       "    <tr>\n",
       "      <th>55413</th>\n",
       "      <td>40</td>\n",
       "      <td>40</td>\n",
       "      <td>1</td>\n",
       "    </tr>\n",
       "  </tbody>\n",
       "</table>\n",
       "</div>"
      ],
      "text/plain": [
       "             WalmartClass  Prediction  Result\n",
       "VisitNumber                                  \n",
       "109535                 39          39       1\n",
       "65795                  25          25       1\n",
       "81674                 999         999       1\n",
       "71747                  40          40       1\n",
       "55413                  40          40       1"
      ]
     },
     "execution_count": 1581,
     "metadata": {},
     "output_type": "execute_result"
    }
   ],
   "source": [
    "test_predictions.head()"
   ]
  },
  {
   "cell_type": "code",
   "execution_count": 491,
   "metadata": {
    "collapsed": false
   },
   "outputs": [
    {
     "name": "stderr",
     "output_type": "stream",
     "text": [
      "Will train until eval error hasn't decreased in 5 rounds.\n",
      "[0]\ttrain-merror:0.546425\teval-merror:0.552443\n",
      "[1]\ttrain-merror:0.503693\teval-merror:0.514711\n",
      "[2]\ttrain-merror:0.450892\teval-merror:0.465874\n",
      "[3]\ttrain-merror:0.402237\teval-merror:0.423047\n",
      "[4]\ttrain-merror:0.369243\teval-merror:0.392684\n",
      "[5]\ttrain-merror:0.324612\teval-merror:0.354194\n",
      "[6]\ttrain-merror:0.315657\teval-merror:0.346616\n",
      "[7]\ttrain-merror:0.310396\teval-merror:0.342461\n",
      "[8]\ttrain-merror:0.301617\teval-merror:0.336321\n",
      "[9]\ttrain-merror:0.293011\teval-merror:0.329997\n",
      "[10]\ttrain-merror:0.288029\teval-merror:0.324928\n",
      "[11]\ttrain-merror:0.281357\teval-merror:0.318997\n",
      "[12]\ttrain-merror:0.277786\teval-merror:0.318265\n",
      "[13]\ttrain-merror:0.273535\teval-merror:0.313797\n",
      "[14]\ttrain-merror:0.263135\teval-merror:0.305095\n",
      "[15]\ttrain-merror:0.258710\teval-merror:0.304547\n",
      "[16]\ttrain-merror:0.252317\teval-merror:0.300235\n",
      "[17]\ttrain-merror:0.249390\teval-merror:0.299190\n",
      "[18]\ttrain-merror:0.246411\teval-merror:0.298249\n",
      "[19]\ttrain-merror:0.242596\teval-merror:0.296734\n",
      "[20]\ttrain-merror:0.239792\teval-merror:0.295715\n",
      "[21]\ttrain-merror:0.236395\teval-merror:0.294722\n",
      "[22]\ttrain-merror:0.233242\teval-merror:0.294121\n",
      "[23]\ttrain-merror:0.230315\teval-merror:0.293363\n",
      "[24]\ttrain-merror:0.227615\teval-merror:0.293180\n",
      "[25]\ttrain-merror:0.224409\teval-merror:0.292344\n",
      "[26]\ttrain-merror:0.221605\teval-merror:0.291325\n",
      "[27]\ttrain-merror:0.220124\teval-merror:0.291142\n",
      "[28]\ttrain-merror:0.217302\teval-merror:0.289522\n",
      "[29]\ttrain-merror:0.215211\teval-merror:0.289025\n",
      "[30]\ttrain-merror:0.213330\teval-merror:0.288921\n",
      "[31]\ttrain-merror:0.210978\teval-merror:0.288738\n",
      "[32]\ttrain-merror:0.208661\teval-merror:0.287980\n",
      "[33]\ttrain-merror:0.206850\teval-merror:0.287353\n",
      "[34]\ttrain-merror:0.204742\teval-merror:0.286909\n",
      "[35]\ttrain-merror:0.203104\teval-merror:0.287092\n",
      "[36]\ttrain-merror:0.201171\teval-merror:0.286830\n",
      "[37]\ttrain-merror:0.199690\teval-merror:0.286229\n",
      "[38]\ttrain-merror:0.197843\teval-merror:0.285837\n",
      "[39]\ttrain-merror:0.196519\teval-merror:0.285393\n",
      "[40]\ttrain-merror:0.194690\teval-merror:0.284897\n",
      "[41]\ttrain-merror:0.193227\teval-merror:0.284818\n",
      "[42]\ttrain-merror:0.191677\teval-merror:0.284348\n",
      "[43]\ttrain-merror:0.190109\teval-merror:0.284557\n",
      "[44]\ttrain-merror:0.188541\teval-merror:0.284217\n",
      "[45]\ttrain-merror:0.186921\teval-merror:0.284061\n",
      "[46]\ttrain-merror:0.185667\teval-merror:0.283695\n",
      "[47]\ttrain-merror:0.184464\teval-merror:0.283956\n",
      "[48]\ttrain-merror:0.182966\teval-merror:0.284217\n",
      "[49]\ttrain-merror:0.181921\teval-merror:0.284191\n",
      "[50]\ttrain-merror:0.180806\teval-merror:0.283669\n",
      "[51]\ttrain-merror:0.179639\teval-merror:0.283616\n",
      "[52]\ttrain-merror:0.178664\teval-merror:0.283904\n",
      "[53]\ttrain-merror:0.177618\teval-merror:0.283460\n",
      "[54]\ttrain-merror:0.176312\teval-merror:0.283486\n",
      "[55]\ttrain-merror:0.174779\teval-merror:0.283564\n",
      "[56]\ttrain-merror:0.173472\teval-merror:0.283616\n",
      "[57]\ttrain-merror:0.172322\teval-merror:0.282676\n",
      "[58]\ttrain-merror:0.171382\teval-merror:0.282362\n",
      "[59]\ttrain-merror:0.170232\teval-merror:0.282284\n",
      "[60]\ttrain-merror:0.169152\teval-merror:0.282414\n",
      "[61]\ttrain-merror:0.168385\teval-merror:0.282310\n",
      "[62]\ttrain-merror:0.167514\teval-merror:0.282597\n",
      "[63]\ttrain-merror:0.166452\teval-merror:0.282310\n",
      "[64]\ttrain-merror:0.165581\teval-merror:0.281996\n",
      "[65]\ttrain-merror:0.164919\teval-merror:0.282388\n",
      "[66]\ttrain-merror:0.163874\teval-merror:0.282571\n",
      "[67]\ttrain-merror:0.163229\teval-merror:0.282754\n",
      "[68]\ttrain-merror:0.161226\teval-merror:0.281813\n",
      "[69]\ttrain-merror:0.160320\teval-merror:0.281631\n",
      "[70]\ttrain-merror:0.159362\teval-merror:0.281526\n",
      "[71]\ttrain-merror:0.158926\teval-merror:0.281474\n",
      "[72]\ttrain-merror:0.158177\teval-merror:0.281239\n",
      "[73]\ttrain-merror:0.157289\teval-merror:0.281343\n",
      "[74]\ttrain-merror:0.156418\teval-merror:0.280951\n",
      "[75]\ttrain-merror:0.155669\teval-merror:0.281317\n",
      "[76]\ttrain-merror:0.154885\teval-merror:0.280742\n",
      "[77]\ttrain-merror:0.153892\teval-merror:0.280925\n",
      "[78]\ttrain-merror:0.152742\teval-merror:0.280768\n",
      "[79]\ttrain-merror:0.152028\teval-merror:0.280533\n",
      "[80]\ttrain-merror:0.151418\teval-merror:0.280246\n",
      "[81]\ttrain-merror:0.150791\teval-merror:0.279828\n",
      "[82]\ttrain-merror:0.150216\teval-merror:0.280481\n",
      "[83]\ttrain-merror:0.149328\teval-merror:0.280768\n",
      "[84]\ttrain-merror:0.148457\teval-merror:0.280611\n",
      "[85]\ttrain-merror:0.147777\teval-merror:0.280638\n",
      "[86]\ttrain-merror:0.147498\teval-merror:0.281030\n",
      "Stopping. Best iteration:\n",
      "[81]\ttrain-merror:0.150791\teval-merror:0.279828\n",
      "\n"
     ]
    }
   ],
   "source": [
    "##predicting percentage accuracy and individual predictions\n",
    "\n",
    "num_round = 200\n",
    "param1 = {'objective': 'multi:softmax', 'num_class':38, \"max_delta_step\": 1}\n",
    "watchlist1 = [(dtrain,'train'), (dtest, 'eval')]\n",
    "\n",
    "bst1 = xgb.train(param1, dtrain, num_round, watchlist1, early_stopping_rounds=5)"
   ]
  },
  {
   "cell_type": "markdown",
   "metadata": {},
   "source": [
    "XGBoost had 72% accuracy"
   ]
  },
  {
   "cell_type": "markdown",
   "metadata": {},
   "source": [
    "test data "
   ]
  },
  {
   "cell_type": "code",
   "execution_count": 459,
   "metadata": {
    "collapsed": false
   },
   "outputs": [],
   "source": [
    "w_test_data = pd.read_csv(\"test 2 (1).csv\")\n",
    "test = transform_w_data(w_test_data)"
   ]
  },
  {
   "cell_type": "code",
   "execution_count": 212,
   "metadata": {
    "collapsed": true
   },
   "outputs": [],
   "source": [
    "test = add_category_counts_test(test)"
   ]
  },
  {
   "cell_type": "code",
   "execution_count": 214,
   "metadata": {
    "collapsed": true
   },
   "outputs": [],
   "source": [
    "test = fineline_dummies_test(test)"
   ]
  },
  {
   "cell_type": "code",
   "execution_count": 215,
   "metadata": {
    "collapsed": false
   },
   "outputs": [],
   "source": [
    "walmart_test = xgb.DMatrix(np.asarray(test))\n",
    "predictions = bst.predict(walmart_test)"
   ]
  },
  {
   "cell_type": "code",
   "execution_count": 216,
   "metadata": {
    "collapsed": false
   },
   "outputs": [],
   "source": [
    "# remember to change .csv file before entering\n",
    "predictions_to_csv(predictions)"
   ]
  },
  {
   "cell_type": "markdown",
   "metadata": {
    "collapsed": true
   },
   "source": [
    "### Using Most Frequent Fineline Numbers"
   ]
  },
  {
   "cell_type": "code",
   "execution_count": 113,
   "metadata": {
    "collapsed": false
   },
   "outputs": [],
   "source": [
    "def fineline_dummies(original_data):\n",
    "    fineline_ranks = original_data.FinelineNumber.value_counts()\n",
    "    fineline_ranks = fineline_ranks[fineline_ranks > 500]\n",
    "    columns1 = list(fineline_ranks.index)\n",
    "    dummies = pd.get_dummies(original_data.FinelineNumber)\n",
    "    dummies = dummies[columns1]\n",
    "    data_visit = original_data[[\"VisitNumber\"]]\n",
    "    dummy_data = pd.concat([dummies, data_visit], axis=1)\n",
    "    dummy_data = dummy_data.groupby(\"VisitNumber\")\n",
    "    dummy_data = dummy_data.aggregate(np.sum)\n",
    "    return dummy_data\n",
    "\n",
    "def fineline_dummies_test(test):\n",
    "    data1 = pd.read_csv(\"train.csv\")\n",
    "    fineline_ranks = data1.FinelineNumber.value_counts()\n",
    "    fineline_ranks = fineline_ranks[fineline_ranks > 500]\n",
    "    columns1 = list(fineline_ranks.index)\n",
    "    data1 = pd.read_csv(\"test 2 (1).csv\")\n",
    "    dummies = pd.get_dummies(data1.FinelineNumber)\n",
    "    dummies = dummies[columns1]\n",
    "    data_visit = data1[[\"VisitNumber\"]]\n",
    "    dummy_data = pd.concat([dummies, data_visit], axis=1)\n",
    "    dummy_data = dummy_data.groupby(\"VisitNumber\")\n",
    "    dummy_data = dummy_data.aggregate(np.sum)\n",
    "    test = test.join(dummy_data)\n",
    "    return test"
   ]
  },
  {
   "cell_type": "markdown",
   "metadata": {},
   "source": [
    "## Modeling the Test Data and Exporting to CSV"
   ]
  },
  {
   "cell_type": "markdown",
   "metadata": {},
   "source": [
    "logistic regression"
   ]
  },
  {
   "cell_type": "code",
   "execution_count": 65,
   "metadata": {
    "collapsed": false
   },
   "outputs": [],
   "source": [
    "test_predictions = lr.predict_proba(np.asarray(test[test_features]))"
   ]
  },
  {
   "cell_type": "code",
   "execution_count": 33,
   "metadata": {
    "collapsed": false
   },
   "outputs": [],
   "source": [
    "def predictions_to_csv(test_predictions):\n",
    "    test_predictions = pd.DataFrame(test_predictions)\n",
    "    test_indexes = test.index\n",
    "    test_predictions = test_predictions.rename(columns = {0:\"TripType_3\", 1: \"TripType_4\", 2: \"TripType_5\", 3: \"TripType_6\", \n",
    "                4: \"TripType_7\", 5: \"TripType_8\", 6: \"TripType_9\", 7: \"TripType_12\", 8: \"TripType_14\", \n",
    "                9: \"TripType_15\", 10: \"TripType_18\", 11: \"TripType_19\", 12: \"TripType_20\", 13: \"TripType_21\",\n",
    "                14: \"TripType_22\", 15: \"TripType_23\", 16: \"TripType_24\", 17: \"TripType_25\", 18: \"TripType_26\", \n",
    "                19: \"TripType_27\", 20: \"TripType_28\", 21: \"TripType_29\", 22: \"TripType_30\", 23: \"TripType_31\", \n",
    "                24: \"TripType_32\", 25: \"TripType_33\", 26: \"TripType_34\", 27: \"TripType_35\", 28: \"TripType_36\", \n",
    "                29: \"TripType_37\", 30: \"TripType_38\", 31: \"TripType_39\", 32: \"TripType_40\", 33: \"TripType_41\", \n",
    "                34: \"TripType_42\", 35: \"TripType_43\", 36: \"TripType_44\", 37: \"TripType_999\"})\n",
    "    test_predictions.insert(0, 'VisitNumber', test_indexes)\n",
    "    return test_predictions.to_csv(\"submissions/fifth_fineline_xgb.csv\", index=False)"
   ]
  },
  {
   "cell_type": "code",
   "execution_count": 120,
   "metadata": {
    "collapsed": false
   },
   "outputs": [],
   "source": [
    "predictions.to_csv(\"submissions/fourth_fineline_xgb.csv\", index=False)"
   ]
  },
  {
   "cell_type": "markdown",
   "metadata": {},
   "source": [
    "random forest, 300 classifiers"
   ]
  },
  {
   "cell_type": "code",
   "execution_count": 146,
   "metadata": {
    "collapsed": false
   },
   "outputs": [],
   "source": [
    "test_predictions = forest.predict_proba(np.asarray(test[test_features]))"
   ]
  },
  {
   "cell_type": "code",
   "execution_count": 147,
   "metadata": {
    "collapsed": false
   },
   "outputs": [],
   "source": [
    "# remember to change .csv file before entering\n",
    "predictions_to_csv(test_predictions)"
   ]
  },
  {
   "cell_type": "markdown",
   "metadata": {},
   "source": [
    "## Analyzing Results"
   ]
  },
  {
   "cell_type": "code",
   "execution_count": 1315,
   "metadata": {
    "collapsed": false
   },
   "outputs": [
    {
     "data": {
      "text/plain": [
       "<matplotlib.text.Text at 0x1ec4a8240>"
      ]
     },
     "execution_count": 1315,
     "metadata": {},
     "output_type": "execute_result"
    },
    {
     "data": {
      "image/png": "[encoded data removed]",
      "text/plain": [
       "<matplotlib.figure.Figure at 0x1ec4f3cf8>"
      ]
     },
     "metadata": {},
     "output_type": "display_data"
    }
   ],
   "source": [
    "x = forest.feature_importances_\n",
    "graphing_results = pd.DataFrame(forest.feature_importances_).sort_index()\n",
    "graphing_results[\"Features\"] = features\n",
    "graphing_results = graphing_results.set_index(\"Features\").sort_values(by=0, ascending=True)\n",
    "y = graphing_results.plot(kind=\"barh\", figsize=(10,20), rot=0)\n",
    "plt.rc('xtick', labelsize=10)\n",
    "plt.rc('ytick', labelsize=10)\n",
    "plt.title(\"Feature Importance in Random Forest\", size=20)"
   ]
  },
  {
   "cell_type": "code",
   "execution_count": 1316,
   "metadata": {
    "collapsed": false
   },
   "outputs": [],
   "source": [
    "non_departments = x[0:3]\n",
    "departments = x[4:]"
   ]
  },
  {
   "cell_type": "code",
   "execution_count": 1317,
   "metadata": {
    "collapsed": false
   },
   "outputs": [
    {
     "data": {
      "text/plain": [
       "<matplotlib.text.Text at 0x1edfece48>"
      ]
     },
     "execution_count": 1317,
     "metadata": {},
     "output_type": "execute_result"
    },
    {
     "data": {
      "image/png": "[encoded data removed]",
      "text/plain": [
       "<matplotlib.figure.Figure at 0x1edf4c0f0>"
      ]
     },
     "metadata": {},
     "output_type": "display_data"
    }
   ],
   "source": [
    "departments = np.sum(departments)\n",
    "department_data = np.append(non_departments, departments)\n",
    "\n",
    "graphing_department = pd.DataFrame(department_data).sort_index()\n",
    "graphing_department[\"Features\"] = [\"DayofWeek\", \"NumItems\", \"Return\", \"DepartmentofPurchase\"]\n",
    "graphing_department = graphing_department.set_index(\"Features\").sort_values(by=0, ascending=False)\n",
    "\n",
    "x = graphing_department.plot(kind=\"bar\", figsize=(10,5), rot=0, color=\"darkred\", legend=False)\n",
    "plt.rc('xtick', labelsize=13)\n",
    "plt.rc('ytick', labelsize=10)\n",
    "plt.title(\"Feature Importance in Random Forest\", size=20)"
   ]
  },
  {
   "cell_type": "code",
   "execution_count": 73,
   "metadata": {
    "collapsed": false
   },
   "outputs": [],
   "source": [
    "test_predictions = pd.DataFrame(test_predictions)\n",
    "mytest_answers = mytest[[\"TripType\"]]\n",
    "mytest_answers = mytest_answers.rename(columns={\"TripType\": \"WalmartClass\"})\n",
    "test_predictions = test_predictions.set_index(mytest_answers.index)\n",
    "test_predictions = test_predictions.rename(columns={0: \"Prediction\"})\n",
    "test_predictions = test_predictions.join(mytest_answers)\n",
    "test_predictions[\"Prediction\"] = test_predictions[\"Prediction\"].map({0:3, 1:4, 2:5, 3:6, 4:7, 5:8, 6:9, 7:12, 8:14, 9:15,  \n",
    "                                         10:18, 11:19, 12:20, 13:21, 14:22, 15:23, 16:24, 17:25, 18:26,  \n",
    "                                         19:27, 20:28, 21:29, 22:30, 23:31, 24:32, 25:33, 26:34, 27:35, \n",
    "                                         28:36, 29:37, 30:38, 31:39, 32:40, 33:41, 34:42, 35:43, 36:44, 37:999})\n",
    "test_predictions[\"WalmartClass\"] = test_predictions[\"WalmartClass\"].map({0:3, 1:4, 2:5, 3:6, 4:7, 5:8, 6:9, 7:12, 8:14, 9:15,  \n",
    "                                         10:18, 11:19, 12:20, 13:21, 14:22, 15:23, 16:24, 17:25, 18:26,  \n",
    "                                         19:27, 20:28, 21:29, 22:30, 23:31, 24:32, 25:33, 26:34, 27:35, \n",
    "                                         28:36, 29:37, 30:38, 31:39, 32:40, 33:41, 34:42, 35:43, 36:44, 37:999})\n",
    "test_predictions = test_predictions[[\"WalmartClass\", \"Prediction\"]]"
   ]
  },
  {
   "cell_type": "markdown",
   "metadata": {},
   "source": [
    "#### Without max_delta_step"
   ]
  },
  {
   "cell_type": "code",
   "execution_count": 184,
   "metadata": {
    "collapsed": false
   },
   "outputs": [
    {
     "data": {
      "text/plain": [
       "<matplotlib.text.Text at 0x107da59b0>"
      ]
     },
     "execution_count": 184,
     "metadata": {},
     "output_type": "execute_result"
    },
    {
     "data": {
      "image/png": "[encoded data removed]",
      "text/plain": [
       "<matplotlib.figure.Figure at 0x112026940>"
      ]
     },
     "metadata": {},
     "output_type": "display_data"
    }
   ],
   "source": [
    "alist = []\n",
    "for x, y in np.asarray(test_predictions):\n",
    "    count = 0\n",
    "    if x == y:\n",
    "        count = 1\n",
    "    alist.append(count)\n",
    "\n",
    "correct = pd.DataFrame(alist)\n",
    "correct = correct.set_index(mytest_answers.index)\n",
    "correct = correct.rename(columns={0: \"Result\"})\n",
    "test_predictions = test_predictions.join(correct)\n",
    "prediction_accuracy = test_predictions.set_index(test_predictions[\"WalmartClass\"])\n",
    "prediction_accuracy = prediction_accuracy[[\"Result\"]]\n",
    "\n",
    "value_counts = pd.DataFrame(prediction_accuracy.index.value_counts())\n",
    "\n",
    "diction_accuracy_groupby = test_predictions.groupby(\"WalmartClass\")\n",
    "prediction_accuracy_precentage = prediction_accuracy_groupby.agg({'WalmartClass': np.max,\n",
    "                                                                  \"Prediction\": np.max,\n",
    "                                                                  \"Result\": np.sum})\n",
    "\n",
    "prediction_accuracy_precentage = prediction_accuracy_precentage[[\"Result\"]]\n",
    "\n",
    "value_counts = value_counts.sort_index()\n",
    "\n",
    "prediction_accuracy_precentage = prediction_accuracy_precentage.join(value_counts)\n",
    "\n",
    "prediction_accuracy_precentage[\"Accuracy\"] = prediction_accuracy_precentage.Result / prediction_accuracy_precentage.WalmartClass\n",
    "\n",
    "prediction_accuracy_precentage = prediction_accuracy_precentage.sort_values(by=\"Accuracy\", ascending=True)\n",
    "\n",
    "ax = prediction_accuracy_precentage[[\"Accuracy\"]].plot(kind=\"barh\", figsize=(10,10))\n",
    "plt.title(\"Predictions Correct by Class\", size=15)"
   ]
  },
  {
   "cell_type": "code",
   "execution_count": 220,
   "metadata": {
    "collapsed": false
   },
   "outputs": [
    {
     "data": {
      "text/plain": [
       "<matplotlib.text.Text at 0x15800fa20>"
      ]
     },
     "execution_count": 220,
     "metadata": {},
     "output_type": "execute_result"
    },
    {
     "data": {
      "image/png": "[encoded data removed]",
      "text/plain": [
       "<matplotlib.figure.Figure at 0x157ff6c88>"
      ]
     },
     "metadata": {},
     "output_type": "display_data"
    }
   ],
   "source": [
    "ax = prediction_accuracy_precentage_occurences[[\"WalmartClass\"]].plot(kind=\"barh\", figsize=(10,10))\n",
    "plt.title(\"Frequency of Trip Classifications\", size=15)"
   ]
  },
  {
   "cell_type": "markdown",
   "metadata": {},
   "source": [
    "#### With max_delta_step"
   ]
  },
  {
   "cell_type": "code",
   "execution_count": 1300,
   "metadata": {
    "collapsed": false
   },
   "outputs": [
    {
     "data": {
      "text/plain": [
       "<matplotlib.text.Text at 0x1cf4e61d0>"
      ]
     },
     "execution_count": 1300,
     "metadata": {},
     "output_type": "execute_result"
    },
    {
     "data": {
      "image/png": "[encoded data removed]",
      "text/plain": [
       "<matplotlib.figure.Figure at 0x1cf457d30>"
      ]
     },
     "metadata": {},
     "output_type": "display_data"
    }
   ],
   "source": [
    "prediction_accuracy_precentage_occurences = prediction_accuracy_precentage.sort_values(\"WalmartClass\")\n",
    "ax = prediction_accuracy_precentage_occurences[[\"Accuracy\"]].plot(kind=\"barh\", figsize=(10,10))\n",
    "average_correct = prediction_accuracy_precentage[\"Result\"].sum() / prediction_accuracy_precentage[\"WalmartClass\"].sum()\n",
    "plt.title(\"Prediction Accuracy ordered by Occurences\", size=15)\n",
    "plt.vlines(average_correct, -1, 40, color=\"red\", linestyle=\"dotted\")\n",
    "ax.legend([\"Average\", \"Accuracy\"], loc=4)\n",
    "ax.set_ylabel(\"Walmart Trip Type\")"
   ]
  },
  {
   "cell_type": "markdown",
   "metadata": {},
   "source": [
    "Accuracy goes down greatly depending on how many instances the model can learn from. <br>\n",
    "This is a class imbalance problem! <br>\n",
    "http://www.win-vector.com/blog/2015/02/does-balancing-classes-improve-classifier-performance/"
   ]
  },
  {
   "cell_type": "code",
   "execution_count": 1887,
   "metadata": {
    "collapsed": false
   },
   "outputs": [],
   "source": [
    "#my_test_wk_dummies = pd.get_dummies(mytest.Weekday)\n",
    "#mytest[my_test_wk_dummies.columns] = my_test_wk_dummies \n",
    "#mytest = mytest.rename(columns={1:\"Monday\", 2:\"Tuesday\", \n",
    "                                #3:\"Wednesday\", 4:\"Thursday\",\n",
    "                                #5: \"Friday\", 6:\"Saturday\", 7:\"Sunday\"})\n",
    "mytestgrouped = mytest.groupby(\"TripType\")\n",
    "mytestgrouped = mytestgrouped.aggregate(np.mean)"
   ]
  },
  {
   "cell_type": "code",
   "execution_count": 1872,
   "metadata": {
    "collapsed": false
   },
   "outputs": [],
   "source": [
    "#data1grouped = data1.groupby(\"TripType\")\n",
    "#data1grouped = data1grouped.aggregate(np.mean)\n",
    "#data1grouped = data1grouped.reset_index(\"TripType\", [x for x in range(38)]) \n",
    "#data1grouped = data1grouped.join(days_of_week)\n",
    "#data1grouped = data1grouped.dropna()\n",
    "#del data1grouped['Weekday']"
   ]
  },
  {
   "cell_type": "code",
   "execution_count": 1891,
   "metadata": {
    "collapsed": false
   },
   "outputs": [],
   "source": [
    "mytestgrouped_categories = mytestgrouped.ix[:,4:72]"
   ]
  },
  {
   "cell_type": "code",
   "execution_count": 1893,
   "metadata": {
    "collapsed": false
   },
   "outputs": [
    {
     "name": "stderr",
     "output_type": "stream",
     "text": [
      "/Users/MattKasle/Matt/.direnv/python-3.5.0/lib/python3.5/site-packages/ipykernel/__main__.py:1: SettingWithCopyWarning: \n",
      "A value is trying to be set on a copy of a slice from a DataFrame.\n",
      "Try using .loc[row_indexer,col_indexer] = value instead\n",
      "\n",
      "See the caveats in the documentation: http://pandas.pydata.org/pandas-docs/stable/indexing.html#indexing-view-versus-copy\n",
      "  if __name__ == '__main__':\n",
      "/Users/MattKasle/Matt/.direnv/python-3.5.0/lib/python3.5/site-packages/ipykernel/__main__.py:7: SettingWithCopyWarning: \n",
      "A value is trying to be set on a copy of a slice from a DataFrame.\n",
      "Try using .loc[row_indexer,col_indexer] = value instead\n",
      "\n",
      "See the caveats in the documentation: http://pandas.pydata.org/pandas-docs/stable/indexing.html#indexing-view-versus-copy\n",
      "/Users/MattKasle/Matt/.direnv/python-3.5.0/lib/python3.5/site-packages/ipykernel/__main__.py:10: SettingWithCopyWarning: \n",
      "A value is trying to be set on a copy of a slice from a DataFrame.\n",
      "Try using .loc[row_indexer,col_indexer] = value instead\n",
      "\n",
      "See the caveats in the documentation: http://pandas.pydata.org/pandas-docs/stable/indexing.html#indexing-view-versus-copy\n",
      "/Users/MattKasle/Matt/.direnv/python-3.5.0/lib/python3.5/site-packages/ipykernel/__main__.py:14: SettingWithCopyWarning: \n",
      "A value is trying to be set on a copy of a slice from a DataFrame.\n",
      "Try using .loc[row_indexer,col_indexer] = value instead\n",
      "\n",
      "See the caveats in the documentation: http://pandas.pydata.org/pandas-docs/stable/indexing.html#indexing-view-versus-copy\n",
      "/Users/MattKasle/Matt/.direnv/python-3.5.0/lib/python3.5/site-packages/ipykernel/__main__.py:16: SettingWithCopyWarning: \n",
      "A value is trying to be set on a copy of a slice from a DataFrame.\n",
      "Try using .loc[row_indexer,col_indexer] = value instead\n",
      "\n",
      "See the caveats in the documentation: http://pandas.pydata.org/pandas-docs/stable/indexing.html#indexing-view-versus-copy\n",
      "/Users/MattKasle/Matt/.direnv/python-3.5.0/lib/python3.5/site-packages/ipykernel/__main__.py:18: SettingWithCopyWarning: \n",
      "A value is trying to be set on a copy of a slice from a DataFrame.\n",
      "Try using .loc[row_indexer,col_indexer] = value instead\n",
      "\n",
      "See the caveats in the documentation: http://pandas.pydata.org/pandas-docs/stable/indexing.html#indexing-view-versus-copy\n",
      "/Users/MattKasle/Matt/.direnv/python-3.5.0/lib/python3.5/site-packages/ipykernel/__main__.py:21: SettingWithCopyWarning: \n",
      "A value is trying to be set on a copy of a slice from a DataFrame.\n",
      "Try using .loc[row_indexer,col_indexer] = value instead\n",
      "\n",
      "See the caveats in the documentation: http://pandas.pydata.org/pandas-docs/stable/indexing.html#indexing-view-versus-copy\n",
      "/Users/MattKasle/Matt/.direnv/python-3.5.0/lib/python3.5/site-packages/ipykernel/__main__.py:23: SettingWithCopyWarning: \n",
      "A value is trying to be set on a copy of a slice from a DataFrame.\n",
      "Try using .loc[row_indexer,col_indexer] = value instead\n",
      "\n",
      "See the caveats in the documentation: http://pandas.pydata.org/pandas-docs/stable/indexing.html#indexing-view-versus-copy\n",
      "/Users/MattKasle/Matt/.direnv/python-3.5.0/lib/python3.5/site-packages/ipykernel/__main__.py:25: SettingWithCopyWarning: \n",
      "A value is trying to be set on a copy of a slice from a DataFrame.\n",
      "Try using .loc[row_indexer,col_indexer] = value instead\n",
      "\n",
      "See the caveats in the documentation: http://pandas.pydata.org/pandas-docs/stable/indexing.html#indexing-view-versus-copy\n",
      "/Users/MattKasle/Matt/.direnv/python-3.5.0/lib/python3.5/site-packages/ipykernel/__main__.py:34: SettingWithCopyWarning: \n",
      "A value is trying to be set on a copy of a slice from a DataFrame.\n",
      "Try using .loc[row_indexer,col_indexer] = value instead\n",
      "\n",
      "See the caveats in the documentation: http://pandas.pydata.org/pandas-docs/stable/indexing.html#indexing-view-versus-copy\n",
      "/Users/MattKasle/Matt/.direnv/python-3.5.0/lib/python3.5/site-packages/ipykernel/__main__.py:45: SettingWithCopyWarning: \n",
      "A value is trying to be set on a copy of a slice from a DataFrame.\n",
      "Try using .loc[row_indexer,col_indexer] = value instead\n",
      "\n",
      "See the caveats in the documentation: http://pandas.pydata.org/pandas-docs/stable/indexing.html#indexing-view-versus-copy\n",
      "/Users/MattKasle/Matt/.direnv/python-3.5.0/lib/python3.5/site-packages/ipykernel/__main__.py:47: SettingWithCopyWarning: \n",
      "A value is trying to be set on a copy of a slice from a DataFrame.\n",
      "Try using .loc[row_indexer,col_indexer] = value instead\n",
      "\n",
      "See the caveats in the documentation: http://pandas.pydata.org/pandas-docs/stable/indexing.html#indexing-view-versus-copy\n",
      "/Users/MattKasle/Matt/.direnv/python-3.5.0/lib/python3.5/site-packages/ipykernel/__main__.py:56: SettingWithCopyWarning: \n",
      "A value is trying to be set on a copy of a slice from a DataFrame.\n",
      "Try using .loc[row_indexer,col_indexer] = value instead\n",
      "\n",
      "See the caveats in the documentation: http://pandas.pydata.org/pandas-docs/stable/indexing.html#indexing-view-versus-copy\n",
      "/Users/MattKasle/Matt/.direnv/python-3.5.0/lib/python3.5/site-packages/ipykernel/__main__.py:59: SettingWithCopyWarning: \n",
      "A value is trying to be set on a copy of a slice from a DataFrame.\n",
      "Try using .loc[row_indexer,col_indexer] = value instead\n",
      "\n",
      "See the caveats in the documentation: http://pandas.pydata.org/pandas-docs/stable/indexing.html#indexing-view-versus-copy\n",
      "/Users/MattKasle/Matt/.direnv/python-3.5.0/lib/python3.5/site-packages/ipykernel/__main__.py:61: SettingWithCopyWarning: \n",
      "A value is trying to be set on a copy of a slice from a DataFrame.\n",
      "Try using .loc[row_indexer,col_indexer] = value instead\n",
      "\n",
      "See the caveats in the documentation: http://pandas.pydata.org/pandas-docs/stable/indexing.html#indexing-view-versus-copy\n",
      "/Users/MattKasle/Matt/.direnv/python-3.5.0/lib/python3.5/site-packages/ipykernel/__main__.py:64: SettingWithCopyWarning: \n",
      "A value is trying to be set on a copy of a slice from a DataFrame.\n",
      "Try using .loc[row_indexer,col_indexer] = value instead\n",
      "\n",
      "See the caveats in the documentation: http://pandas.pydata.org/pandas-docs/stable/indexing.html#indexing-view-versus-copy\n",
      "/Users/MattKasle/Matt/.direnv/python-3.5.0/lib/python3.5/site-packages/ipykernel/__main__.py:66: SettingWithCopyWarning: \n",
      "A value is trying to be set on a copy of a slice from a DataFrame.\n",
      "Try using .loc[row_indexer,col_indexer] = value instead\n",
      "\n",
      "See the caveats in the documentation: http://pandas.pydata.org/pandas-docs/stable/indexing.html#indexing-view-versus-copy\n"
     ]
    }
   ],
   "source": [
    "mytestgrouped_categories[\"OPTICAL\"] = mytestgrouped_categories[\"OPTICAL - LENSES\"] + mytestgrouped_categories[\"OPTICAL - FRAMES\"]\n",
    "del mytestgrouped_categories[\"OPTICAL - FRAMES\"]\n",
    "del mytestgrouped_categories[\"OPTICAL - LENSES\"]\n",
    "del mytestgrouped_categories[\"CONCEPT STORES\"]\n",
    "del mytestgrouped_categories[\"HEALTH AND BEAUTY AIDS\"]\n",
    "del mytestgrouped_categories[\"OTHER DEPARTMENTS\"]\n",
    "mytestgrouped_categories[\"DELI\"] = mytestgrouped_categories[\"SERVICE DELI\"] + mytestgrouped_categories[\"PRE PACKED DELI\"]\n",
    "del mytestgrouped_categories[\"PRE PACKED DELI\"]\n",
    "del mytestgrouped_categories[\"SERVICE DELI\"]\n",
    "mytestgrouped_categories[\"WOMENS CLOTHES\"] = mytestgrouped_categories[\"PLUS AND MATERNITY\"] + mytestgrouped_categories[\"LADIES SOCKS\"] + mytestgrouped_categories[\"LADIES SOCKS\"] + mytestgrouped_categories[\"BRAS & SHAPEWEAR\"]\n",
    "del mytestgrouped_categories[\"PLUS AND MATERNITY\"]\n",
    "del mytestgrouped_categories[\"LADIES SOCKS\"]\n",
    "del mytestgrouped_categories[\"BRAS & SHAPEWEAR\"]\n",
    "mytestgrouped_categories[\"ELECTRONICS\"] = mytestgrouped_categories[\"ELECTRONICS\"] + mytestgrouped_categories[\"PLAYERS AND ELECTRONICS\"]\n",
    "del mytestgrouped_categories[\"PLAYERS AND ELECTRONICS\"]\n",
    "mytestgrouped_categories[\"LADIESWEAR\"] = mytestgrouped_categories[\"LADIESWEAR\"] + mytestgrouped_categories[\"WOMENS CLOTHES\"]\n",
    "del mytestgrouped_categories[\"WOMENS CLOTHES\"]\n",
    "mytestgrouped_categories[\"PHARMACY\"] = mytestgrouped_categories[\"PHARMACY RX\"] + mytestgrouped_categories[\"PHARMACY OTC\"]\n",
    "del mytestgrouped_categories[\"PHARMACY RX\"] \n",
    "del mytestgrouped_categories[\"PHARMACY OTC\"]\n",
    "mytestgrouped_categories[\"LAWN AND GARDEN\"] = mytestgrouped_categories[\"LAWN AND GARDEN\"] + mytestgrouped_categories[\"HORTICULTURE AND ACCESS\"]\n",
    "del mytestgrouped_categories[\"HORTICULTURE AND ACCESS\"]\n",
    "mytestgrouped_categories[\"LADIESWEAR\"] = mytestgrouped_categories[\"SHEER HOSIERY\"] + mytestgrouped_categories[\"LADIESWEAR\"]\n",
    "del mytestgrouped_categories[\"SHEER HOSIERY\"] \n",
    "mytestgrouped_categories[\"CLOTHES\"] = mytestgrouped_categories[\"BOYS WEAR\"] + mytestgrouped_categories[\"MENSWEAR\"] + mytestgrouped_categories[\"SWIMWEAR/OUTERWEAR\"] + mytestgrouped_categories['GIRLS WEAR, 4-6X  AND 7-14'] + mytestgrouped_categories[\"INFANT APPAREL\"] + mytestgrouped_categories[\"LADIESWEAR\"] + mytestgrouped_categories[\"MENS WEAR\"] + mytestgrouped_categories[\"SLEEPWEAR/FOUNDATIONS\"]    \n",
    "del mytestgrouped_categories[\"BOYS WEAR\"] \n",
    "del mytestgrouped_categories[\"MENSWEAR\"] \n",
    "del mytestgrouped_categories[\"SWIMWEAR/OUTERWEAR\"] \n",
    "del mytestgrouped_categories['GIRLS WEAR, 4-6X  AND 7-14'] \n",
    "del mytestgrouped_categories[\"INFANT APPAREL\"] \n",
    "del mytestgrouped_categories[\"LADIESWEAR\"] \n",
    "del mytestgrouped_categories[\"MENS WEAR\"] \n",
    "del mytestgrouped_categories[\"SLEEPWEAR/FOUNDATIONS\"]\n",
    "mytestgrouped_categories[\"GROCERIES\"] = mytestgrouped_categories[\"BAKERY\"] + mytestgrouped_categories[\"COMM BREAD\"] + mytestgrouped_categories[\"DAIRY\"] + mytestgrouped_categories[\"DSD GROCERY\"] + mytestgrouped_categories[\"FROZEN FOODS\"] + mytestgrouped_categories[\"GROCERY DRY GOODS\"] + mytestgrouped_categories[\"MEAT - FRESH & FROZEN\"] + mytestgrouped_categories[\"PRODUCE\"] + mytestgrouped_categories[\"SEAFOOD\"] + mytestgrouped_categories[\"DELI\"]\n",
    "del mytestgrouped_categories[\"BAKERY\"]\n",
    "del mytestgrouped_categories[\"COMM BREAD\"]\n",
    "del mytestgrouped_categories[\"DAIRY\"]\n",
    "del mytestgrouped_categories[\"DSD GROCERY\"]\n",
    "del mytestgrouped_categories[\"FROZEN FOODS\"]\n",
    "del mytestgrouped_categories[\"GROCERY DRY GOODS\"]\n",
    "del mytestgrouped_categories[\"MEAT - FRESH & FROZEN\"]\n",
    "del mytestgrouped_categories[\"PRODUCE\"]\n",
    "del mytestgrouped_categories[\"SEAFOOD\"]\n",
    "del mytestgrouped_categories[\"DELI\"]\n",
    "mytestgrouped_categories[\"CLOTHES\"] = mytestgrouped_categories[\"CLOTHES\"] + mytestgrouped_categories[\"SHOES\"]\n",
    "del mytestgrouped_categories[\"SHOES\"]\n",
    "mytestgrouped_categories[\"HOME\"] = mytestgrouped_categories[\"BATH AND SHOWER\"] + mytestgrouped_categories[\"HOME DECOR\"] + mytestgrouped_categories[\"HOME MANAGEMENT\"] + mytestgrouped_categories[\"BEDDING\"] + mytestgrouped_categories[\"COOK AND DINE\"] + mytestgrouped_categories[\"FURNITURE\"] + mytestgrouped_categories[\"LARGE HOUSEHOLD GOODS\"] + mytestgrouped_categories[\"SEASONAL\"]      \n",
    "del mytestgrouped_categories[\"HOME DECOR\"]\n",
    "del mytestgrouped_categories[\"BATH AND SHOWER\"]\n",
    "del mytestgrouped_categories[\"HOME MANAGEMENT\"]\n",
    "del mytestgrouped_categories[\"BEDDING\"]\n",
    "del mytestgrouped_categories[\"COOK AND DINE\"]\n",
    "del mytestgrouped_categories[\"FURNITURE\"]\n",
    "del mytestgrouped_categories[\"LARGE HOUSEHOLD GOODS\"]\n",
    "del mytestgrouped_categories[\"SEASONAL\"]\n",
    "mytestgrouped_categories[\"JEWELRY AND ACCESSORIES\"] = mytestgrouped_categories[\"JEWELRY AND SUNGLASSES\"] + mytestgrouped_categories[\"ACCESSORIES\"]    \n",
    "del mytestgrouped_categories[\"JEWELRY AND SUNGLASSES\"] \n",
    "del mytestgrouped_categories[\"ACCESSORIES\"]\n",
    "mytestgrouped_categories[\"ELECTRONICS\"] = mytestgrouped_categories[\"ELECTRONICS\"] + mytestgrouped_categories[\"CAMERAS AND SUPPLIES\"]\n",
    "del mytestgrouped_categories[\"CAMERAS AND SUPPLIES\"]\n",
    "mytestgrouped_categories['HOUSEHOLD GOODS'] = mytestgrouped_categories['HOUSEHOLD PAPER GOODS'] + mytestgrouped_categories['HOUSEHOLD CHEMICALS/SUPP'] \n",
    "del mytestgrouped_categories['HOUSEHOLD CHEMICALS/SUPP'] \n",
    "del mytestgrouped_categories['HOUSEHOLD PAPER GOODS']\n",
    "mytestgrouped_categories[\"ELECTRONICS\"] = mytestgrouped_categories[\"ELECTRONICS\"] + mytestgrouped_categories[\"WIRELESS\"]\n",
    "del mytestgrouped_categories[\"WIRELESS\"]\n",
    "mytestgrouped_categories[\"BEAUTY AND PERSONAL CARE\"] = mytestgrouped_categories[\"BEAUTY\"] + mytestgrouped_categories[\"PERSONAL CARE\"]\n",
    "del mytestgrouped_categories[\"BEAUTY\"]\n",
    "del mytestgrouped_categories[\"PERSONAL CARE\"]\n",
    "# --------------------\n",
    "# Really Good Graph From this \n"
   ]
  },
  {
   "cell_type": "code",
   "execution_count": 1894,
   "metadata": {
    "collapsed": true
   },
   "outputs": [],
   "source": [
    "mytestgrouped_categories_norm = (mytestgrouped_categories - mytestgrouped_categories.mean()) / (mytestgrouped_categories.max() - mytestgrouped_categories.min())"
   ]
  },
  {
   "cell_type": "code",
   "execution_count": 1923,
   "metadata": {
    "collapsed": false
   },
   "outputs": [],
   "source": [
    "days_of_week\n",
    "days_of_week_norm = (days_of_week - days_of_week.mean()) / (days_of_week.max() - days_of_week.min())"
   ]
  },
  {
   "cell_type": "code",
   "execution_count": 1896,
   "metadata": {
    "collapsed": false
   },
   "outputs": [
    {
     "data": {
      "text/html": [
       "<div>\n",
       "<table border=\"1\" class=\"dataframe\">\n",
       "  <thead>\n",
       "    <tr style=\"text-align: right;\">\n",
       "      <th></th>\n",
       "      <th>1-HR PHOTO</th>\n",
       "      <th>AUTOMOTIVE</th>\n",
       "      <th>BOOKS AND MAGAZINES</th>\n",
       "      <th>CANDY, TOBACCO, COOKIES</th>\n",
       "      <th>CELEBRATION</th>\n",
       "      <th>ELECTRONICS</th>\n",
       "      <th>FABRICS AND CRAFTS</th>\n",
       "      <th>FINANCIAL SERVICES</th>\n",
       "      <th>HARDWARE</th>\n",
       "      <th>IMPULSE MERCHANDISE</th>\n",
       "      <th>...</th>\n",
       "      <th>SPORTING GOODS</th>\n",
       "      <th>TOYS</th>\n",
       "      <th>OPTICAL</th>\n",
       "      <th>PHARMACY</th>\n",
       "      <th>CLOTHES</th>\n",
       "      <th>GROCERIES</th>\n",
       "      <th>HOME</th>\n",
       "      <th>JEWELRY AND ACCESSORIES</th>\n",
       "      <th>HOUSEHOLD GOODS</th>\n",
       "      <th>BEAUTY AND PERSONAL CARE</th>\n",
       "    </tr>\n",
       "    <tr>\n",
       "      <th>TripType</th>\n",
       "      <th></th>\n",
       "      <th></th>\n",
       "      <th></th>\n",
       "      <th></th>\n",
       "      <th></th>\n",
       "      <th></th>\n",
       "      <th></th>\n",
       "      <th></th>\n",
       "      <th></th>\n",
       "      <th></th>\n",
       "      <th></th>\n",
       "      <th></th>\n",
       "      <th></th>\n",
       "      <th></th>\n",
       "      <th></th>\n",
       "      <th></th>\n",
       "      <th></th>\n",
       "      <th></th>\n",
       "      <th></th>\n",
       "      <th></th>\n",
       "      <th></th>\n",
       "    </tr>\n",
       "  </thead>\n",
       "  <tbody>\n",
       "    <tr>\n",
       "      <th>0</th>\n",
       "      <td>-0.030157</td>\n",
       "      <td>-0.040633</td>\n",
       "      <td>-0.100610</td>\n",
       "      <td>-0.155534</td>\n",
       "      <td>-0.062773</td>\n",
       "      <td>-0.092838</td>\n",
       "      <td>-0.046585</td>\n",
       "      <td>0.930847</td>\n",
       "      <td>-0.059019</td>\n",
       "      <td>-0.092882</td>\n",
       "      <td>...</td>\n",
       "      <td>-0.048138</td>\n",
       "      <td>-0.068573</td>\n",
       "      <td>-0.033769</td>\n",
       "      <td>-0.136883</td>\n",
       "      <td>-0.120324</td>\n",
       "      <td>-0.117914</td>\n",
       "      <td>-0.082446</td>\n",
       "      <td>-0.070590</td>\n",
       "      <td>-0.095824</td>\n",
       "      <td>-0.119977</td>\n",
       "    </tr>\n",
       "    <tr>\n",
       "      <th>1</th>\n",
       "      <td>-0.033459</td>\n",
       "      <td>-0.040073</td>\n",
       "      <td>-0.106210</td>\n",
       "      <td>-0.116987</td>\n",
       "      <td>-0.058851</td>\n",
       "      <td>-0.095667</td>\n",
       "      <td>-0.046729</td>\n",
       "      <td>-0.064520</td>\n",
       "      <td>-0.061124</td>\n",
       "      <td>-0.130672</td>\n",
       "      <td>...</td>\n",
       "      <td>-0.048824</td>\n",
       "      <td>-0.068573</td>\n",
       "      <td>-0.040682</td>\n",
       "      <td>0.788941</td>\n",
       "      <td>-0.120877</td>\n",
       "      <td>-0.086296</td>\n",
       "      <td>-0.086254</td>\n",
       "      <td>-0.068582</td>\n",
       "      <td>-0.082143</td>\n",
       "      <td>-0.091434</td>\n",
       "    </tr>\n",
       "    <tr>\n",
       "      <th>2</th>\n",
       "      <td>-0.030746</td>\n",
       "      <td>-0.039743</td>\n",
       "      <td>-0.097005</td>\n",
       "      <td>-0.107398</td>\n",
       "      <td>-0.056649</td>\n",
       "      <td>-0.093674</td>\n",
       "      <td>-0.044601</td>\n",
       "      <td>-0.060200</td>\n",
       "      <td>-0.055243</td>\n",
       "      <td>-0.162772</td>\n",
       "      <td>...</td>\n",
       "      <td>-0.049110</td>\n",
       "      <td>-0.068030</td>\n",
       "      <td>0.959318</td>\n",
       "      <td>0.857704</td>\n",
       "      <td>-0.108688</td>\n",
       "      <td>-0.096383</td>\n",
       "      <td>-0.081700</td>\n",
       "      <td>-0.070391</td>\n",
       "      <td>-0.083683</td>\n",
       "      <td>-0.061155</td>\n",
       "    </tr>\n",
       "    <tr>\n",
       "      <th>3</th>\n",
       "      <td>-0.023718</td>\n",
       "      <td>-0.042664</td>\n",
       "      <td>-0.089686</td>\n",
       "      <td>0.831960</td>\n",
       "      <td>-0.052740</td>\n",
       "      <td>-0.093282</td>\n",
       "      <td>-0.042910</td>\n",
       "      <td>-0.061117</td>\n",
       "      <td>-0.056156</td>\n",
       "      <td>-0.126891</td>\n",
       "      <td>...</td>\n",
       "      <td>-0.047707</td>\n",
       "      <td>-0.067599</td>\n",
       "      <td>-0.040682</td>\n",
       "      <td>-0.122903</td>\n",
       "      <td>-0.118565</td>\n",
       "      <td>-0.077614</td>\n",
       "      <td>-0.078538</td>\n",
       "      <td>-0.075189</td>\n",
       "      <td>-0.080794</td>\n",
       "      <td>-0.102311</td>\n",
       "    </tr>\n",
       "    <tr>\n",
       "      <th>4</th>\n",
       "      <td>-0.027114</td>\n",
       "      <td>-0.039574</td>\n",
       "      <td>-0.088272</td>\n",
       "      <td>-0.119972</td>\n",
       "      <td>-0.062385</td>\n",
       "      <td>-0.093596</td>\n",
       "      <td>-0.045899</td>\n",
       "      <td>-0.062465</td>\n",
       "      <td>-0.056540</td>\n",
       "      <td>-0.165678</td>\n",
       "      <td>...</td>\n",
       "      <td>-0.049285</td>\n",
       "      <td>-0.067515</td>\n",
       "      <td>-0.036253</td>\n",
       "      <td>-0.126445</td>\n",
       "      <td>-0.118097</td>\n",
       "      <td>0.065919</td>\n",
       "      <td>-0.087023</td>\n",
       "      <td>-0.073209</td>\n",
       "      <td>-0.078303</td>\n",
       "      <td>-0.112295</td>\n",
       "    </tr>\n",
       "  </tbody>\n",
       "</table>\n",
       "<p>5 rows × 27 columns</p>\n",
       "</div>"
      ],
      "text/plain": [
       "          1-HR PHOTO  AUTOMOTIVE  BOOKS AND MAGAZINES  \\\n",
       "TripType                                                \n",
       "0          -0.030157   -0.040633            -0.100610   \n",
       "1          -0.033459   -0.040073            -0.106210   \n",
       "2          -0.030746   -0.039743            -0.097005   \n",
       "3          -0.023718   -0.042664            -0.089686   \n",
       "4          -0.027114   -0.039574            -0.088272   \n",
       "\n",
       "          CANDY, TOBACCO, COOKIES  CELEBRATION  ELECTRONICS  \\\n",
       "TripType                                                      \n",
       "0                       -0.155534    -0.062773    -0.092838   \n",
       "1                       -0.116987    -0.058851    -0.095667   \n",
       "2                       -0.107398    -0.056649    -0.093674   \n",
       "3                        0.831960    -0.052740    -0.093282   \n",
       "4                       -0.119972    -0.062385    -0.093596   \n",
       "\n",
       "          FABRICS AND CRAFTS  FINANCIAL SERVICES  HARDWARE  \\\n",
       "TripType                                                     \n",
       "0                  -0.046585            0.930847 -0.059019   \n",
       "1                  -0.046729           -0.064520 -0.061124   \n",
       "2                  -0.044601           -0.060200 -0.055243   \n",
       "3                  -0.042910           -0.061117 -0.056156   \n",
       "4                  -0.045899           -0.062465 -0.056540   \n",
       "\n",
       "          IMPULSE MERCHANDISE            ...             SPORTING GOODS  \\\n",
       "TripType                                 ...                              \n",
       "0                   -0.092882            ...                  -0.048138   \n",
       "1                   -0.130672            ...                  -0.048824   \n",
       "2                   -0.162772            ...                  -0.049110   \n",
       "3                   -0.126891            ...                  -0.047707   \n",
       "4                   -0.165678            ...                  -0.049285   \n",
       "\n",
       "              TOYS   OPTICAL  PHARMACY   CLOTHES  GROCERIES      HOME  \\\n",
       "TripType                                                                \n",
       "0        -0.068573 -0.033769 -0.136883 -0.120324  -0.117914 -0.082446   \n",
       "1        -0.068573 -0.040682  0.788941 -0.120877  -0.086296 -0.086254   \n",
       "2        -0.068030  0.959318  0.857704 -0.108688  -0.096383 -0.081700   \n",
       "3        -0.067599 -0.040682 -0.122903 -0.118565  -0.077614 -0.078538   \n",
       "4        -0.067515 -0.036253 -0.126445 -0.118097   0.065919 -0.087023   \n",
       "\n",
       "          JEWELRY AND ACCESSORIES  HOUSEHOLD GOODS  BEAUTY AND PERSONAL CARE  \n",
       "TripType                                                                      \n",
       "0                       -0.070590        -0.095824                 -0.119977  \n",
       "1                       -0.068582        -0.082143                 -0.091434  \n",
       "2                       -0.070391        -0.083683                 -0.061155  \n",
       "3                       -0.075189        -0.080794                 -0.102311  \n",
       "4                       -0.073209        -0.078303                 -0.112295  \n",
       "\n",
       "[5 rows x 27 columns]"
      ]
     },
     "execution_count": 1896,
     "metadata": {},
     "output_type": "execute_result"
    }
   ],
   "source": [
    "mytestgrouped_categories_norm.head()"
   ]
  },
  {
   "cell_type": "code",
   "execution_count": 1900,
   "metadata": {
    "collapsed": false
   },
   "outputs": [],
   "source": [
    "#items_return_category_counts = mytestgrouped_categories_norm.iloc[:,1:4]\n",
    "days_of_week\n",
    "items_return_category_counts_days = items_return_category_counts.join(days_of_week)"
   ]
  },
  {
   "cell_type": "code",
   "execution_count": 1926,
   "metadata": {
    "collapsed": false
   },
   "outputs": [],
   "source": [
    "items_return_category_counts_days.iloc[:,3:11] = days_of_week_norm"
   ]
  },
  {
   "cell_type": "code",
   "execution_count": 1914,
   "metadata": {
    "collapsed": false
   },
   "outputs": [],
   "source": [
    "#mytestgrouped_categories_norm.insert(0, \"NumItems\", \n",
    "                                     #items_return_category_counts_days.iloc[:,0:1])\n",
    "mytestgrouped_categories_norm.insert(1, \"Return\", \n",
    "                                     items_return_category_counts_days.iloc[:,1:2])\n",
    "mytestgrouped_categories_norm.insert(2, \"CategoryCount\", \n",
    "                                     items_return_category_counts_days.iloc[:,2:3])\n",
    "mytestgrouped_categories_norm.insert(3, \"Monday\", \n",
    "                                     items_return_category_counts_days.iloc[:,3:4])\n",
    "mytestgrouped_categories_norm.insert(4, \"Tuesday\", \n",
    "                                     items_return_category_counts_days.iloc[:,4:5])\n",
    "mytestgrouped_categories_norm.insert(5, \"Wednesday\", \n",
    "                                     items_return_category_counts_days.iloc[:,5:6])\n",
    "mytestgrouped_categories_norm.insert(6, \"Thursday\", \n",
    "                                     items_return_category_counts_days.iloc[:,6:7])\n",
    "mytestgrouped_categories_norm.insert(7, \"Friday\", \n",
    "                                     items_return_category_counts_days.iloc[:,7:8])\n",
    "mytestgrouped_categories_norm.insert(8, \"Saturday\", \n",
    "                                     items_return_category_counts_days.iloc[:,8:9])\n",
    "mytestgrouped_categories_norm.insert(9, \"Sunday\", \n",
    "                                     items_return_category_counts_days.iloc[:,9:10])"
   ]
  },
  {
   "cell_type": "code",
   "execution_count": 1919,
   "metadata": {
    "collapsed": false
   },
   "outputs": [],
   "source": []
  },
  {
   "cell_type": "code",
   "execution_count": 1931,
   "metadata": {
    "collapsed": false
   },
   "outputs": [],
   "source": [
    "mytestgrouped_categories_norm.iloc[:,3:10] = days_of_week_norm"
   ]
  },
  {
   "cell_type": "code",
   "execution_count": 1933,
   "metadata": {
    "collapsed": false
   },
   "outputs": [],
   "source": [
    "mytestgrouped_categories_norm = mytestgrouped_categories_norm.fillna(0)"
   ]
  },
  {
   "cell_type": "code",
   "execution_count": 1943,
   "metadata": {
    "collapsed": false,
    "scrolled": true
   },
   "outputs": [
    {
     "data": {
      "text/plain": [
       "<matplotlib.text.Text at 0x1c66a0fd0>"
      ]
     },
     "execution_count": 1943,
     "metadata": {},
     "output_type": "execute_result"
    },
    {
     "data": {
      "image/png": "[encoded data removed]",
      "text/plain": [
       "<matplotlib.figure.Figure at 0x1895124a8>"
      ]
     },
     "metadata": {},
     "output_type": "display_data"
    }
   ],
   "source": [
    "a4_dims = (13, 9)\n",
    "fig, ax = plt.subplots(figsize=a4_dims)\n",
    "seaborn.heatmap(ax=ax, data=mytestgrouped_categories_norm.T, linecolor='lightgrey', linewidths=.00000000000000001)\n",
    "#heatmap = ax.pcolor(mytestgrouped_categories_norm, cmap=plt.cm.Blues, alpha=0.8)\n",
    "#ax.set_xticklabels(mytestgrouped_categories.columns, minor=False)\n",
    "#ax.set_yticklabels(mytestgrouped_categories_norm.index, minor=False)\n",
    "#ax.invert_yaxis()\n",
    "ax.xaxis.tick_top()\n",
    "#ax.set_yticks(np.arange(mytestgrouped_categories_norm.shape[1]) + 1, minor=False)\n",
    "#ax.set_xticks(np.arange(mytestgrouped_categories_norm.shape[0]) + 1, minor=False)\n",
    "#plt.xticks(rotation=90)\n",
    "#plt.rc('xtick', labelsize=10)\n",
    "plt.title('TripType',y=1.04)\n"
   ]
  },
  {
   "cell_type": "code",
   "execution_count": 970,
   "metadata": {
    "collapsed": false
   },
   "outputs": [
    {
     "data": {
      "text/plain": [
       "<matplotlib.text.Text at 0x1ccc76518>"
      ]
     },
     "execution_count": 970,
     "metadata": {},
     "output_type": "execute_result"
    },
    {
     "data": {
      "image/png": "[encoded data removed]",
      "text/plain": [
       "<matplotlib.figure.Figure at 0x1cc33bc88>"
      ]
     },
     "metadata": {},
     "output_type": "display_data"
    }
   ],
   "source": [
    "\n",
    "a4_dims = (12, 15)\n",
    "fig, ax = plt.subplots(figsize=a4_dims)\n",
    "seaborn.heatmap(ax=ax, data=mytestgrouped_categories_norm_original.T.sort_index(), cmap = 'seismic', linecolor='lightgrey', linewidths=.00000000000000001)\n",
    "#heatmap = ax.pcolor(mytestgrouped_categories_norm, cmap=plt.cm.Blues, alpha=0.8)\n",
    "#ax.set_xticklabels(mytestgrouped_categories.columns, minor=False)\n",
    "#ax.set_yticklabels(mytestgrouped_categories_norm.index, minor=False)\n",
    "#ax.invert_yaxis()\n",
    "ax.xaxis.tick_top()\n",
    "#ax.set_yticks(np.arange(mytestgrouped_categories_norm.shape[1]) + 1, minor=False)\n",
    "#ax.set_xticks(np.arange(mytestgrouped_categories_norm.shape[0]) + 1, minor=False)\n",
    "#plt.xticks(rotation=90)\n",
    "#plt.rc('xtick', labelsize=10)\n",
    "plt.title('TripType',y=1.04)\n"
   ]
  },
  {
   "cell_type": "markdown",
   "metadata": {},
   "source": [
    "When is a return most likely to happen -- during the week"
   ]
  },
  {
   "cell_type": "markdown",
   "metadata": {},
   "source": [
    "Classifying Customers:\n",
    "\n",
    "'The Macy's Shopper' (Trip 17) <br> \n",
    "Likely to buy: Boys' Wear, Girls' Wear, Bras, Ladieswear, Menswear, Plus and Maternity, Sleepwear, Swimwear <br>\n",
    "Likely to shop on:"
   ]
  },
  {
   "cell_type": "markdown",
   "metadata": {},
   "source": [
    "The Booze Run (Trip 3) <br>\n",
    "Candy and Tobacco + Liquor, Wine, and Beer"
   ]
  },
  {
   "cell_type": "markdown",
   "metadata": {},
   "source": [
    "Who's likely to make 'impulse goods'? <br>\n",
    "1) People who go to buy party supplies, seasonal items, and take a trip to the bakery (for a cake?) (Trip 9)\n",
    "2) People going to primarily buy toys. "
   ]
  },
  {
   "cell_type": "markdown",
   "metadata": {},
   "source": [
    "Trip 13\n",
    "When people go to the store for fabrics and office supplies, they are also the most likely person to purchase a book or magazine."
   ]
  },
  {
   "cell_type": "markdown",
   "metadata": {},
   "source": [
    "Food is so important to Walmart's business that it is the most purchased.... and takes up about 5 different categories."
   ]
  },
  {
   "cell_type": "markdown",
   "metadata": {},
   "source": [
    "Many of the trips show someone making a quick trip to Walmart for a singular purpose, such as purchasing 1) Pet Food 2) Automotive goods 3) 1 HR-Photos 4) Infant Goods 5) Paint and Hardware"
   ]
  },
  {
   "cell_type": "code",
   "execution_count": 1223,
   "metadata": {
    "collapsed": true
   },
   "outputs": [],
   "source": [
    "from sklearn.decomposition import PCA\n",
    "from sklearn.cluster import KMeans"
   ]
  },
  {
   "cell_type": "code",
   "execution_count": 1290,
   "metadata": {
    "collapsed": false
   },
   "outputs": [],
   "source": [
    "kmeans = KMeans(2)\n",
    "y_pred = kmeans.fit_predict(mytestgrouped_categories_norm)"
   ]
  },
  {
   "cell_type": "code",
   "execution_count": 1291,
   "metadata": {
    "collapsed": false
   },
   "outputs": [],
   "source": [
    "pca = PCA(n_components=2)\n",
    "pca.fit(mytestgrouped_categories_norm)\n",
    "mytestgrouped_reduced = pca.transform(mytestgrouped_categories_norm)"
   ]
  },
  {
   "cell_type": "code",
   "execution_count": 1415,
   "metadata": {
    "collapsed": false
   },
   "outputs": [
    {
     "data": {
      "image/png": "[encoded data removed]",
      "text/plain": [
       "<matplotlib.figure.Figure at 0x1f4062400>"
      ]
     },
     "metadata": {},
     "output_type": "display_data"
    }
   ],
   "source": [
    "plt.scatter(mytestgrouped_reduced[:, 0], mytestgrouped_reduced[:, 1], c=y_pred, cmap=\"hot\")\n",
    "plt.title(\"Shopper's data in 2 clusters\")\n",
    "plt.show()"
   ]
  },
  {
   "cell_type": "code",
   "execution_count": 1293,
   "metadata": {
    "collapsed": true
   },
   "outputs": [],
   "source": [
    "mytestgrouped_categories_norm['Clusters'] = y_pred"
   ]
  },
  {
   "cell_type": "code",
   "execution_count": 1294,
   "metadata": {
    "collapsed": false
   },
   "outputs": [
    {
     "data": {
      "text/plain": [
       "<matplotlib.axes._subplots.AxesSubplot at 0x1ebe4cb00>"
      ]
     },
     "execution_count": 1294,
     "metadata": {},
     "output_type": "execute_result"
    },
    {
     "data": {
      "image/png": "[encoded data removed]",
      "text/plain": [
       "<matplotlib.figure.Figure at 0x1ebe51320>"
      ]
     },
     "metadata": {},
     "output_type": "display_data"
    }
   ],
   "source": [
    "mytestgrouped_categories_norm.loc[mytestgrouped_categories_norm.Clusters == 0].iloc[:,:-1].mean().plot(kind='barh', figsize=(10,10))"
   ]
  },
  {
   "cell_type": "code",
   "execution_count": 1296,
   "metadata": {
    "collapsed": false
   },
   "outputs": [],
   "source": [
    "cluster_0 = mytestgrouped_categories_norm.loc[mytestgrouped_categories_norm.Clusters == 0]"
   ]
  },
  {
   "cell_type": "code",
   "execution_count": 1297,
   "metadata": {
    "collapsed": true
   },
   "outputs": [],
   "source": [
    "cluster_1 = mytestgrouped_categories_norm.loc[mytestgrouped_categories_norm.Clusters == 1]"
   ]
  },
  {
   "cell_type": "code",
   "execution_count": 1286,
   "metadata": {
    "collapsed": false
   },
   "outputs": [
    {
     "data": {
      "text/plain": [
       "<matplotlib.axes._subplots.AxesSubplot at 0x1eb8d29e8>"
      ]
     },
     "execution_count": 1286,
     "metadata": {},
     "output_type": "execute_result"
    },
    {
     "data": {
      "image/png": "[encoded data removed]",
      "text/plain": [
       "<matplotlib.figure.Figure at 0x1eb8e1080>"
      ]
     },
     "metadata": {},
     "output_type": "display_data"
    }
   ],
   "source": [
    "mytestgrouped_categories_norm.loc[mytestgrouped_categories_norm.Clusters == 1].iloc[:,:-1].mean().plot(kind='barh', figsize=(10,10))"
   ]
  },
  {
   "cell_type": "code",
   "execution_count": 1246,
   "metadata": {
    "collapsed": false
   },
   "outputs": [
    {
     "data": {
      "text/plain": [
       "<matplotlib.axes._subplots.AxesSubplot at 0x1cf0fbd30>"
      ]
     },
     "execution_count": 1246,
     "metadata": {},
     "output_type": "execute_result"
    },
    {
     "data": {
      "image/png": "[encoded data removed]",
      "text/plain": [
       "<matplotlib.figure.Figure at 0x1cf3ed3c8>"
      ]
     },
     "metadata": {},
     "output_type": "display_data"
    }
   ],
   "source": [
    "mytestgrouped_categories_norm.loc[mytestgrouped_categories_norm.Clusters == 3].iloc[:,:-1].mean().plot(kind='barh', figsize=(10,10))"
   ]
  },
  {
   "cell_type": "code",
   "execution_count": 1362,
   "metadata": {
    "collapsed": false
   },
   "outputs": [
    {
     "data": {
      "text/plain": [
       "Int64Index([9, 10, 13, 16, 17, 18, 22, 27, 28, 29, 31, 32, 33, 34, 35, 36], dtype='int64', name='TripType')"
      ]
     },
     "execution_count": 1362,
     "metadata": {},
     "output_type": "execute_result"
    }
   ],
   "source": [
    "cluster_1.index"
   ]
  },
  {
   "cell_type": "code",
   "execution_count": 1382,
   "metadata": {
    "collapsed": false
   },
   "outputs": [],
   "source": [
    "cluster_1_data = data1grouped.iloc[cluster_1.index -1]"
   ]
  },
  {
   "cell_type": "code",
   "execution_count": 1392,
   "metadata": {
    "collapsed": false
   },
   "outputs": [],
   "source": [
    "cluster_0_data = data1grouped.iloc[cluster_0.index -1][1:]"
   ]
  },
  {
   "cell_type": "code",
   "execution_count": 1401,
   "metadata": {
    "collapsed": false
   },
   "outputs": [],
   "source": [
    "cluster_0_means = cluster_0_data.mean()\n",
    "cluster_1_means = cluster_1_data.mean()"
   ]
  },
  {
   "cell_type": "code",
   "execution_count": 1488,
   "metadata": {
    "collapsed": false
   },
   "outputs": [
    {
     "data": {
      "text/plain": [
       "0.84730000000000005"
      ]
     },
     "execution_count": 1488,
     "metadata": {},
     "output_type": "execute_result"
    }
   ],
   "source": [
    "log_loss(mytest.TripType, test_predictions1).round(5)"
   ]
  },
  {
   "cell_type": "code",
   "execution_count": 1498,
   "metadata": {
    "collapsed": false
   },
   "outputs": [],
   "source": [
    "test_predictions_df = pd.DataFrame(test_predictions1).set_index(mytest.index)"
   ]
  },
  {
   "cell_type": "code",
   "execution_count": 1496,
   "metadata": {
    "collapsed": false
   },
   "outputs": [
    {
     "data": {
      "text/plain": [
       "Int64Index([ 30365, 104896, 129484, 130211,  14804,  44058, 128385, 107284,\n",
       "             76242, 171503,\n",
       "            ...\n",
       "             98030, 116322,  70508,  57161,  26180, 117910, 179777,  46730,\n",
       "             75261, 176066],\n",
       "           dtype='int64', name='VisitNumber', length=38270)"
      ]
     },
     "execution_count": 1496,
     "metadata": {},
     "output_type": "execute_result"
    }
   ],
   "source": [
    "mytest.index"
   ]
  },
  {
   "cell_type": "code",
   "execution_count": 1520,
   "metadata": {
    "collapsed": false
   },
   "outputs": [
    {
     "data": {
      "text/html": [
       "<div>\n",
       "<table border=\"1\" class=\"dataframe\">\n",
       "  <thead>\n",
       "    <tr style=\"text-align: right;\">\n",
       "      <th></th>\n",
       "      <th>Probability</th>\n",
       "    </tr>\n",
       "    <tr>\n",
       "      <th>VisitNumber</th>\n",
       "      <th></th>\n",
       "    </tr>\n",
       "  </thead>\n",
       "  <tbody>\n",
       "    <tr>\n",
       "      <th>30365</th>\n",
       "      <td>0.932102</td>\n",
       "    </tr>\n",
       "    <tr>\n",
       "      <th>104896</th>\n",
       "      <td>0.743857</td>\n",
       "    </tr>\n",
       "    <tr>\n",
       "      <th>129484</th>\n",
       "      <td>0.999257</td>\n",
       "    </tr>\n",
       "    <tr>\n",
       "      <th>130211</th>\n",
       "      <td>0.881695</td>\n",
       "    </tr>\n",
       "    <tr>\n",
       "      <th>14804</th>\n",
       "      <td>0.354972</td>\n",
       "    </tr>\n",
       "  </tbody>\n",
       "</table>\n",
       "</div>"
      ],
      "text/plain": [
       "             Probability\n",
       "VisitNumber             \n",
       "30365           0.932102\n",
       "104896          0.743857\n",
       "129484          0.999257\n",
       "130211          0.881695\n",
       "14804           0.354972"
      ]
     },
     "execution_count": 1520,
     "metadata": {},
     "output_type": "execute_result"
    }
   ],
   "source": [
    "pd.DataFrame(test_predictions_df.max(axis=1)).rename(columns={0:\"Probability\"}).head()"
   ]
  },
  {
   "cell_type": "code",
   "execution_count": 1517,
   "metadata": {
    "collapsed": false
   },
   "outputs": [],
   "source": [
    "test_predictions_max = pd.DataFrame(test_predictions_df.idxmax(axis=1)).rename(columns={0:\"TripType\"}).join(pd.DataFrame(test_predictions_df.max(axis=1)).rename(columns={0:\"Probability\"}))"
   ]
  },
  {
   "cell_type": "code",
   "execution_count": 1519,
   "metadata": {
    "collapsed": false
   },
   "outputs": [
    {
     "data": {
      "text/html": [
       "<div>\n",
       "<table border=\"1\" class=\"dataframe\">\n",
       "  <thead>\n",
       "    <tr style=\"text-align: right;\">\n",
       "      <th></th>\n",
       "      <th>TripType</th>\n",
       "      <th>Probability</th>\n",
       "    </tr>\n",
       "    <tr>\n",
       "      <th>VisitNumber</th>\n",
       "      <th></th>\n",
       "      <th></th>\n",
       "    </tr>\n",
       "  </thead>\n",
       "  <tbody>\n",
       "    <tr>\n",
       "      <th>30365</th>\n",
       "      <td>17</td>\n",
       "      <td>0.932102</td>\n",
       "    </tr>\n",
       "    <tr>\n",
       "      <th>104896</th>\n",
       "      <td>9</td>\n",
       "      <td>0.743857</td>\n",
       "    </tr>\n",
       "    <tr>\n",
       "      <th>129484</th>\n",
       "      <td>37</td>\n",
       "      <td>0.999257</td>\n",
       "    </tr>\n",
       "    <tr>\n",
       "      <th>130211</th>\n",
       "      <td>24</td>\n",
       "      <td>0.881695</td>\n",
       "    </tr>\n",
       "    <tr>\n",
       "      <th>14804</th>\n",
       "      <td>31</td>\n",
       "      <td>0.354972</td>\n",
       "    </tr>\n",
       "  </tbody>\n",
       "</table>\n",
       "</div>"
      ],
      "text/plain": [
       "             TripType  Probability\n",
       "VisitNumber                       \n",
       "30365              17     0.932102\n",
       "104896              9     0.743857\n",
       "129484             37     0.999257\n",
       "130211             24     0.881695\n",
       "14804              31     0.354972"
      ]
     },
     "execution_count": 1519,
     "metadata": {},
     "output_type": "execute_result"
    }
   ],
   "source": [
    "test_predictions_max.head()"
   ]
  },
  {
   "cell_type": "code",
   "execution_count": 1608,
   "metadata": {
    "collapsed": false
   },
   "outputs": [],
   "source": [
    "top_three_probs = pd.DataFrame(np.sort(test_predictions1, axis=1)).iloc[:,35:38]\n",
    "top_three_probs = top_three_probs[[37, 36, 35]]\n",
    "top_three_probs = top_three_probs.rename(columns={37:\"Probability1\", 36:\"Probability2\", 35:\"Probability3\"})"
   ]
  },
  {
   "cell_type": "code",
   "execution_count": 1619,
   "metadata": {
    "collapsed": false
   },
   "outputs": [],
   "source": [
    "def return_probabilities(predictions_array):\n",
    "    top_three_probs = pd.DataFrame(np.sort(predictions_array, axis=1)).iloc[:,35:38]\n",
    "    top_three_probs = top_three_probs[[37, 36, 35]]\n",
    "    top_three_probs = top_three_probs.rename(columns={37:\"Probability1\", 36:\"Probability2\", 35:\"Probability3\"})\n",
    "\n",
    "    top_three_types =  pd.DataFrame(np.argsort(predictions_array, axis=1)).iloc[:,35:38]\n",
    "    top_three_types = top_three_types[[37, 36, 35]]\n",
    "    top_three_types = top_three_types.rename(columns={37:\"Most Likely\", 36:\"Second Most Likely\", 35:\"Third Most Likely\"})\n",
    "    top_three_types = top_three_types.astype(str)\n",
    "\n",
    "    top_three_combined = top_three_types.join(top_three_probs)\n",
    "    top_three_combined = top_three_combined[[\"Most Likely\", \"Probability1\", \"Second Most Likely\", \n",
    "                                             \"Probability2\", \"Third Most Likely\", \"Probability3\"]]\n",
    "    top_three_combined = top_three_combined.rename(columns={\"Probability1\": \"1st Probability\", \n",
    "                                            \"Probability2\": \"2nd Probability\", \"Probability3\": \"3rd Probability\"})\n",
    "    return top_three_combined"
   ]
  },
  {
   "cell_type": "code",
   "execution_count": 1610,
   "metadata": {
    "collapsed": false
   },
   "outputs": [
    {
     "data": {
      "text/html": [
       "<div>\n",
       "<table border=\"1\" class=\"dataframe\">\n",
       "  <thead>\n",
       "    <tr style=\"text-align: right;\">\n",
       "      <th></th>\n",
       "      <th>Probability1</th>\n",
       "      <th>Probability2</th>\n",
       "      <th>Probability3</th>\n",
       "    </tr>\n",
       "  </thead>\n",
       "  <tbody>\n",
       "    <tr>\n",
       "      <th>0</th>\n",
       "      <td>0.932102</td>\n",
       "      <td>0.020483</td>\n",
       "      <td>0.019415</td>\n",
       "    </tr>\n",
       "    <tr>\n",
       "      <th>1</th>\n",
       "      <td>0.743857</td>\n",
       "      <td>0.064125</td>\n",
       "      <td>0.056784</td>\n",
       "    </tr>\n",
       "    <tr>\n",
       "      <th>2</th>\n",
       "      <td>0.999257</td>\n",
       "      <td>0.000611</td>\n",
       "      <td>0.000066</td>\n",
       "    </tr>\n",
       "    <tr>\n",
       "      <th>3</th>\n",
       "      <td>0.881695</td>\n",
       "      <td>0.045226</td>\n",
       "      <td>0.026878</td>\n",
       "    </tr>\n",
       "    <tr>\n",
       "      <th>4</th>\n",
       "      <td>0.354972</td>\n",
       "      <td>0.319159</td>\n",
       "      <td>0.204149</td>\n",
       "    </tr>\n",
       "  </tbody>\n",
       "</table>\n",
       "</div>"
      ],
      "text/plain": [
       "   Probability1  Probability2  Probability3\n",
       "0      0.932102      0.020483      0.019415\n",
       "1      0.743857      0.064125      0.056784\n",
       "2      0.999257      0.000611      0.000066\n",
       "3      0.881695      0.045226      0.026878\n",
       "4      0.354972      0.319159      0.204149"
      ]
     },
     "execution_count": 1610,
     "metadata": {},
     "output_type": "execute_result"
    }
   ],
   "source": [
    "top_three_probs.head()"
   ]
  },
  {
   "cell_type": "code",
   "execution_count": 1611,
   "metadata": {
    "collapsed": false
   },
   "outputs": [
    {
     "data": {
      "text/html": [
       "<div>\n",
       "<table border=\"1\" class=\"dataframe\">\n",
       "  <thead>\n",
       "    <tr style=\"text-align: right;\">\n",
       "      <th></th>\n",
       "      <th>Most Likely</th>\n",
       "      <th>Second Most Likely</th>\n",
       "      <th>Third Most Likely</th>\n",
       "    </tr>\n",
       "  </thead>\n",
       "  <tbody>\n",
       "    <tr>\n",
       "      <th>0</th>\n",
       "      <td>17</td>\n",
       "      <td>37</td>\n",
       "      <td>6</td>\n",
       "    </tr>\n",
       "    <tr>\n",
       "      <th>1</th>\n",
       "      <td>9</td>\n",
       "      <td>31</td>\n",
       "      <td>34</td>\n",
       "    </tr>\n",
       "    <tr>\n",
       "      <th>2</th>\n",
       "      <td>37</td>\n",
       "      <td>6</td>\n",
       "      <td>5</td>\n",
       "    </tr>\n",
       "    <tr>\n",
       "      <th>3</th>\n",
       "      <td>24</td>\n",
       "      <td>17</td>\n",
       "      <td>35</td>\n",
       "    </tr>\n",
       "    <tr>\n",
       "      <th>4</th>\n",
       "      <td>31</td>\n",
       "      <td>24</td>\n",
       "      <td>29</td>\n",
       "    </tr>\n",
       "  </tbody>\n",
       "</table>\n",
       "</div>"
      ],
      "text/plain": [
       "  Most Likely Second Most Likely Third Most Likely\n",
       "0          17                 37                 6\n",
       "1           9                 31                34\n",
       "2          37                  6                 5\n",
       "3          24                 17                35\n",
       "4          31                 24                29"
      ]
     },
     "execution_count": 1611,
     "metadata": {},
     "output_type": "execute_result"
    }
   ],
   "source": [
    "top_three_types.head()"
   ]
  },
  {
   "cell_type": "code",
   "execution_count": 1612,
   "metadata": {
    "collapsed": false
   },
   "outputs": [],
   "source": [
    "top_three_combined = top_three_types.join(top_three_probs)\n",
    "top_three_combined = top_three_combined[[\"Most Likely\", \"Probability1\", \"Second Most Likely\", \n",
    "                                         \"Probability2\", \"Third Most Likely\", \"Probability3\"]]\n",
    "top_three_combined = top_three_combined.rename(columns={\"Probability1\": \"1st Probability\", \n",
    "                                        \"Probability2\": \"2nd Probability\", \"Probability3\": \"3rd Probability\"})"
   ]
  },
  {
   "cell_type": "code",
   "execution_count": 1614,
   "metadata": {
    "collapsed": false
   },
   "outputs": [],
   "source": []
  },
  {
   "cell_type": "code",
   "execution_count": 1618,
   "metadata": {
    "collapsed": false
   },
   "outputs": [],
   "source": []
  },
  {
   "cell_type": "code",
   "execution_count": 1587,
   "metadata": {
    "collapsed": true
   },
   "outputs": [],
   "source": [
    "my_test_sample = xgb.DMatrix(np.asarray(mytest_train.iloc[0:1]))\n",
    "test_predictions_sample = bst.predict(my_test_sample)"
   ]
  },
  {
   "cell_type": "code",
   "execution_count": 1620,
   "metadata": {
    "collapsed": false
   },
   "outputs": [
    {
     "data": {
      "text/html": [
       "<div>\n",
       "<table border=\"1\" class=\"dataframe\">\n",
       "  <thead>\n",
       "    <tr style=\"text-align: right;\">\n",
       "      <th></th>\n",
       "      <th>Most Likely</th>\n",
       "      <th>1st Probability</th>\n",
       "      <th>Second Most Likely</th>\n",
       "      <th>2nd Probability</th>\n",
       "      <th>Third Most Likely</th>\n",
       "      <th>3rd Probability</th>\n",
       "    </tr>\n",
       "  </thead>\n",
       "  <tbody>\n",
       "    <tr>\n",
       "      <th>0</th>\n",
       "      <td>17</td>\n",
       "      <td>0.932102</td>\n",
       "      <td>37</td>\n",
       "      <td>0.020483</td>\n",
       "      <td>6</td>\n",
       "      <td>0.019415</td>\n",
       "    </tr>\n",
       "  </tbody>\n",
       "</table>\n",
       "</div>"
      ],
      "text/plain": [
       "  Most Likely  1st Probability Second Most Likely  2nd Probability  \\\n",
       "0          17         0.932102                 37         0.020483   \n",
       "\n",
       "  Third Most Likely  3rd Probability  \n",
       "0                 6         0.019415  "
      ]
     },
     "execution_count": 1620,
     "metadata": {},
     "output_type": "execute_result"
    }
   ],
   "source": [
    "return_probabilities(test_predictions_sample)"
   ]
  },
  {
   "cell_type": "code",
   "execution_count": 1621,
   "metadata": {
    "collapsed": false
   },
   "outputs": [
    {
     "data": {
      "text/plain": [
       "<xgboost.core.DMatrix at 0x1f38aadd8>"
      ]
     },
     "execution_count": 1621,
     "metadata": {},
     "output_type": "execute_result"
    }
   ],
   "source": []
  },
  {
   "cell_type": "code",
   "execution_count": 1680,
   "metadata": {
    "collapsed": false
   },
   "outputs": [
    {
     "data": {
      "text/html": [
       "<div>\n",
       "<table border=\"1\" class=\"dataframe\">\n",
       "  <thead>\n",
       "    <tr style=\"text-align: right;\">\n",
       "      <th></th>\n",
       "      <th>Weekday</th>\n",
       "      <th>NumItems</th>\n",
       "      <th>Return</th>\n",
       "      <th>CategoryCounts</th>\n",
       "      <th>ACCESSORIES</th>\n",
       "      <th>AUTOMOTIVE</th>\n",
       "      <th>BAKERY</th>\n",
       "      <th>BATH AND SHOWER</th>\n",
       "      <th>BEAUTY</th>\n",
       "      <th>BEDDING</th>\n",
       "      <th>...</th>\n",
       "      <th>805.0</th>\n",
       "      <th>3704.0</th>\n",
       "      <th>4500.0</th>\n",
       "      <th>1352.0</th>\n",
       "      <th>3175.0</th>\n",
       "      <th>1009.0</th>\n",
       "      <th>2804.0</th>\n",
       "      <th>2352.0</th>\n",
       "      <th>10.0</th>\n",
       "      <th>7557.0</th>\n",
       "    </tr>\n",
       "    <tr>\n",
       "      <th>VisitNumber</th>\n",
       "      <th></th>\n",
       "      <th></th>\n",
       "      <th></th>\n",
       "      <th></th>\n",
       "      <th></th>\n",
       "      <th></th>\n",
       "      <th></th>\n",
       "      <th></th>\n",
       "      <th></th>\n",
       "      <th></th>\n",
       "      <th></th>\n",
       "      <th></th>\n",
       "      <th></th>\n",
       "      <th></th>\n",
       "      <th></th>\n",
       "      <th></th>\n",
       "      <th></th>\n",
       "      <th></th>\n",
       "      <th></th>\n",
       "      <th></th>\n",
       "      <th></th>\n",
       "    </tr>\n",
       "  </thead>\n",
       "  <tbody>\n",
       "    <tr>\n",
       "      <th>30365</th>\n",
       "      <td>2</td>\n",
       "      <td>4</td>\n",
       "      <td>0</td>\n",
       "      <td>1</td>\n",
       "      <td>0</td>\n",
       "      <td>0</td>\n",
       "      <td>0</td>\n",
       "      <td>0</td>\n",
       "      <td>0</td>\n",
       "      <td>0</td>\n",
       "      <td>...</td>\n",
       "      <td>0</td>\n",
       "      <td>0</td>\n",
       "      <td>0</td>\n",
       "      <td>0</td>\n",
       "      <td>0</td>\n",
       "      <td>0</td>\n",
       "      <td>0</td>\n",
       "      <td>0</td>\n",
       "      <td>0</td>\n",
       "      <td>0</td>\n",
       "    </tr>\n",
       "  </tbody>\n",
       "</table>\n",
       "<p>1 rows × 343 columns</p>\n",
       "</div>"
      ],
      "text/plain": [
       "             Weekday  NumItems  Return  CategoryCounts  ACCESSORIES  \\\n",
       "VisitNumber                                                           \n",
       "30365              2         4       0               1            0   \n",
       "\n",
       "             AUTOMOTIVE  BAKERY  BATH AND SHOWER  BEAUTY  BEDDING   ...    \\\n",
       "VisitNumber                                                         ...     \n",
       "30365                 0       0                0       0        0   ...     \n",
       "\n",
       "             805.0  3704.0  4500.0  1352.0  3175.0  1009.0  2804.0  2352.0  \\\n",
       "VisitNumber                                                                  \n",
       "30365            0       0       0       0       0       0       0       0   \n",
       "\n",
       "             10.0  7557.0  \n",
       "VisitNumber                \n",
       "30365           0       0  \n",
       "\n",
       "[1 rows x 343 columns]"
      ]
     },
     "execution_count": 1680,
     "metadata": {},
     "output_type": "execute_result"
    }
   ],
   "source": [
    "mytest_train.iloc[0:1].loc[(mytest_train.iloc[0:1] != 0).any(1)]"
   ]
  },
  {
   "cell_type": "code",
   "execution_count": 1742,
   "metadata": {
    "collapsed": true
   },
   "outputs": [],
   "source": [
    "df_sample = mytest_train.iloc[0:1]"
   ]
  },
  {
   "cell_type": "code",
   "execution_count": 1761,
   "metadata": {
    "collapsed": true
   },
   "outputs": [],
   "source": [
    "\n",
    "def make_and_return_predictions(data):\n",
    "    my_test_sample = xgb.DMatrix(np.asarray(data))\n",
    "    test_predictions_sample = bst.predict(my_test_sample)\n",
    "    top_three_probs = pd.DataFrame(np.sort(test_predictions_sample, axis=1)).iloc[:,35:38]\n",
    "    top_three_probs = top_three_probs[[37, 36, 35]]\n",
    "    top_three_probs = top_three_probs.rename(columns={37:\"Probability1\", 36:\"Probability2\", 35:\"Probability3\"})\n",
    "\n",
    "    top_three_types =  pd.DataFrame(np.argsort(test_predictions_sample, axis=1)).iloc[:,35:38]\n",
    "    top_three_types = top_three_types[[37, 36, 35]]\n",
    "    top_three_types = top_three_types.rename(columns={37:\"Most Likely\", 36:\"Second Most Likely\", 35:\"Third Most Likely\"})\n",
    "    top_three_types = top_three_types.astype(str)\n",
    "\n",
    "    top_three_combined = top_three_types.join(top_three_probs)\n",
    "    top_three_combined = top_three_combined[[\"Most Likely\", \"Probability1\", \"Second Most Likely\", \n",
    "                                             \"Probability2\", \"Third Most Likely\", \"Probability3\"]]\n",
    "    top_three_combined = top_three_combined.rename(columns={\"Probability1\": \"1st Probability\", \n",
    "                                            \"Probability2\": \"2nd Probability\", \"Probability3\": \"3rd Probability\"})\n",
    "    return top_three_combined\n",
    "\n",
    "def non_zeros(data):   \n",
    "    df_sample_short = data[data != 0].dropna(axis=1)\n",
    "    return df_sample_short"
   ]
  },
  {
   "cell_type": "code",
   "execution_count": 1708,
   "metadata": {
    "collapsed": false
   },
   "outputs": [],
   "source": [
    "x = make_predictions(df_sample)"
   ]
  },
  {
   "cell_type": "code",
   "execution_count": 1738,
   "metadata": {
    "collapsed": false
   },
   "outputs": [
    {
     "data": {
      "text/html": [
       "<div>\n",
       "<table border=\"1\" class=\"dataframe\">\n",
       "  <thead>\n",
       "    <tr style=\"text-align: right;\">\n",
       "      <th></th>\n",
       "      <th>Most Likely</th>\n",
       "      <th>1st Probability</th>\n",
       "      <th>Second Most Likely</th>\n",
       "      <th>2nd Probability</th>\n",
       "      <th>Third Most Likely</th>\n",
       "      <th>3rd Probability</th>\n",
       "    </tr>\n",
       "  </thead>\n",
       "  <tbody>\n",
       "    <tr>\n",
       "      <th>0</th>\n",
       "      <td>10</td>\n",
       "      <td>0.770337</td>\n",
       "      <td>21</td>\n",
       "      <td>0.117212</td>\n",
       "      <td>7</td>\n",
       "      <td>0.067522</td>\n",
       "    </tr>\n",
       "  </tbody>\n",
       "</table>\n",
       "</div>"
      ],
      "text/plain": [
       "  Most Likely  1st Probability Second Most Likely  2nd Probability  \\\n",
       "0          10         0.770337                 21         0.117212   \n",
       "\n",
       "  Third Most Likely  3rd Probability  \n",
       "0                 7         0.067522  "
      ]
     },
     "execution_count": 1738,
     "metadata": {},
     "output_type": "execute_result"
    }
   ],
   "source": []
  },
  {
   "cell_type": "code",
   "execution_count": 1737,
   "metadata": {
    "collapsed": true
   },
   "outputs": [],
   "source": []
  },
  {
   "cell_type": "code",
   "execution_count": 1758,
   "metadata": {
    "collapsed": false
   },
   "outputs": [],
   "source": [
    "df_sample = df_sample.reset_index()\n",
    "del df_sample[\"VisitNumber\"]\n",
    "df_sample[\"Weekday\"] = 0\n",
    "df_sample[\"NumItems\"] = 0\n",
    "df_sample[\"CategoryCounts\"] = 0\n",
    "df_sample[\"BOYS WEAR\"] = 0\n"
   ]
  },
  {
   "cell_type": "code",
   "execution_count": 1759,
   "metadata": {
    "collapsed": false
   },
   "outputs": [
    {
     "data": {
      "text/html": [
       "<div>\n",
       "<table border=\"1\" class=\"dataframe\">\n",
       "  <thead>\n",
       "    <tr style=\"text-align: right;\">\n",
       "      <th></th>\n",
       "      <th>Weekday</th>\n",
       "      <th>NumItems</th>\n",
       "      <th>Return</th>\n",
       "      <th>CategoryCounts</th>\n",
       "      <th>ACCESSORIES</th>\n",
       "      <th>AUTOMOTIVE</th>\n",
       "      <th>BAKERY</th>\n",
       "      <th>BATH AND SHOWER</th>\n",
       "      <th>BEAUTY</th>\n",
       "      <th>BEDDING</th>\n",
       "      <th>...</th>\n",
       "      <th>805.0</th>\n",
       "      <th>3704.0</th>\n",
       "      <th>4500.0</th>\n",
       "      <th>1352.0</th>\n",
       "      <th>3175.0</th>\n",
       "      <th>1009.0</th>\n",
       "      <th>2804.0</th>\n",
       "      <th>2352.0</th>\n",
       "      <th>10.0</th>\n",
       "      <th>7557.0</th>\n",
       "    </tr>\n",
       "  </thead>\n",
       "  <tbody>\n",
       "    <tr>\n",
       "      <th>0</th>\n",
       "      <td>0</td>\n",
       "      <td>0</td>\n",
       "      <td>0</td>\n",
       "      <td>0</td>\n",
       "      <td>0</td>\n",
       "      <td>0</td>\n",
       "      <td>0</td>\n",
       "      <td>0</td>\n",
       "      <td>0</td>\n",
       "      <td>0</td>\n",
       "      <td>...</td>\n",
       "      <td>0</td>\n",
       "      <td>0</td>\n",
       "      <td>0</td>\n",
       "      <td>0</td>\n",
       "      <td>0</td>\n",
       "      <td>0</td>\n",
       "      <td>0</td>\n",
       "      <td>0</td>\n",
       "      <td>0</td>\n",
       "      <td>0</td>\n",
       "    </tr>\n",
       "  </tbody>\n",
       "</table>\n",
       "<p>1 rows × 343 columns</p>\n",
       "</div>"
      ],
      "text/plain": [
       "   Weekday  NumItems  Return  CategoryCounts  ACCESSORIES  AUTOMOTIVE  BAKERY  \\\n",
       "0        0         0       0               0            0           0       0   \n",
       "\n",
       "   BATH AND SHOWER  BEAUTY  BEDDING   ...    805.0  3704.0  4500.0  1352.0  \\\n",
       "0                0       0        0   ...        0       0       0       0   \n",
       "\n",
       "   3175.0  1009.0  2804.0  2352.0  10.0  7557.0  \n",
       "0       0       0       0       0     0       0  \n",
       "\n",
       "[1 rows x 343 columns]"
      ]
     },
     "execution_count": 1759,
     "metadata": {},
     "output_type": "execute_result"
    }
   ],
   "source": [
    "df_sample"
   ]
  },
  {
   "cell_type": "code",
   "execution_count": 1762,
   "metadata": {
    "collapsed": false
   },
   "outputs": [
    {
     "data": {
      "text/html": [
       "<div>\n",
       "<table border=\"1\" class=\"dataframe\">\n",
       "  <thead>\n",
       "    <tr style=\"text-align: right;\">\n",
       "      <th></th>\n",
       "      <th>Weekday</th>\n",
       "      <th>NumItems</th>\n",
       "      <th>CategoryCounts</th>\n",
       "      <th>TOYS</th>\n",
       "    </tr>\n",
       "  </thead>\n",
       "  <tbody>\n",
       "    <tr>\n",
       "      <th>0</th>\n",
       "      <td>6</td>\n",
       "      <td>4</td>\n",
       "      <td>1</td>\n",
       "      <td>4</td>\n",
       "    </tr>\n",
       "  </tbody>\n",
       "</table>\n",
       "</div>"
      ],
      "text/plain": [
       "   Weekday  NumItems  CategoryCounts  TOYS\n",
       "0        6         4               1     4"
      ]
     },
     "execution_count": 1762,
     "metadata": {},
     "output_type": "execute_result"
    }
   ],
   "source": [
    "non_zeros(df_sample)"
   ]
  },
  {
   "cell_type": "code",
   "execution_count": 1763,
   "metadata": {
    "collapsed": false
   },
   "outputs": [
    {
     "data": {
      "text/html": [
       "<div>\n",
       "<table border=\"1\" class=\"dataframe\">\n",
       "  <thead>\n",
       "    <tr style=\"text-align: right;\">\n",
       "      <th></th>\n",
       "      <th>Most Likely</th>\n",
       "      <th>1st Probability</th>\n",
       "      <th>Second Most Likely</th>\n",
       "      <th>2nd Probability</th>\n",
       "      <th>Third Most Likely</th>\n",
       "      <th>3rd Probability</th>\n",
       "    </tr>\n",
       "  </thead>\n",
       "  <tbody>\n",
       "    <tr>\n",
       "      <th>0</th>\n",
       "      <td>10</td>\n",
       "      <td>0.830562</td>\n",
       "      <td>21</td>\n",
       "      <td>0.11014</td>\n",
       "      <td>7</td>\n",
       "      <td>0.021242</td>\n",
       "    </tr>\n",
       "  </tbody>\n",
       "</table>\n",
       "</div>"
      ],
      "text/plain": [
       "  Most Likely  1st Probability Second Most Likely  2nd Probability  \\\n",
       "0          10         0.830562                 21          0.11014   \n",
       "\n",
       "  Third Most Likely  3rd Probability  \n",
       "0                 7         0.021242  "
      ]
     },
     "execution_count": 1763,
     "metadata": {},
     "output_type": "execute_result"
    }
   ],
   "source": [
    "make_and_return_predictions(df_sample)"
   ]
  },
  {
   "cell_type": "code",
   "execution_count": 2035,
   "metadata": {
    "collapsed": false
   },
   "outputs": [
    {
     "data": {
      "text/html": [
       "<div>\n",
       "<table border=\"1\" class=\"dataframe\">\n",
       "  <thead>\n",
       "    <tr style=\"text-align: right;\">\n",
       "      <th></th>\n",
       "      <th>Weekday</th>\n",
       "      <th>NumItems</th>\n",
       "      <th>BOOKS AND MAGAZINES</th>\n",
       "      <th>FINANCIAL SERVICES</th>\n",
       "      <th>SLEEPWEAR/FOUNDATIONS</th>\n",
       "    </tr>\n",
       "  </thead>\n",
       "  <tbody>\n",
       "    <tr>\n",
       "      <th>0</th>\n",
       "      <td>6</td>\n",
       "      <td>9</td>\n",
       "      <td>2</td>\n",
       "      <td>4</td>\n",
       "      <td>3</td>\n",
       "    </tr>\n",
       "  </tbody>\n",
       "</table>\n",
       "</div>"
      ],
      "text/plain": [
       "   Weekday  NumItems  BOOKS AND MAGAZINES  FINANCIAL SERVICES  \\\n",
       "0        6         9                    2                   4   \n",
       "\n",
       "   SLEEPWEAR/FOUNDATIONS  \n",
       "0                      3  "
      ]
     },
     "execution_count": 2035,
     "metadata": {},
     "output_type": "execute_result"
    }
   ],
   "source": [
    "df_sample['ACCESSORIES'] = 0\n",
    "df_sample['AUTOMOTIVE'] = 0\n",
    "df_sample['BAKERY'] = 0\n",
    "df_sample['BATH AND SHOWER'] = 0\n",
    "df_sample['BEAUTY'] = 0\n",
    "df_sample['BEDDING'] = 0\n",
    "df_sample['BOOKS AND MAGAZINES'] = 2\n",
    "df_sample['BOYS WEAR'] = 0\n",
    "df_sample['BRAS & SHAPEWEAR'] = 0\n",
    "df_sample['CAMERAS AND SUPPLIES'] = 0\n",
    "df_sample['CANDY, TOBACCO, COOKIES'] = 0\n",
    "df_sample['CELEBRATION'] = 0\n",
    "df_sample['COMM BREAD'] = 0\n",
    "df_sample['CONCEPT STORES'] = 0\n",
    "df_sample['COOK AND DINE'] = 0\n",
    "df_sample['DAIRY'] = 0\n",
    "df_sample['DSD GROCERY'] = 0\n",
    "df_sample['ELECTRONICS'] = 0\n",
    "df_sample['FABRICS AND CRAFTS'] = 0\n",
    "df_sample['FINANCIAL SERVICES'] = 4\n",
    "df_sample['FROZEN FOODS'] = 0\n",
    "df_sample['FURNITURE'] = 0\n",
    "df_sample['GIRLS WEAR, 4-6X  AND 7-14'] = 0\n",
    "df_sample['GROCERY DRY GOODS'] = 0\n",
    "df_sample['HARDWARE'] = 0\n",
    "df_sample['HOME DECOR'] = 0\n",
    "df_sample['HOME MANAGEMENT'] = 0\n",
    "df_sample['HORTICULTURE AND ACCESS'] = 0\n",
    "df_sample['HOUSEHOLD CHEMICALS/SUPP'] = 0\n",
    "df_sample['HOUSEHOLD PAPER GOODS'] = 0\n",
    "df_sample['IMPULSE MERCHANDISE'] = 0\n",
    "df_sample['INFANT APPAREL'] = 0\n",
    "df_sample['INFANT CONSUMABLE HARDLINES'] = 0\n",
    "df_sample['JEWELRY AND SUNGLASSES'] = 0\n",
    "df_sample['LADIES SOCKS'] = 0\n",
    "df_sample['LADIESWEAR'] = 0\n",
    "df_sample['LARGE HOUSEHOLD GOODS'] = 0\n",
    "df_sample['LAWN AND GARDEN'] = 0\n",
    "df_sample['LIQUOR,WINE,BEER'] = 0\n",
    "df_sample['MEAT - FRESH & FROZEN'] = 0\n",
    "df_sample['MEDIA AND GAMING'] = 0\n",
    "df_sample['MENS WEAR'] = 0\n",
    "df_sample['MENSWEAR'] = 0\n",
    "df_sample['OFFICE SUPPLIES'] = 0\n",
    "df_sample['OPTICAL - FRAMES'] = 0\n",
    "df_sample['OPTICAL - LENSES'] = 0\n",
    "df_sample['OTHER DEPARTMENTS'] = 0\n",
    "df_sample['PAINT AND ACCESSORIES'] = 0\n",
    "df_sample['PERSONAL CARE'] = 0\n",
    "df_sample['PETS AND SUPPLIES'] = 0\n",
    "df_sample['PHARMACY OTC'] = 0\n",
    "df_sample['PHARMACY RX'] = 0\n",
    "df_sample['PLAYERS AND ELECTRONICS'] = 0\n",
    "df_sample['PLUS AND MATERNITY'] = 0\n",
    "df_sample['PRE PACKED DELI'] = 0\n",
    "df_sample['PRODUCE'] = 0\n",
    "df_sample['SEAFOOD'] = 0\n",
    "df_sample['SEASONAL'] = 0\n",
    "df_sample['SERVICE DELI'] = 0\n",
    "df_sample['SHEER HOSIERY'] = 0\n",
    "df_sample['SHOES'] = 0\n",
    "df_sample['SLEEPWEAR/FOUNDATIONS'] = 3\n",
    "df_sample['SPORTING GOODS'] = 0\n",
    "df_sample['SWIMWEAR/OUTERWEAR'] = 0\n",
    "df_sample['TOYS'] = 0\n",
    "df_sample['WIRELESS'] = 0\n",
    "\n",
    "df_sample['Weekday'] = 6\n",
    "df_sample['NumItems'] = 9\n",
    "df_sample['Return'] = 0\n",
    "df_sample['CategoryCounts'] = 0\n",
    "\n",
    "non_zeros(df_sample)"
   ]
  },
  {
   "cell_type": "code",
   "execution_count": 2036,
   "metadata": {
    "collapsed": false
   },
   "outputs": [
    {
     "data": {
      "text/html": [
       "<div>\n",
       "<table border=\"1\" class=\"dataframe\">\n",
       "  <thead>\n",
       "    <tr style=\"text-align: right;\">\n",
       "      <th></th>\n",
       "      <th>Most Likely</th>\n",
       "      <th>1st Probability</th>\n",
       "      <th>Second Most Likely</th>\n",
       "      <th>2nd Probability</th>\n",
       "      <th>Third Most Likely</th>\n",
       "      <th>3rd Probability</th>\n",
       "    </tr>\n",
       "  </thead>\n",
       "  <tbody>\n",
       "    <tr>\n",
       "      <th>0</th>\n",
       "      <td>17</td>\n",
       "      <td>0.6747</td>\n",
       "      <td>37</td>\n",
       "      <td>0.193013</td>\n",
       "      <td>10</td>\n",
       "      <td>0.022748</td>\n",
       "    </tr>\n",
       "  </tbody>\n",
       "</table>\n",
       "</div>"
      ],
      "text/plain": [
       "  Most Likely  1st Probability Second Most Likely  2nd Probability  \\\n",
       "0          17           0.6747                 37         0.193013   \n",
       "\n",
       "  Third Most Likely  3rd Probability  \n",
       "0                10         0.022748  "
      ]
     },
     "execution_count": 2036,
     "metadata": {},
     "output_type": "execute_result"
    }
   ],
   "source": [
    "x = make_predictions(df_sample)\n",
    "return_probabilities(x)"
   ]
  },
  {
   "cell_type": "markdown",
   "metadata": {},
   "source": [
    "TripTypes <br>\n",
    "0: Financial Services Trip <br>\n",
    "1: Pharmacy Trip <br>\n",
    "2: Opticals and Pharmacy Trip <br>\n",
    "3: The Vices Trip  <br>\n",
    "4: Quick Grocery Run  <br>\n",
    "5: Miscellaneous #2  <br>\n",
    "6: Miscellaneous #3  <br>\n",
    "7: Weekend Miscellaneous <br>\n",
    "8: Bed Bath and Beyond Trip  <br>\n",
    "9: Party City Trip  <br>\n",
    "10: Toys-R-Us Trip  <br>\n",
    "11: Best Buy Trip  <br>\n",
    "12: Auto Store Trip  <br>\n",
    "13: Staples Trip  <br>\n",
    "14: 1-HR Photo and Camera Trip  <br>\n",
    "15: Weekend Best Buy Trip  <br>\n",
    "16: Crate & Barrel Trip  <br>\n",
    "17: Clothing Trip  <br>\n",
    "18: Hardware Trip  <br>\n",
    "19: Lawn and Garden Trip  <br>\n",
    "20: Sporting Goods Trip  <br>\n",
    "21: Toys and Sporting Goods Trip  <br>\n",
    "22: Jewelry Trip  <br>\n",
    "23: Cellphone/Seasonal Trip  <br>\n",
    "24: Diaper Run <br>\n",
    "25: Toilet Paper and Cleanings Supply Run  <br>\n",
    "26: Pets Trip  <br>\n",
    "27: Junk Food Run  <br>\n",
    "28: Beauty Aisle Trip  <br>\n",
    "29: Full Grocery Trip  <br>\n",
    "30: Grocery Staples Trip  <br>\n",
    "31: General Grocery Trip  <br>\n",
    "32: Grocery and Household Trip  <br>\n",
    "33: Clothes and Grocery Trip    <br>\n",
    "34: Everything Trip  <br>\n",
    "35: Woman's Clothes and Home Trip  <br>\n",
    "36: The Household and Everything Trip <br>\n",
    "37: Returns Trip  <br>\n",
    "\n",
    "\n"
   ]
  },
  {
   "cell_type": "code",
   "execution_count": null,
   "metadata": {
    "collapsed": true
   },
   "outputs": [],
   "source": []
  }
 ],
 "metadata": {
  "kernelspec": {
   "display_name": "Python 3",
   "language": "python",
   "name": "python3"
  },
  "language_info": {
   "codemirror_mode": {
    "name": "ipython",
    "version": 3
   },
   "file_extension": ".py",
   "mimetype": "text/x-python",
   "name": "python",
   "nbconvert_exporter": "python",
   "pygments_lexer": "ipython3",
   "version": "3.5.0"
  }
 },
 "nbformat": 4,
 "nbformat_minor": 0
}
